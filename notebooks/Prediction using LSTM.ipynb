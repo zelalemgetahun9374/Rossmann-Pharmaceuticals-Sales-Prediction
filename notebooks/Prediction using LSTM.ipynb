{
 "cells": [
  {
   "cell_type": "markdown",
   "metadata": {},
   "source": [
    "# Rossman Pharmaceutical Sales Prediction"
   ]
  },
  {
   "cell_type": "markdown",
   "metadata": {},
   "source": [
    "## Imports"
   ]
  },
  {
   "cell_type": "code",
   "execution_count": 3,
   "metadata": {},
   "outputs": [],
   "source": [
    "import numpy as np\n",
    "import pandas as pd\n",
    "import mlflow\n",
    "import warnings\n",
    "import pickle\n",
    "import matplotlib.pyplot as plt\n",
    "from matplotlib.gridspec import GridSpec\n",
    "from matplotlib import ticker\n",
    "from statsmodels.tsa.stattools import adfuller, acf, pacf\n",
    "from sklearn.preprocessing import MinMaxScaler\n",
    "from sklearn.preprocessing import StandardScaler\n",
    "import tensorflow as tf\n",
    "from tensorflow.keras.models import Sequential\n",
    "from tensorflow.keras.layers import Dense\n",
    "from tensorflow.keras.layers import LSTM"
   ]
  },
  {
   "cell_type": "code",
   "execution_count": 4,
   "metadata": {},
   "outputs": [],
   "source": [
    "# sns.set()\n",
    "%matplotlib inline\n",
    "warnings.filterwarnings(\"ignore\")"
   ]
  },
  {
   "cell_type": "code",
   "execution_count": 5,
   "metadata": {},
   "outputs": [],
   "source": [
    "sys.path.append(os.path.abspath(os.path.join('../scripts')))\n",
    "from file_handler import FileHandler"
   ]
  },
  {
   "cell_type": "markdown",
   "metadata": {},
   "source": [
    "## Preprocessing"
   ]
  },
  {
   "cell_type": "markdown",
   "metadata": {},
   "source": [
    "We have alreadyseen which features influence sales in the exploratory section. And we have used many of the columns for the 4 machine learning models used as seen in the scripts. But for LSTM only the date and sales columns will be used."
   ]
  },
  {
   "cell_type": "code",
   "execution_count": 6,
   "metadata": {},
   "outputs": [],
   "source": [
    "file_handler = FileHandler()\n",
    "train_sales = file_handler.read_csv(\"../data/train.csv\")"
   ]
  },
  {
   "cell_type": "code",
   "execution_count": 8,
   "metadata": {},
   "outputs": [
    {
     "data": {
      "text/html": "<div>\n<style scoped>\n    .dataframe tbody tr th:only-of-type {\n        vertical-align: middle;\n    }\n\n    .dataframe tbody tr th {\n        vertical-align: top;\n    }\n\n    .dataframe thead th {\n        text-align: right;\n    }\n</style>\n<table border=\"1\" class=\"dataframe\">\n  <thead>\n    <tr style=\"text-align: right;\">\n      <th></th>\n      <th>Sales</th>\n    </tr>\n    <tr>\n      <th>Date</th>\n      <th></th>\n    </tr>\n  </thead>\n  <tbody>\n    <tr>\n      <th>2013-01-01</th>\n      <td>87.284560</td>\n    </tr>\n    <tr>\n      <th>2013-01-02</th>\n      <td>6233.030493</td>\n    </tr>\n    <tr>\n      <th>2013-01-03</th>\n      <td>5693.112108</td>\n    </tr>\n    <tr>\n      <th>2013-01-04</th>\n      <td>5954.218834</td>\n    </tr>\n    <tr>\n      <th>2013-01-05</th>\n      <td>5337.751570</td>\n    </tr>\n    <tr>\n      <th>...</th>\n      <td>...</td>\n    </tr>\n    <tr>\n      <th>2015-07-27</th>\n      <td>9602.952466</td>\n    </tr>\n    <tr>\n      <th>2015-07-28</th>\n      <td>8174.953363</td>\n    </tr>\n    <tr>\n      <th>2015-07-29</th>\n      <td>7623.284305</td>\n    </tr>\n    <tr>\n      <th>2015-07-30</th>\n      <td>7891.348879</td>\n    </tr>\n    <tr>\n      <th>2015-07-31</th>\n      <td>9067.033184</td>\n    </tr>\n  </tbody>\n</table>\n<p>942 rows × 1 columns</p>\n</div>",
      "text/plain": "                  Sales\nDate                   \n2013-01-01    87.284560\n2013-01-02  6233.030493\n2013-01-03  5693.112108\n2013-01-04  5954.218834\n2013-01-05  5337.751570\n...                 ...\n2015-07-27  9602.952466\n2015-07-28  8174.953363\n2015-07-29  7623.284305\n2015-07-30  7891.348879\n2015-07-31  9067.033184\n\n[942 rows x 1 columns]"
     },
     "execution_count": 8,
     "metadata": {},
     "output_type": "execute_result"
    }
   ],
   "source": [
    "data = train_sales.groupby(\"Date\").agg({\"Sales\": \"mean\"})\n",
    "data"
   ]
  },
  {
   "cell_type": "code",
   "execution_count": 9,
   "metadata": {},
   "outputs": [],
   "source": [
    "scaler = StandardScaler()\n",
    "scaled_array = scaler.fit_transform(data)\n",
    "data['DataScaled'] = scaled_array\n"
   ]
  },
  {
   "cell_type": "code",
   "execution_count": 10,
   "metadata": {},
   "outputs": [],
   "source": [
    "SIZE = len(data.DataScaled)\n",
    "WINDOW_SIZE = 48\n",
    "BATCH_SIZE = SIZE - WINDOW_SIZE * 2\n",
    "EPOCHS = 200"
   ]
  },
  {
   "cell_type": "code",
   "execution_count": 11,
   "metadata": {},
   "outputs": [
    {
     "name": "stdout",
     "output_type": "stream",
     "text": [
      "Shape of the training set date series:  (846, 1)\n",
      "Shape of the validation set date series:  (96, 1)\n",
      "\n",
      "Shape of the training set logarithm of sales series:  (846,)\n",
      "Shape of the validation set logarithm of sales series in a stateless LSTM:  (96,)\n"
     ]
    }
   ],
   "source": [
    "DateTrain = data.index.values[0:BATCH_SIZE]\n",
    "DateValid = data.index.values[BATCH_SIZE:]\n",
    "XTrain = data.DataScaled.values[0:BATCH_SIZE].astype('float32')\n",
    "XValid = data.DataScaled.values[BATCH_SIZE:].astype('float32')\n",
    "\n",
    "# Obtain shapes for vectors of size (,1) for dates series\n",
    "\n",
    "DateTrain = np.reshape(DateTrain, (-1, 1))\n",
    "DateValid = np.reshape(DateValid, (-1, 1))\n",
    "\n",
    "print(\"Shape of the training set date series: \", DateTrain.shape)\n",
    "print(\"Shape of the validation set date series: \", DateValid.shape)\n",
    "print()\n",
    "print(\"Shape of the training set logarithm of sales series: \", XTrain.shape)\n",
    "print(\"Shape of the validation set logarithm of sales series in a stateless LSTM: \", XValid.shape)\n"
   ]
  },
  {
   "cell_type": "code",
   "execution_count": 12,
   "metadata": {},
   "outputs": [
    {
     "data": {
      "text/plain": "TensorShape([846, 1])"
     },
     "execution_count": 12,
     "metadata": {},
     "output_type": "execute_result"
    }
   ],
   "source": [
    "tf.random.set_seed(1234)\n",
    "# add extra dimension\n",
    "series = tf.expand_dims(XTrain, axis=-1)\n",
    "series.shape\n"
   ]
  },
  {
   "cell_type": "code",
   "execution_count": 13,
   "metadata": {},
   "outputs": [
    {
     "data": {
      "text/plain": "<TensorSliceDataset shapes: (1,), types: tf.float32>"
     },
     "execution_count": 13,
     "metadata": {},
     "output_type": "execute_result"
    }
   ],
   "source": [
    "# create tensor from each individual element\n",
    "dataset = tf.data.Dataset.from_tensor_slices(series)\n",
    "dataset\n"
   ]
  },
  {
   "cell_type": "code",
   "execution_count": 14,
   "metadata": {},
   "outputs": [],
   "source": [
    "# takes a window_size + 1 chunk from the slices\n",
    "dataset = dataset.window(WINDOW_SIZE + 1, shift=1, drop_remainder=True)\n"
   ]
  },
  {
   "cell_type": "code",
   "execution_count": 15,
   "metadata": {},
   "outputs": [
    {
     "name": "stdout",
     "output_type": "stream",
     "text": [
      "[0, 1, 2, 3, 4]\n",
      "[1, 2, 3, 4, 5]\n",
      "[2, 3, 4, 5, 6]\n",
      "[3, 4, 5, 6, 7]\n",
      "[4, 5, 6, 7, 8]\n",
      "[5, 6, 7, 8, 9]\n"
     ]
    }
   ],
   "source": [
    "# Example of Window\n",
    "datasetEx = tf.data.Dataset.from_tensor_slices(tf.range(10))\n",
    "datasetEx = datasetEx.window(5, shift=1, drop_remainder=True)\n",
    "for window in datasetEx:\n",
    "    print([elem.numpy() for elem in window])\n"
   ]
  },
  {
   "cell_type": "code",
   "execution_count": 16,
   "metadata": {},
   "outputs": [],
   "source": [
    "dataset = dataset.flat_map(lambda window: window.batch(WINDOW_SIZE + 1))\n"
   ]
  },
  {
   "cell_type": "code",
   "execution_count": 17,
   "metadata": {},
   "outputs": [],
   "source": [
    "dataset = dataset.map(lambda window: (window[:-1], window[-1:]))\n"
   ]
  },
  {
   "cell_type": "code",
   "execution_count": 18,
   "metadata": {},
   "outputs": [],
   "source": [
    "dataset = dataset.batch(BATCH_SIZE).prefetch(1)\n"
   ]
  },
  {
   "cell_type": "code",
   "execution_count": 19,
   "metadata": {},
   "outputs": [],
   "source": [
    "def windowed_dataset(series, window_size=WINDOW_SIZE, batch_size=BATCH_SIZE):\n",
    "  series = tf.expand_dims(series, axis=-1)\n",
    "  dataset = tf.data.Dataset.from_tensor_slices(series)\n",
    "  dataset = dataset.window(window_size + 1, shift=1, drop_remainder=True)\n",
    "  dataset = dataset.flat_map(lambda window: window.batch(window_size + 1))\n",
    "  dataset = dataset.map(lambda window: (window[:-1], window[-1:]))\n",
    "  dataset = dataset.batch(batch_size).prefetch(1)\n",
    "  return dataset\n"
   ]
  },
  {
   "cell_type": "code",
   "execution_count": 20,
   "metadata": {},
   "outputs": [],
   "source": [
    "DatasetTrain = windowed_dataset(XTrain)\n",
    "DatasetVal = windowed_dataset(XValid)\n"
   ]
  },
  {
   "cell_type": "markdown",
   "metadata": {},
   "source": [
    "## Model Training"
   ]
  },
  {
   "cell_type": "code",
   "execution_count": 21,
   "metadata": {},
   "outputs": [],
   "source": [
    "model = Sequential()\n",
    "model.add(LSTM(8, input_shape=[None, 1], return_sequences=True))\n",
    "model.add(LSTM(4, input_shape=[None, 1]))\n",
    "model.add(Dense(1))\n",
    "model.compile(loss=\"huber_loss\", optimizer='adam')\n"
   ]
  },
  {
   "cell_type": "code",
   "execution_count": null,
   "metadata": {},
   "outputs": [
    {
     "name": "stdout",
     "output_type": "stream",
     "text": [
      "Model: \"sequential\"\n",
      "_________________________________________________________________\n",
      "Layer (type)                 Output Shape              Param #   \n",
      "=================================================================\n",
      "lstm (LSTM)                  (None, None, 8)           320       \n",
      "_________________________________________________________________\n",
      "lstm_1 (LSTM)                (None, 4)                 208       \n",
      "_________________________________________________________________\n",
      "dense (Dense)                (None, 1)                 5         \n",
      "=================================================================\n",
      "Total params: 533\n",
      "Trainable params: 533\n",
      "Non-trainable params: 0\n",
      "_________________________________________________________________\n"
     ]
    }
   ],
   "source": [
    "model.summary()\n"
   ]
  },
  {
   "cell_type": "code",
   "execution_count": 22,
   "metadata": {},
   "outputs": [
    {
     "name": "stdout",
     "output_type": "stream",
     "text": [
      "Epoch 1/200\n",
      "1/1 [==============================] - 3s 3s/step - loss: 0.4081 - val_loss: 0.3956\n",
      "Epoch 2/200\n",
      "WARNING:tensorflow:From /home/z/.local/lib/python3.8/site-packages/tensorflow/python/ops/summary_ops_v2.py:1277: stop (from tensorflow.python.eager.profiler) is deprecated and will be removed after 2020-07-01.\n",
      "Instructions for updating:\n",
      "use `tf.profiler.experimental.stop` instead.\n",
      "1/1 [==============================] - 0s 133ms/step - loss: 0.4073 - val_loss: 0.3943\n",
      "Epoch 3/200\n",
      "1/1 [==============================] - 0s 123ms/step - loss: 0.4066 - val_loss: 0.3929\n",
      "Epoch 4/200\n",
      "1/1 [==============================] - 0s 71ms/step - loss: 0.4059 - val_loss: 0.3916\n",
      "Epoch 5/200\n",
      "1/1 [==============================] - 0s 87ms/step - loss: 0.4052 - val_loss: 0.3903\n",
      "Epoch 6/200\n",
      "1/1 [==============================] - 0s 81ms/step - loss: 0.4045 - val_loss: 0.3890\n",
      "Epoch 7/200\n",
      "1/1 [==============================] - 0s 78ms/step - loss: 0.4039 - val_loss: 0.3877\n",
      "Epoch 8/200\n",
      "1/1 [==============================] - 0s 71ms/step - loss: 0.4032 - val_loss: 0.3864\n",
      "Epoch 9/200\n",
      "1/1 [==============================] - 0s 73ms/step - loss: 0.4026 - val_loss: 0.3852\n",
      "Epoch 10/200\n",
      "1/1 [==============================] - 0s 82ms/step - loss: 0.4020 - val_loss: 0.3839\n",
      "Epoch 11/200\n",
      "1/1 [==============================] - 0s 71ms/step - loss: 0.4015 - val_loss: 0.3826\n",
      "Epoch 12/200\n",
      "1/1 [==============================] - 0s 76ms/step - loss: 0.4009 - val_loss: 0.3814\n",
      "Epoch 13/200\n",
      "1/1 [==============================] - 0s 77ms/step - loss: 0.4004 - val_loss: 0.3801\n",
      "Epoch 14/200\n",
      "1/1 [==============================] - 0s 78ms/step - loss: 0.3999 - val_loss: 0.3789\n",
      "Epoch 15/200\n",
      "1/1 [==============================] - 0s 77ms/step - loss: 0.3994 - val_loss: 0.3777\n",
      "Epoch 16/200\n",
      "1/1 [==============================] - 0s 85ms/step - loss: 0.3989 - val_loss: 0.3765\n",
      "Epoch 17/200\n",
      "1/1 [==============================] - 0s 232ms/step - loss: 0.3985 - val_loss: 0.3753\n",
      "Epoch 18/200\n",
      "1/1 [==============================] - 0s 134ms/step - loss: 0.3981 - val_loss: 0.3741\n",
      "Epoch 19/200\n",
      "1/1 [==============================] - 0s 70ms/step - loss: 0.3977 - val_loss: 0.3730\n",
      "Epoch 20/200\n",
      "1/1 [==============================] - 0s 73ms/step - loss: 0.3973 - val_loss: 0.3718\n",
      "Epoch 21/200\n",
      "1/1 [==============================] - 0s 66ms/step - loss: 0.3970 - val_loss: 0.3707\n",
      "Epoch 22/200\n",
      "1/1 [==============================] - 0s 93ms/step - loss: 0.3967 - val_loss: 0.3697\n",
      "Epoch 23/200\n",
      "1/1 [==============================] - 0s 80ms/step - loss: 0.3964 - val_loss: 0.3686\n",
      "Epoch 24/200\n",
      "1/1 [==============================] - 0s 62ms/step - loss: 0.3961 - val_loss: 0.3676\n",
      "Epoch 25/200\n",
      "1/1 [==============================] - 0s 70ms/step - loss: 0.3959 - val_loss: 0.3666\n",
      "Epoch 26/200\n",
      "1/1 [==============================] - 0s 81ms/step - loss: 0.3957 - val_loss: 0.3656\n",
      "Epoch 27/200\n",
      "1/1 [==============================] - 0s 89ms/step - loss: 0.3955 - val_loss: 0.3647\n",
      "Epoch 28/200\n",
      "1/1 [==============================] - 0s 124ms/step - loss: 0.3953 - val_loss: 0.3639\n",
      "Epoch 29/200\n",
      "1/1 [==============================] - 0s 78ms/step - loss: 0.3951 - val_loss: 0.3631\n",
      "Epoch 30/200\n",
      "1/1 [==============================] - 0s 80ms/step - loss: 0.3950 - val_loss: 0.3623\n",
      "Epoch 31/200\n",
      "1/1 [==============================] - 0s 268ms/step - loss: 0.3949 - val_loss: 0.3616\n",
      "Epoch 32/200\n",
      "1/1 [==============================] - 0s 66ms/step - loss: 0.3947 - val_loss: 0.3610\n",
      "Epoch 33/200\n",
      "1/1 [==============================] - 0s 80ms/step - loss: 0.3946 - val_loss: 0.3604\n",
      "Epoch 34/200\n",
      "1/1 [==============================] - 0s 61ms/step - loss: 0.3944 - val_loss: 0.3598\n",
      "Epoch 35/200\n",
      "1/1 [==============================] - 0s 75ms/step - loss: 0.3943 - val_loss: 0.3594\n",
      "Epoch 36/200\n",
      "1/1 [==============================] - 0s 47ms/step - loss: 0.3941 - val_loss: 0.3590\n",
      "Epoch 37/200\n",
      "1/1 [==============================] - 0s 63ms/step - loss: 0.3940 - val_loss: 0.3586\n",
      "Epoch 38/200\n",
      "1/1 [==============================] - 0s 75ms/step - loss: 0.3938 - val_loss: 0.3583\n",
      "Epoch 39/200\n",
      "1/1 [==============================] - 0s 73ms/step - loss: 0.3936 - val_loss: 0.3581\n",
      "Epoch 40/200\n",
      "1/1 [==============================] - 0s 71ms/step - loss: 0.3935 - val_loss: 0.3579\n",
      "Epoch 41/200\n",
      "1/1 [==============================] - 0s 79ms/step - loss: 0.3933 - val_loss: 0.3578\n",
      "Epoch 42/200\n",
      "1/1 [==============================] - 0s 73ms/step - loss: 0.3931 - val_loss: 0.3577\n",
      "Epoch 43/200\n",
      "1/1 [==============================] - 0s 50ms/step - loss: 0.3929 - val_loss: 0.3576\n",
      "Epoch 44/200\n",
      "1/1 [==============================] - 0s 47ms/step - loss: 0.3927 - val_loss: 0.3576\n",
      "Epoch 45/200\n",
      "1/1 [==============================] - 0s 67ms/step - loss: 0.3925 - val_loss: 0.3575\n",
      "Epoch 46/200\n",
      "1/1 [==============================] - 0s 53ms/step - loss: 0.3923 - val_loss: 0.3575\n",
      "Epoch 47/200\n",
      "1/1 [==============================] - 0s 73ms/step - loss: 0.3921 - val_loss: 0.3575\n",
      "Epoch 48/200\n",
      "1/1 [==============================] - 0s 48ms/step - loss: 0.3919 - val_loss: 0.3576\n",
      "Epoch 49/200\n",
      "1/1 [==============================] - 0s 47ms/step - loss: 0.3917 - val_loss: 0.3575\n",
      "Epoch 50/200\n",
      "1/1 [==============================] - 0s 45ms/step - loss: 0.3915 - val_loss: 0.3575\n",
      "Epoch 51/200\n",
      "1/1 [==============================] - 0s 48ms/step - loss: 0.3913 - val_loss: 0.3575\n",
      "Epoch 52/200\n",
      "1/1 [==============================] - 0s 45ms/step - loss: 0.3911 - val_loss: 0.3574\n",
      "Epoch 53/200\n",
      "1/1 [==============================] - 0s 46ms/step - loss: 0.3909 - val_loss: 0.3573\n",
      "Epoch 54/200\n",
      "1/1 [==============================] - 0s 81ms/step - loss: 0.3908 - val_loss: 0.3572\n",
      "Epoch 55/200\n",
      "1/1 [==============================] - 0s 66ms/step - loss: 0.3906 - val_loss: 0.3570\n",
      "Epoch 56/200\n",
      "1/1 [==============================] - 0s 74ms/step - loss: 0.3904 - val_loss: 0.3568\n",
      "Epoch 57/200\n",
      "1/1 [==============================] - 0s 70ms/step - loss: 0.3902 - val_loss: 0.3566\n",
      "Epoch 58/200\n",
      "1/1 [==============================] - 0s 45ms/step - loss: 0.3900 - val_loss: 0.3563\n",
      "Epoch 59/200\n",
      "1/1 [==============================] - 0s 46ms/step - loss: 0.3898 - val_loss: 0.3559\n",
      "Epoch 60/200\n",
      "1/1 [==============================] - 0s 94ms/step - loss: 0.3896 - val_loss: 0.3556\n",
      "Epoch 61/200\n",
      "1/1 [==============================] - 0s 85ms/step - loss: 0.3894 - val_loss: 0.3551\n",
      "Epoch 62/200\n",
      "1/1 [==============================] - 0s 76ms/step - loss: 0.3892 - val_loss: 0.3547\n",
      "Epoch 63/200\n",
      "1/1 [==============================] - 0s 75ms/step - loss: 0.3889 - val_loss: 0.3542\n",
      "Epoch 64/200\n",
      "1/1 [==============================] - 0s 77ms/step - loss: 0.3887 - val_loss: 0.3537\n",
      "Epoch 65/200\n",
      "1/1 [==============================] - 0s 97ms/step - loss: 0.3885 - val_loss: 0.3531\n",
      "Epoch 66/200\n",
      "1/1 [==============================] - 0s 80ms/step - loss: 0.3883 - val_loss: 0.3526\n",
      "Epoch 67/200\n",
      "1/1 [==============================] - 0s 78ms/step - loss: 0.3881 - val_loss: 0.3520\n",
      "Epoch 68/200\n",
      "1/1 [==============================] - 0s 83ms/step - loss: 0.3878 - val_loss: 0.3514\n",
      "Epoch 69/200\n",
      "1/1 [==============================] - 0s 69ms/step - loss: 0.3876 - val_loss: 0.3508\n",
      "Epoch 70/200\n",
      "1/1 [==============================] - 0s 67ms/step - loss: 0.3874 - val_loss: 0.3503\n",
      "Epoch 71/200\n",
      "1/1 [==============================] - 0s 75ms/step - loss: 0.3872 - val_loss: 0.3497\n",
      "Epoch 72/200\n",
      "1/1 [==============================] - 0s 80ms/step - loss: 0.3869 - val_loss: 0.3492\n",
      "Epoch 73/200\n",
      "1/1 [==============================] - 0s 67ms/step - loss: 0.3867 - val_loss: 0.3487\n",
      "Epoch 74/200\n",
      "1/1 [==============================] - 0s 71ms/step - loss: 0.3864 - val_loss: 0.3482\n",
      "Epoch 75/200\n",
      "1/1 [==============================] - 0s 66ms/step - loss: 0.3862 - val_loss: 0.3477\n",
      "Epoch 76/200\n",
      "1/1 [==============================] - 0s 52ms/step - loss: 0.3860 - val_loss: 0.3473\n",
      "Epoch 77/200\n",
      "1/1 [==============================] - 0s 48ms/step - loss: 0.3857 - val_loss: 0.3469\n",
      "Epoch 78/200\n",
      "1/1 [==============================] - 0s 47ms/step - loss: 0.3855 - val_loss: 0.3465\n",
      "Epoch 79/200\n",
      "1/1 [==============================] - 0s 68ms/step - loss: 0.3852 - val_loss: 0.3461\n",
      "Epoch 80/200\n",
      "1/1 [==============================] - 0s 77ms/step - loss: 0.3849 - val_loss: 0.3457\n",
      "Epoch 81/200\n",
      "1/1 [==============================] - 0s 74ms/step - loss: 0.3847 - val_loss: 0.3453\n",
      "Epoch 82/200\n",
      "1/1 [==============================] - 0s 69ms/step - loss: 0.3844 - val_loss: 0.3450\n",
      "Epoch 83/200\n",
      "1/1 [==============================] - 0s 190ms/step - loss: 0.3841 - val_loss: 0.3446\n",
      "Epoch 84/200\n",
      "1/1 [==============================] - 0s 68ms/step - loss: 0.3839 - val_loss: 0.3443\n",
      "Epoch 85/200\n",
      "1/1 [==============================] - 0s 77ms/step - loss: 0.3836 - val_loss: 0.3439\n",
      "Epoch 86/200\n",
      "1/1 [==============================] - 1s 506ms/step - loss: 0.3833 - val_loss: 0.3435\n",
      "Epoch 87/200\n",
      "1/1 [==============================] - 0s 67ms/step - loss: 0.3830 - val_loss: 0.3430\n",
      "Epoch 88/200\n",
      "1/1 [==============================] - 0s 76ms/step - loss: 0.3828 - val_loss: 0.3426\n",
      "Epoch 89/200\n",
      "1/1 [==============================] - 0s 71ms/step - loss: 0.3825 - val_loss: 0.3421\n",
      "Epoch 90/200\n",
      "1/1 [==============================] - 0s 70ms/step - loss: 0.3822 - val_loss: 0.3416\n",
      "Epoch 91/200\n",
      "1/1 [==============================] - 0s 83ms/step - loss: 0.3819 - val_loss: 0.3411\n",
      "Epoch 92/200\n",
      "1/1 [==============================] - 0s 77ms/step - loss: 0.3816 - val_loss: 0.3406\n",
      "Epoch 93/200\n",
      "1/1 [==============================] - 0s 65ms/step - loss: 0.3813 - val_loss: 0.3401\n",
      "Epoch 94/200\n",
      "1/1 [==============================] - 0s 99ms/step - loss: 0.3810 - val_loss: 0.3395\n",
      "Epoch 95/200\n",
      "1/1 [==============================] - 0s 67ms/step - loss: 0.3807 - val_loss: 0.3390\n",
      "Epoch 96/200\n",
      "1/1 [==============================] - 0s 72ms/step - loss: 0.3804 - val_loss: 0.3385\n",
      "Epoch 97/200\n",
      "1/1 [==============================] - 0s 92ms/step - loss: 0.3801 - val_loss: 0.3380\n",
      "Epoch 98/200\n",
      "1/1 [==============================] - 0s 68ms/step - loss: 0.3798 - val_loss: 0.3375\n",
      "Epoch 99/200\n",
      "1/1 [==============================] - 0s 54ms/step - loss: 0.3795 - val_loss: 0.3370\n",
      "Epoch 100/200\n",
      "1/1 [==============================] - 0s 76ms/step - loss: 0.3792 - val_loss: 0.3366\n",
      "Epoch 101/200\n",
      "1/1 [==============================] - 0s 47ms/step - loss: 0.3789 - val_loss: 0.3361\n",
      "Epoch 102/200\n",
      "1/1 [==============================] - 0s 78ms/step - loss: 0.3786 - val_loss: 0.3357\n",
      "Epoch 103/200\n",
      "1/1 [==============================] - 0s 66ms/step - loss: 0.3783 - val_loss: 0.3353\n",
      "Epoch 104/200\n",
      "1/1 [==============================] - 0s 74ms/step - loss: 0.3780 - val_loss: 0.3348\n",
      "Epoch 105/200\n",
      "1/1 [==============================] - 0s 63ms/step - loss: 0.3777 - val_loss: 0.3344\n",
      "Epoch 106/200\n",
      "1/1 [==============================] - 0s 65ms/step - loss: 0.3773 - val_loss: 0.3339\n",
      "Epoch 107/200\n",
      "1/1 [==============================] - 0s 48ms/step - loss: 0.3770 - val_loss: 0.3335\n",
      "Epoch 108/200\n",
      "1/1 [==============================] - 0s 50ms/step - loss: 0.3767 - val_loss: 0.3330\n",
      "Epoch 109/200\n",
      "1/1 [==============================] - 0s 50ms/step - loss: 0.3764 - val_loss: 0.3325\n",
      "Epoch 110/200\n",
      "1/1 [==============================] - 0s 49ms/step - loss: 0.3761 - val_loss: 0.3319\n",
      "Epoch 111/200\n",
      "1/1 [==============================] - 0s 50ms/step - loss: 0.3758 - val_loss: 0.3314\n",
      "Epoch 112/200\n",
      "1/1 [==============================] - 0s 50ms/step - loss: 0.3755 - val_loss: 0.3308\n",
      "Epoch 113/200\n",
      "1/1 [==============================] - 0s 48ms/step - loss: 0.3752 - val_loss: 0.3303\n",
      "Epoch 114/200\n",
      "1/1 [==============================] - 0s 54ms/step - loss: 0.3748 - val_loss: 0.3297\n",
      "Epoch 115/200\n",
      "1/1 [==============================] - 0s 80ms/step - loss: 0.3745 - val_loss: 0.3291\n",
      "Epoch 116/200\n",
      "1/1 [==============================] - 0s 48ms/step - loss: 0.3742 - val_loss: 0.3285\n",
      "Epoch 117/200\n",
      "1/1 [==============================] - 0s 78ms/step - loss: 0.3739 - val_loss: 0.3279\n",
      "Epoch 118/200\n",
      "1/1 [==============================] - 0s 96ms/step - loss: 0.3736 - val_loss: 0.3274\n",
      "Epoch 119/200\n",
      "1/1 [==============================] - 0s 212ms/step - loss: 0.3732 - val_loss: 0.3268\n",
      "Epoch 120/200\n",
      "1/1 [==============================] - 0s 62ms/step - loss: 0.3729 - val_loss: 0.3263\n",
      "Epoch 121/200\n",
      "1/1 [==============================] - 0s 79ms/step - loss: 0.3726 - val_loss: 0.3258\n",
      "Epoch 122/200\n",
      "1/1 [==============================] - 0s 65ms/step - loss: 0.3723 - val_loss: 0.3253\n",
      "Epoch 123/200\n",
      "1/1 [==============================] - 0s 69ms/step - loss: 0.3719 - val_loss: 0.3248\n",
      "Epoch 124/200\n",
      "1/1 [==============================] - 0s 74ms/step - loss: 0.3716 - val_loss: 0.3244\n",
      "Epoch 125/200\n",
      "1/1 [==============================] - 0s 65ms/step - loss: 0.3713 - val_loss: 0.3239\n",
      "Epoch 126/200\n",
      "1/1 [==============================] - 0s 70ms/step - loss: 0.3709 - val_loss: 0.3234\n",
      "Epoch 127/200\n",
      "1/1 [==============================] - 0s 82ms/step - loss: 0.3706 - val_loss: 0.3230\n",
      "Epoch 128/200\n",
      "1/1 [==============================] - 0s 63ms/step - loss: 0.3702 - val_loss: 0.3225\n",
      "Epoch 129/200\n",
      "1/1 [==============================] - 0s 65ms/step - loss: 0.3699 - val_loss: 0.3221\n",
      "Epoch 130/200\n",
      "1/1 [==============================] - 0s 167ms/step - loss: 0.3695 - val_loss: 0.3216\n",
      "Epoch 131/200\n",
      "1/1 [==============================] - 0s 92ms/step - loss: 0.3692 - val_loss: 0.3211\n",
      "Epoch 132/200\n",
      "1/1 [==============================] - 0s 79ms/step - loss: 0.3688 - val_loss: 0.3206\n",
      "Epoch 133/200\n",
      "1/1 [==============================] - 0s 76ms/step - loss: 0.3685 - val_loss: 0.3201\n",
      "Epoch 134/200\n",
      "1/1 [==============================] - 0s 99ms/step - loss: 0.3681 - val_loss: 0.3196\n",
      "Epoch 135/200\n",
      "1/1 [==============================] - 0s 89ms/step - loss: 0.3677 - val_loss: 0.3190\n",
      "Epoch 136/200\n",
      "1/1 [==============================] - 0s 79ms/step - loss: 0.3673 - val_loss: 0.3185\n",
      "Epoch 137/200\n",
      "1/1 [==============================] - 0s 68ms/step - loss: 0.3670 - val_loss: 0.3179\n",
      "Epoch 138/200\n",
      "1/1 [==============================] - 0s 72ms/step - loss: 0.3666 - val_loss: 0.3173\n",
      "Epoch 139/200\n",
      "1/1 [==============================] - 0s 188ms/step - loss: 0.3662 - val_loss: 0.3167\n",
      "Epoch 140/200\n",
      "1/1 [==============================] - 0s 68ms/step - loss: 0.3658 - val_loss: 0.3161\n",
      "Epoch 141/200\n",
      "1/1 [==============================] - 0s 136ms/step - loss: 0.3654 - val_loss: 0.3155\n",
      "Epoch 142/200\n",
      "1/1 [==============================] - 0s 63ms/step - loss: 0.3650 - val_loss: 0.3149\n",
      "Epoch 143/200\n",
      "1/1 [==============================] - 0s 117ms/step - loss: 0.3645 - val_loss: 0.3142\n",
      "Epoch 144/200\n",
      "1/1 [==============================] - 0s 51ms/step - loss: 0.3641 - val_loss: 0.3136\n",
      "Epoch 145/200\n",
      "1/1 [==============================] - 0s 48ms/step - loss: 0.3637 - val_loss: 0.3129\n",
      "Epoch 146/200\n",
      "1/1 [==============================] - 0s 75ms/step - loss: 0.3633 - val_loss: 0.3123\n",
      "Epoch 147/200\n",
      "1/1 [==============================] - 0s 63ms/step - loss: 0.3628 - val_loss: 0.3116\n",
      "Epoch 148/200\n",
      "1/1 [==============================] - 0s 60ms/step - loss: 0.3623 - val_loss: 0.3109\n",
      "Epoch 149/200\n",
      "1/1 [==============================] - 0s 46ms/step - loss: 0.3619 - val_loss: 0.3102\n",
      "Epoch 150/200\n",
      "1/1 [==============================] - 0s 86ms/step - loss: 0.3614 - val_loss: 0.3095\n",
      "Epoch 151/200\n",
      "1/1 [==============================] - 0s 69ms/step - loss: 0.3609 - val_loss: 0.3088\n",
      "Epoch 152/200\n",
      "1/1 [==============================] - 0s 68ms/step - loss: 0.3605 - val_loss: 0.3081\n",
      "Epoch 153/200\n",
      "1/1 [==============================] - 0s 63ms/step - loss: 0.3600 - val_loss: 0.3073\n",
      "Epoch 154/200\n",
      "1/1 [==============================] - 0s 67ms/step - loss: 0.3595 - val_loss: 0.3065\n",
      "Epoch 155/200\n",
      "1/1 [==============================] - 0s 86ms/step - loss: 0.3589 - val_loss: 0.3058\n",
      "Epoch 156/200\n",
      "1/1 [==============================] - 0s 47ms/step - loss: 0.3584 - val_loss: 0.3050\n",
      "Epoch 157/200\n",
      "1/1 [==============================] - 0s 56ms/step - loss: 0.3579 - val_loss: 0.3042\n",
      "Epoch 158/200\n",
      "1/1 [==============================] - 0s 103ms/step - loss: 0.3573 - val_loss: 0.3034\n",
      "Epoch 159/200\n",
      "1/1 [==============================] - 0s 80ms/step - loss: 0.3568 - val_loss: 0.3025\n",
      "Epoch 160/200\n",
      "1/1 [==============================] - 0s 49ms/step - loss: 0.3562 - val_loss: 0.3017\n",
      "Epoch 161/200\n",
      "1/1 [==============================] - 0s 57ms/step - loss: 0.3556 - val_loss: 0.3009\n",
      "Epoch 162/200\n",
      "1/1 [==============================] - 0s 64ms/step - loss: 0.3551 - val_loss: 0.3000\n",
      "Epoch 163/200\n",
      "1/1 [==============================] - 0s 60ms/step - loss: 0.3545 - val_loss: 0.2991\n",
      "Epoch 164/200\n",
      "1/1 [==============================] - 0s 72ms/step - loss: 0.3538 - val_loss: 0.2983\n",
      "Epoch 165/200\n",
      "1/1 [==============================] - 0s 63ms/step - loss: 0.3532 - val_loss: 0.2974\n",
      "Epoch 166/200\n",
      "1/1 [==============================] - 0s 47ms/step - loss: 0.3526 - val_loss: 0.2965\n",
      "Epoch 167/200\n",
      "1/1 [==============================] - 0s 73ms/step - loss: 0.3520 - val_loss: 0.2955\n",
      "Epoch 168/200\n",
      "1/1 [==============================] - 0s 69ms/step - loss: 0.3513 - val_loss: 0.2946\n",
      "Epoch 169/200\n",
      "1/1 [==============================] - 0s 63ms/step - loss: 0.3506 - val_loss: 0.2937\n",
      "Epoch 170/200\n",
      "1/1 [==============================] - 0s 55ms/step - loss: 0.3500 - val_loss: 0.2928\n",
      "Epoch 171/200\n",
      "1/1 [==============================] - 0s 46ms/step - loss: 0.3493 - val_loss: 0.2918\n",
      "Epoch 172/200\n",
      "1/1 [==============================] - 0s 47ms/step - loss: 0.3486 - val_loss: 0.2909\n",
      "Epoch 173/200\n",
      "1/1 [==============================] - 0s 82ms/step - loss: 0.3479 - val_loss: 0.2899\n",
      "Epoch 174/200\n",
      "1/1 [==============================] - 0s 47ms/step - loss: 0.3472 - val_loss: 0.2889\n",
      "Epoch 175/200\n",
      "1/1 [==============================] - 0s 48ms/step - loss: 0.3464 - val_loss: 0.2879\n",
      "Epoch 176/200\n",
      "1/1 [==============================] - 0s 157ms/step - loss: 0.3457 - val_loss: 0.2869\n",
      "Epoch 177/200\n",
      "1/1 [==============================] - 0s 70ms/step - loss: 0.3449 - val_loss: 0.2859\n",
      "Epoch 178/200\n",
      "1/1 [==============================] - 0s 97ms/step - loss: 0.3442 - val_loss: 0.2849\n",
      "Epoch 179/200\n",
      "1/1 [==============================] - 0s 97ms/step - loss: 0.3434 - val_loss: 0.2838\n",
      "Epoch 180/200\n",
      "1/1 [==============================] - 0s 78ms/step - loss: 0.3426 - val_loss: 0.2828\n",
      "Epoch 181/200\n",
      "1/1 [==============================] - 0s 90ms/step - loss: 0.3419 - val_loss: 0.2817\n",
      "Epoch 182/200\n",
      "1/1 [==============================] - 0s 72ms/step - loss: 0.3411 - val_loss: 0.2807\n",
      "Epoch 183/200\n",
      "1/1 [==============================] - 0s 112ms/step - loss: 0.3402 - val_loss: 0.2796\n",
      "Epoch 184/200\n",
      "1/1 [==============================] - 0s 78ms/step - loss: 0.3394 - val_loss: 0.2785\n",
      "Epoch 185/200\n",
      "1/1 [==============================] - 0s 66ms/step - loss: 0.3386 - val_loss: 0.2774\n",
      "Epoch 186/200\n",
      "1/1 [==============================] - 0s 63ms/step - loss: 0.3377 - val_loss: 0.2763\n",
      "Epoch 187/200\n",
      "1/1 [==============================] - 0s 68ms/step - loss: 0.3369 - val_loss: 0.2752\n",
      "Epoch 188/200\n",
      "1/1 [==============================] - 0s 73ms/step - loss: 0.3360 - val_loss: 0.2740\n",
      "Epoch 189/200\n",
      "1/1 [==============================] - 0s 62ms/step - loss: 0.3351 - val_loss: 0.2728\n",
      "Epoch 190/200\n",
      "1/1 [==============================] - 0s 61ms/step - loss: 0.3342 - val_loss: 0.2717\n",
      "Epoch 191/200\n",
      "1/1 [==============================] - 0s 72ms/step - loss: 0.3333 - val_loss: 0.2705\n",
      "Epoch 192/200\n",
      "1/1 [==============================] - 0s 76ms/step - loss: 0.3324 - val_loss: 0.2692\n",
      "Epoch 193/200\n",
      "1/1 [==============================] - 0s 60ms/step - loss: 0.3314 - val_loss: 0.2680\n",
      "Epoch 194/200\n",
      "1/1 [==============================] - 0s 65ms/step - loss: 0.3305 - val_loss: 0.2667\n",
      "Epoch 195/200\n",
      "1/1 [==============================] - 0s 65ms/step - loss: 0.3295 - val_loss: 0.2654\n",
      "Epoch 196/200\n",
      "1/1 [==============================] - 0s 62ms/step - loss: 0.3285 - val_loss: 0.2641\n",
      "Epoch 197/200\n",
      "1/1 [==============================] - 0s 67ms/step - loss: 0.3275 - val_loss: 0.2628\n",
      "Epoch 198/200\n",
      "1/1 [==============================] - 0s 59ms/step - loss: 0.3265 - val_loss: 0.2615\n",
      "Epoch 199/200\n",
      "1/1 [==============================] - 0s 74ms/step - loss: 0.3254 - val_loss: 0.2601\n",
      "Epoch 200/200\n",
      "1/1 [==============================] - 0s 59ms/step - loss: 0.3244 - val_loss: 0.2587\n",
      "WARNING:tensorflow:From /home/z/.local/lib/python3.8/site-packages/tensorflow/python/training/tracking/tracking.py:111: Model.state_updates (from tensorflow.python.keras.engine.training) is deprecated and will be removed in a future version.\n",
      "Instructions for updating:\n",
      "This property should not be used in TensorFlow 2.0, as updates are applied automatically.\n",
      "WARNING:tensorflow:From /home/z/.local/lib/python3.8/site-packages/tensorflow/python/training/tracking/tracking.py:111: Layer.updates (from tensorflow.python.keras.engine.base_layer) is deprecated and will be removed in a future version.\n",
      "Instructions for updating:\n",
      "This property should not be used in TensorFlow 2.0, as updates are applied automatically.\n",
      "INFO:tensorflow:Assets written to: /tmp/tmp83y44_9x/model/data/model/assets\n"
     ]
    }
   ],
   "source": [
    "mlflow.set_experiment(\"LSTM\")\n",
    "mlflow.tensorflow.autolog()\n",
    "history = model.fit(DatasetTrain, epochs=EPOCHS, validation_data=DatasetVal, verbose=1)"
   ]
  },
  {
   "cell_type": "code",
   "execution_count": 24,
   "metadata": {},
   "outputs": [],
   "source": [
    "from time import gmtime, strftime"
   ]
  },
  {
   "cell_type": "code",
   "execution_count": 25,
   "metadata": {},
   "outputs": [
    {
     "name": "stdout",
     "output_type": "stream",
     "text": [
      "INFO:tensorflow:Assets written to: ../models/LSTM_sales 2021-08-01-17:22:28.pkl/assets\n"
     ]
    }
   ],
   "source": [
    "time = strftime(\"%Y-%m-%d-%H:%M:%S\", gmtime())\n",
    "model.save(f'../models/LSTM_sales {time}.pkl')"
   ]
  }
 ],
 "metadata": {
  "interpreter": {
   "hash": "fa473d0b35530556de663f3f232b177b7537aee5bda74ac2b84ad2c8a96cf538"
  },
  "kernelspec": {
   "display_name": "Python 3.8.5 64-bit ('base': conda)",
   "name": "python385jvsc74a57bd0c30745a67ab3077685183c6616f760120387d2e186c7e6a99675e86d34cdfa12"
  },
  "language_info": {
   "codemirror_mode": {
    "name": "ipython",
    "version": 3
   },
   "file_extension": ".py",
   "mimetype": "text/x-python",
   "name": "python",
   "nbconvert_exporter": "python",
   "pygments_lexer": "ipython3",
   "version": "3.8.5"
  },
  "orig_nbformat": 4
 },
 "nbformat": 4,
 "nbformat_minor": 2
}