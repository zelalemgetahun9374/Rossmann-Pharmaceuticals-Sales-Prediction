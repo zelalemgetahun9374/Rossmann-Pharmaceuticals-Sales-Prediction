{
 "cells": [
  {
   "cell_type": "markdown",
   "metadata": {},
   "source": [
    "# Exploratory Data Analysis of Rossmann Pharmaceuticals Sales Data"
   ]
  },
  {
   "cell_type": "markdown",
   "metadata": {},
   "source": [
    "## Imports"
   ]
  },
  {
   "cell_type": "code",
   "execution_count": 133,
   "metadata": {},
   "outputs": [],
   "source": [
    "import numpy as np\n",
    "import pandas as pd\n",
    "import math\n",
    "import sys, os"
   ]
  },
  {
   "cell_type": "code",
   "execution_count": 134,
   "metadata": {},
   "outputs": [],
   "source": [
    "sys.path.append(os.path.abspath(os.path.join('../scripts')))\n",
    "from csv_helper import CsvHelper\n",
    "from df_selector import *\n",
    "from df_cleaner import *\n",
    "from df_visualizer import *\n",
    "from df_outlier_handler import OutlierHandler"
   ]
  },
  {
   "cell_type": "code",
   "execution_count": 135,
   "metadata": {},
   "outputs": [],
   "source": [
    "pd.set_option('display.max_columns', 50)"
   ]
  },
  {
   "cell_type": "markdown",
   "metadata": {},
   "source": [
    "## Utility Functions"
   ]
  },
  {
   "cell_type": "code",
   "execution_count": 136,
   "metadata": {},
   "outputs": [],
   "source": [
    "def unique_values_df(df):\n",
    "    unique_values = {'Column': [], 'Unique values': []}\n",
    "    for col in df:\n",
    "        unique_values['Column'].append(col)\n",
    "        values = df[col].value_counts().index.to_list()\n",
    "        unique_values['Unique values'].append(values)\n",
    "        tmp = pd.DataFrame(unique_values)\n",
    "    return tmp"
   ]
  },
  {
   "cell_type": "markdown",
   "metadata": {},
   "source": [
    "## Reading Data"
   ]
  },
  {
   "cell_type": "code",
   "execution_count": 137,
   "metadata": {},
   "outputs": [],
   "source": [
    "# create a CsvHelper object\n",
    "csv_helper = CsvHelper()"
   ]
  },
  {
   "cell_type": "code",
   "execution_count": 138,
   "metadata": {},
   "outputs": [
    {
     "data": {
      "text/html": "<div>\n<style scoped>\n    .dataframe tbody tr th:only-of-type {\n        vertical-align: middle;\n    }\n\n    .dataframe tbody tr th {\n        vertical-align: top;\n    }\n\n    .dataframe thead th {\n        text-align: right;\n    }\n</style>\n<table border=\"1\" class=\"dataframe\">\n  <thead>\n    <tr style=\"text-align: right;\">\n      <th></th>\n      <th>Store</th>\n      <th>StoreType</th>\n      <th>Assortment</th>\n      <th>CompetitionDistance</th>\n      <th>CompetitionOpenSinceMonth</th>\n      <th>CompetitionOpenSinceYear</th>\n      <th>Promo2</th>\n      <th>Promo2SinceWeek</th>\n      <th>Promo2SinceYear</th>\n      <th>PromoInterval</th>\n    </tr>\n  </thead>\n  <tbody>\n    <tr>\n      <th>0</th>\n      <td>1</td>\n      <td>c</td>\n      <td>a</td>\n      <td>1270.0</td>\n      <td>9.0</td>\n      <td>2008.0</td>\n      <td>0</td>\n      <td>NaN</td>\n      <td>NaN</td>\n      <td>NaN</td>\n    </tr>\n    <tr>\n      <th>1</th>\n      <td>2</td>\n      <td>a</td>\n      <td>a</td>\n      <td>570.0</td>\n      <td>11.0</td>\n      <td>2007.0</td>\n      <td>1</td>\n      <td>13.0</td>\n      <td>2010.0</td>\n      <td>Jan,Apr,Jul,Oct</td>\n    </tr>\n    <tr>\n      <th>2</th>\n      <td>3</td>\n      <td>a</td>\n      <td>a</td>\n      <td>14130.0</td>\n      <td>12.0</td>\n      <td>2006.0</td>\n      <td>1</td>\n      <td>14.0</td>\n      <td>2011.0</td>\n      <td>Jan,Apr,Jul,Oct</td>\n    </tr>\n    <tr>\n      <th>3</th>\n      <td>4</td>\n      <td>c</td>\n      <td>c</td>\n      <td>620.0</td>\n      <td>9.0</td>\n      <td>2009.0</td>\n      <td>0</td>\n      <td>NaN</td>\n      <td>NaN</td>\n      <td>NaN</td>\n    </tr>\n    <tr>\n      <th>4</th>\n      <td>5</td>\n      <td>a</td>\n      <td>a</td>\n      <td>29910.0</td>\n      <td>4.0</td>\n      <td>2015.0</td>\n      <td>0</td>\n      <td>NaN</td>\n      <td>NaN</td>\n      <td>NaN</td>\n    </tr>\n    <tr>\n      <th>5</th>\n      <td>6</td>\n      <td>a</td>\n      <td>a</td>\n      <td>310.0</td>\n      <td>12.0</td>\n      <td>2013.0</td>\n      <td>0</td>\n      <td>NaN</td>\n      <td>NaN</td>\n      <td>NaN</td>\n    </tr>\n    <tr>\n      <th>6</th>\n      <td>7</td>\n      <td>a</td>\n      <td>c</td>\n      <td>24000.0</td>\n      <td>4.0</td>\n      <td>2013.0</td>\n      <td>0</td>\n      <td>NaN</td>\n      <td>NaN</td>\n      <td>NaN</td>\n    </tr>\n    <tr>\n      <th>7</th>\n      <td>8</td>\n      <td>a</td>\n      <td>a</td>\n      <td>7520.0</td>\n      <td>10.0</td>\n      <td>2014.0</td>\n      <td>0</td>\n      <td>NaN</td>\n      <td>NaN</td>\n      <td>NaN</td>\n    </tr>\n    <tr>\n      <th>8</th>\n      <td>9</td>\n      <td>a</td>\n      <td>c</td>\n      <td>2030.0</td>\n      <td>8.0</td>\n      <td>2000.0</td>\n      <td>0</td>\n      <td>NaN</td>\n      <td>NaN</td>\n      <td>NaN</td>\n    </tr>\n    <tr>\n      <th>9</th>\n      <td>10</td>\n      <td>a</td>\n      <td>a</td>\n      <td>3160.0</td>\n      <td>9.0</td>\n      <td>2009.0</td>\n      <td>0</td>\n      <td>NaN</td>\n      <td>NaN</td>\n      <td>NaN</td>\n    </tr>\n  </tbody>\n</table>\n</div>",
      "text/plain": "   Store StoreType Assortment  CompetitionDistance  CompetitionOpenSinceMonth  \\\n0      1         c          a               1270.0                        9.0   \n1      2         a          a                570.0                       11.0   \n2      3         a          a              14130.0                       12.0   \n3      4         c          c                620.0                        9.0   \n4      5         a          a              29910.0                        4.0   \n5      6         a          a                310.0                       12.0   \n6      7         a          c              24000.0                        4.0   \n7      8         a          a               7520.0                       10.0   \n8      9         a          c               2030.0                        8.0   \n9     10         a          a               3160.0                        9.0   \n\n   CompetitionOpenSinceYear  Promo2  Promo2SinceWeek  Promo2SinceYear  \\\n0                    2008.0       0              NaN              NaN   \n1                    2007.0       1             13.0           2010.0   \n2                    2006.0       1             14.0           2011.0   \n3                    2009.0       0              NaN              NaN   \n4                    2015.0       0              NaN              NaN   \n5                    2013.0       0              NaN              NaN   \n6                    2013.0       0              NaN              NaN   \n7                    2014.0       0              NaN              NaN   \n8                    2000.0       0              NaN              NaN   \n9                    2009.0       0              NaN              NaN   \n\n     PromoInterval  \n0              NaN  \n1  Jan,Apr,Jul,Oct  \n2  Jan,Apr,Jul,Oct  \n3              NaN  \n4              NaN  \n5              NaN  \n6              NaN  \n7              NaN  \n8              NaN  \n9              NaN  "
     },
     "execution_count": 138,
     "metadata": {},
     "output_type": "execute_result"
    }
   ],
   "source": [
    "# reading the store csv file\n",
    "store_df = csv_helper.read_csv(\"../data/store.csv\")\n",
    "store_df.head(10)"
   ]
  },
  {
   "cell_type": "code",
   "execution_count": 139,
   "metadata": {},
   "outputs": [
    {
     "name": "stderr",
     "output_type": "stream",
     "text": [
      "/home/z/.local/lib/python3.8/site-packages/IPython/core/interactiveshell.py:3361: DtypeWarning: Columns (7) have mixed types.Specify dtype option on import or set low_memory=False.\n",
      "  if (await self.run_code(code, result,  async_=asy)):\n"
     ]
    },
    {
     "data": {
      "text/html": "<div>\n<style scoped>\n    .dataframe tbody tr th:only-of-type {\n        vertical-align: middle;\n    }\n\n    .dataframe tbody tr th {\n        vertical-align: top;\n    }\n\n    .dataframe thead th {\n        text-align: right;\n    }\n</style>\n<table border=\"1\" class=\"dataframe\">\n  <thead>\n    <tr style=\"text-align: right;\">\n      <th></th>\n      <th>Store</th>\n      <th>DayOfWeek</th>\n      <th>Date</th>\n      <th>Sales</th>\n      <th>Customers</th>\n      <th>Open</th>\n      <th>Promo</th>\n      <th>StateHoliday</th>\n      <th>SchoolHoliday</th>\n    </tr>\n  </thead>\n  <tbody>\n    <tr>\n      <th>0</th>\n      <td>1</td>\n      <td>5</td>\n      <td>2015-07-31</td>\n      <td>5263</td>\n      <td>555</td>\n      <td>1</td>\n      <td>1</td>\n      <td>0</td>\n      <td>1</td>\n    </tr>\n    <tr>\n      <th>1</th>\n      <td>2</td>\n      <td>5</td>\n      <td>2015-07-31</td>\n      <td>6064</td>\n      <td>625</td>\n      <td>1</td>\n      <td>1</td>\n      <td>0</td>\n      <td>1</td>\n    </tr>\n    <tr>\n      <th>2</th>\n      <td>3</td>\n      <td>5</td>\n      <td>2015-07-31</td>\n      <td>8314</td>\n      <td>821</td>\n      <td>1</td>\n      <td>1</td>\n      <td>0</td>\n      <td>1</td>\n    </tr>\n    <tr>\n      <th>3</th>\n      <td>4</td>\n      <td>5</td>\n      <td>2015-07-31</td>\n      <td>13995</td>\n      <td>1498</td>\n      <td>1</td>\n      <td>1</td>\n      <td>0</td>\n      <td>1</td>\n    </tr>\n    <tr>\n      <th>4</th>\n      <td>5</td>\n      <td>5</td>\n      <td>2015-07-31</td>\n      <td>4822</td>\n      <td>559</td>\n      <td>1</td>\n      <td>1</td>\n      <td>0</td>\n      <td>1</td>\n    </tr>\n    <tr>\n      <th>5</th>\n      <td>6</td>\n      <td>5</td>\n      <td>2015-07-31</td>\n      <td>5651</td>\n      <td>589</td>\n      <td>1</td>\n      <td>1</td>\n      <td>0</td>\n      <td>1</td>\n    </tr>\n    <tr>\n      <th>6</th>\n      <td>7</td>\n      <td>5</td>\n      <td>2015-07-31</td>\n      <td>15344</td>\n      <td>1414</td>\n      <td>1</td>\n      <td>1</td>\n      <td>0</td>\n      <td>1</td>\n    </tr>\n    <tr>\n      <th>7</th>\n      <td>8</td>\n      <td>5</td>\n      <td>2015-07-31</td>\n      <td>8492</td>\n      <td>833</td>\n      <td>1</td>\n      <td>1</td>\n      <td>0</td>\n      <td>1</td>\n    </tr>\n    <tr>\n      <th>8</th>\n      <td>9</td>\n      <td>5</td>\n      <td>2015-07-31</td>\n      <td>8565</td>\n      <td>687</td>\n      <td>1</td>\n      <td>1</td>\n      <td>0</td>\n      <td>1</td>\n    </tr>\n    <tr>\n      <th>9</th>\n      <td>10</td>\n      <td>5</td>\n      <td>2015-07-31</td>\n      <td>7185</td>\n      <td>681</td>\n      <td>1</td>\n      <td>1</td>\n      <td>0</td>\n      <td>1</td>\n    </tr>\n  </tbody>\n</table>\n</div>",
      "text/plain": "   Store  DayOfWeek        Date  Sales  Customers  Open  Promo StateHoliday  \\\n0      1          5  2015-07-31   5263        555     1      1            0   \n1      2          5  2015-07-31   6064        625     1      1            0   \n2      3          5  2015-07-31   8314        821     1      1            0   \n3      4          5  2015-07-31  13995       1498     1      1            0   \n4      5          5  2015-07-31   4822        559     1      1            0   \n5      6          5  2015-07-31   5651        589     1      1            0   \n6      7          5  2015-07-31  15344       1414     1      1            0   \n7      8          5  2015-07-31   8492        833     1      1            0   \n8      9          5  2015-07-31   8565        687     1      1            0   \n9     10          5  2015-07-31   7185        681     1      1            0   \n\n   SchoolHoliday  \n0              1  \n1              1  \n2              1  \n3              1  \n4              1  \n5              1  \n6              1  \n7              1  \n8              1  \n9              1  "
     },
     "execution_count": 139,
     "metadata": {},
     "output_type": "execute_result"
    }
   ],
   "source": [
    "# reading the sales training csv file\n",
    "train_df = csv_helper.read_csv(\"../data/train.csv\")\n",
    "train_df.head(10)"
   ]
  },
  {
   "cell_type": "markdown",
   "metadata": {},
   "source": [
    "## General Statistics"
   ]
  },
  {
   "cell_type": "markdown",
   "metadata": {},
   "source": [
    "### store_df"
   ]
  },
  {
   "cell_type": "code",
   "execution_count": 140,
   "metadata": {},
   "outputs": [
    {
     "data": {
      "text/plain": "11150"
     },
     "execution_count": 140,
     "metadata": {},
     "output_type": "execute_result"
    }
   ],
   "source": [
    "# number of elements in the store df\n",
    "store_df.size"
   ]
  },
  {
   "cell_type": "code",
   "execution_count": 141,
   "metadata": {},
   "outputs": [
    {
     "data": {
      "text/plain": "(1115, 10)"
     },
     "execution_count": 141,
     "metadata": {},
     "output_type": "execute_result"
    }
   ],
   "source": [
    "# rows and columns in the df\n",
    "store_df.shape"
   ]
  },
  {
   "cell_type": "code",
   "execution_count": 142,
   "metadata": {},
   "outputs": [
    {
     "name": "stdout",
     "output_type": "stream",
     "text": [
      "<class 'pandas.core.frame.DataFrame'>\n",
      "RangeIndex: 1115 entries, 0 to 1114\n",
      "Data columns (total 10 columns):\n",
      " #   Column                     Non-Null Count  Dtype  \n",
      "---  ------                     --------------  -----  \n",
      " 0   Store                      1115 non-null   int64  \n",
      " 1   StoreType                  1115 non-null   object \n",
      " 2   Assortment                 1115 non-null   object \n",
      " 3   CompetitionDistance        1112 non-null   float64\n",
      " 4   CompetitionOpenSinceMonth  761 non-null    float64\n",
      " 5   CompetitionOpenSinceYear   761 non-null    float64\n",
      " 6   Promo2                     1115 non-null   int64  \n",
      " 7   Promo2SinceWeek            571 non-null    float64\n",
      " 8   Promo2SinceYear            571 non-null    float64\n",
      " 9   PromoInterval              571 non-null    object \n",
      "dtypes: float64(5), int64(2), object(3)\n",
      "memory usage: 87.2+ KB\n"
     ]
    }
   ],
   "source": [
    "store_df.info()"
   ]
  },
  {
   "cell_type": "markdown",
   "metadata": {},
   "source": [
    "### train_df"
   ]
  },
  {
   "cell_type": "code",
   "execution_count": 143,
   "metadata": {},
   "outputs": [
    {
     "data": {
      "text/plain": "9154881"
     },
     "execution_count": 143,
     "metadata": {},
     "output_type": "execute_result"
    }
   ],
   "source": [
    "# number of elements in the train df\n",
    "train_df.size"
   ]
  },
  {
   "cell_type": "code",
   "execution_count": 144,
   "metadata": {},
   "outputs": [
    {
     "data": {
      "text/plain": "(1017209, 9)"
     },
     "execution_count": 144,
     "metadata": {},
     "output_type": "execute_result"
    }
   ],
   "source": [
    "# rows and columns in the df\n",
    "train_df.shape"
   ]
  },
  {
   "cell_type": "code",
   "execution_count": 145,
   "metadata": {},
   "outputs": [
    {
     "name": "stdout",
     "output_type": "stream",
     "text": [
      "<class 'pandas.core.frame.DataFrame'>\n",
      "RangeIndex: 1017209 entries, 0 to 1017208\n",
      "Data columns (total 9 columns):\n",
      " #   Column         Non-Null Count    Dtype \n",
      "---  ------         --------------    ----- \n",
      " 0   Store          1017209 non-null  int64 \n",
      " 1   DayOfWeek      1017209 non-null  int64 \n",
      " 2   Date           1017209 non-null  object\n",
      " 3   Sales          1017209 non-null  int64 \n",
      " 4   Customers      1017209 non-null  int64 \n",
      " 5   Open           1017209 non-null  int64 \n",
      " 6   Promo          1017209 non-null  int64 \n",
      " 7   StateHoliday   1017209 non-null  object\n",
      " 8   SchoolHoliday  1017209 non-null  int64 \n",
      "dtypes: int64(7), object(2)\n",
      "memory usage: 69.8+ MB\n"
     ]
    }
   ],
   "source": [
    "train_df.info()"
   ]
  },
  {
   "cell_type": "markdown",
   "metadata": {},
   "source": [
    "## Missing Values"
   ]
  },
  {
   "cell_type": "markdown",
   "metadata": {},
   "source": [
    "### store_df"
   ]
  },
  {
   "cell_type": "code",
   "execution_count": 146,
   "metadata": {},
   "outputs": [
    {
     "name": "stdout",
     "output_type": "stream",
     "text": [
      "The dataset contains 21.01 % missing values.\n"
     ]
    }
   ],
   "source": [
    "percent_missing_values(store_df)"
   ]
  },
  {
   "cell_type": "code",
   "execution_count": 147,
   "metadata": {},
   "outputs": [
    {
     "name": "stdout",
     "output_type": "stream",
     "text": [
      "Your selected dataframe has 10 columns.\n",
      "There are 6 columns that have missing values.\n"
     ]
    }
   ],
   "source": [
    "missing_df = missing_values_table(store_df)"
   ]
  },
  {
   "cell_type": "code",
   "execution_count": 148,
   "metadata": {},
   "outputs": [
    {
     "data": {
      "text/html": "<div>\n<style scoped>\n    .dataframe tbody tr th:only-of-type {\n        vertical-align: middle;\n    }\n\n    .dataframe tbody tr th {\n        vertical-align: top;\n    }\n\n    .dataframe thead th {\n        text-align: right;\n    }\n</style>\n<table border=\"1\" class=\"dataframe\">\n  <thead>\n    <tr style=\"text-align: right;\">\n      <th></th>\n      <th>Missing Values</th>\n      <th>% of Total Values</th>\n      <th>Dtype</th>\n    </tr>\n  </thead>\n  <tbody>\n    <tr>\n      <th>Promo2SinceWeek</th>\n      <td>544</td>\n      <td>48.79</td>\n      <td>float64</td>\n    </tr>\n    <tr>\n      <th>Promo2SinceYear</th>\n      <td>544</td>\n      <td>48.79</td>\n      <td>float64</td>\n    </tr>\n    <tr>\n      <th>PromoInterval</th>\n      <td>544</td>\n      <td>48.79</td>\n      <td>object</td>\n    </tr>\n    <tr>\n      <th>CompetitionOpenSinceMonth</th>\n      <td>354</td>\n      <td>31.75</td>\n      <td>float64</td>\n    </tr>\n    <tr>\n      <th>CompetitionOpenSinceYear</th>\n      <td>354</td>\n      <td>31.75</td>\n      <td>float64</td>\n    </tr>\n    <tr>\n      <th>CompetitionDistance</th>\n      <td>3</td>\n      <td>0.27</td>\n      <td>float64</td>\n    </tr>\n  </tbody>\n</table>\n</div>",
      "text/plain": "                           Missing Values  % of Total Values    Dtype\nPromo2SinceWeek                       544              48.79  float64\nPromo2SinceYear                       544              48.79  float64\nPromoInterval                         544              48.79   object\nCompetitionOpenSinceMonth             354              31.75  float64\nCompetitionOpenSinceYear              354              31.75  float64\nCompetitionDistance                     3               0.27  float64"
     },
     "execution_count": 148,
     "metadata": {},
     "output_type": "execute_result"
    }
   ],
   "source": [
    "missing_df"
   ]
  },
  {
   "cell_type": "markdown",
   "metadata": {},
   "source": [
    "From the missing table we can recognize two groups with a pattern, the first 3 columns and the next 2 columns. Columns in each group have the same number of missing values. This indicates that if we investigate deeper we might get some insight."
   ]
  },
  {
   "cell_type": "markdown",
   "metadata": {},
   "source": [
    "Let's see the row number of rows with missing values in general then in each group."
   ]
  },
  {
   "cell_type": "code",
   "execution_count": 149,
   "metadata": {},
   "outputs": [
    {
     "name": "stdout",
     "output_type": "stream",
     "text": [
      "750 rows(67.26%) contain atleast one missing value.\n"
     ]
    }
   ],
   "source": [
    "# number of rows with missing values for the whole dataset\n",
    "count_missing_rows(store_df)"
   ]
  },
  {
   "cell_type": "code",
   "execution_count": 150,
   "metadata": {},
   "outputs": [
    {
     "name": "stdout",
     "output_type": "stream",
     "text": [
      "544 rows(48.79%) contain atleast one missing value.\n"
     ]
    }
   ],
   "source": [
    "# number of rows with missing values for group 1 (Promo2SinceWeek, Promo2SinceYear, and PromoInterval)\n",
    "count_missing_rows(store_df[['Promo2SinceWeek', 'Promo2SinceYear', 'PromoInterval']])"
   ]
  },
  {
   "cell_type": "code",
   "execution_count": 151,
   "metadata": {},
   "outputs": [
    {
     "name": "stdout",
     "output_type": "stream",
     "text": [
      "354 rows(31.75%) contain atleast one missing value.\n"
     ]
    }
   ],
   "source": [
    "# number of rows with missing values for group 2 (CompetitionOpenSinceMonth, and CompetitionOpenSinceYear)\n",
    "count_missing_rows(store_df[['CompetitionOpenSinceMonth', 'CompetitionOpenSinceYear']])"
   ]
  },
  {
   "cell_type": "markdown",
   "metadata": {},
   "source": [
    "As guessed we have got an interesting insight. Each columuns in these groups have missing values in the same rows as their groupmates. These means the missing values in these groups appear at the same time as a cluster. From the column names and the data fields' description in the challange document we can understand that the values of the columns in each group share a common information. Let's investigate."
   ]
  },
  {
   "cell_type": "code",
   "execution_count": 152,
   "metadata": {},
   "outputs": [
    {
     "data": {
      "text/html": "<div>\n<style scoped>\n    .dataframe tbody tr th:only-of-type {\n        vertical-align: middle;\n    }\n\n    .dataframe tbody tr th {\n        vertical-align: top;\n    }\n\n    .dataframe thead th {\n        text-align: right;\n    }\n</style>\n<table border=\"1\" class=\"dataframe\">\n  <thead>\n    <tr style=\"text-align: right;\">\n      <th></th>\n      <th>Store</th>\n      <th>StoreType</th>\n      <th>Assortment</th>\n      <th>CompetitionDistance</th>\n      <th>CompetitionOpenSinceMonth</th>\n      <th>CompetitionOpenSinceYear</th>\n      <th>Promo2</th>\n      <th>Promo2SinceWeek</th>\n      <th>Promo2SinceYear</th>\n      <th>PromoInterval</th>\n    </tr>\n  </thead>\n  <tbody>\n    <tr>\n      <th>0</th>\n      <td>1</td>\n      <td>c</td>\n      <td>a</td>\n      <td>1270.0</td>\n      <td>9.0</td>\n      <td>2008.0</td>\n      <td>0</td>\n      <td>NaN</td>\n      <td>NaN</td>\n      <td>NaN</td>\n    </tr>\n    <tr>\n      <th>3</th>\n      <td>4</td>\n      <td>c</td>\n      <td>c</td>\n      <td>620.0</td>\n      <td>9.0</td>\n      <td>2009.0</td>\n      <td>0</td>\n      <td>NaN</td>\n      <td>NaN</td>\n      <td>NaN</td>\n    </tr>\n    <tr>\n      <th>4</th>\n      <td>5</td>\n      <td>a</td>\n      <td>a</td>\n      <td>29910.0</td>\n      <td>4.0</td>\n      <td>2015.0</td>\n      <td>0</td>\n      <td>NaN</td>\n      <td>NaN</td>\n      <td>NaN</td>\n    </tr>\n    <tr>\n      <th>5</th>\n      <td>6</td>\n      <td>a</td>\n      <td>a</td>\n      <td>310.0</td>\n      <td>12.0</td>\n      <td>2013.0</td>\n      <td>0</td>\n      <td>NaN</td>\n      <td>NaN</td>\n      <td>NaN</td>\n    </tr>\n    <tr>\n      <th>6</th>\n      <td>7</td>\n      <td>a</td>\n      <td>c</td>\n      <td>24000.0</td>\n      <td>4.0</td>\n      <td>2013.0</td>\n      <td>0</td>\n      <td>NaN</td>\n      <td>NaN</td>\n      <td>NaN</td>\n    </tr>\n    <tr>\n      <th>7</th>\n      <td>8</td>\n      <td>a</td>\n      <td>a</td>\n      <td>7520.0</td>\n      <td>10.0</td>\n      <td>2014.0</td>\n      <td>0</td>\n      <td>NaN</td>\n      <td>NaN</td>\n      <td>NaN</td>\n    </tr>\n    <tr>\n      <th>8</th>\n      <td>9</td>\n      <td>a</td>\n      <td>c</td>\n      <td>2030.0</td>\n      <td>8.0</td>\n      <td>2000.0</td>\n      <td>0</td>\n      <td>NaN</td>\n      <td>NaN</td>\n      <td>NaN</td>\n    </tr>\n    <tr>\n      <th>9</th>\n      <td>10</td>\n      <td>a</td>\n      <td>a</td>\n      <td>3160.0</td>\n      <td>9.0</td>\n      <td>2009.0</td>\n      <td>0</td>\n      <td>NaN</td>\n      <td>NaN</td>\n      <td>NaN</td>\n    </tr>\n    <tr>\n      <th>15</th>\n      <td>16</td>\n      <td>a</td>\n      <td>c</td>\n      <td>3270.0</td>\n      <td>NaN</td>\n      <td>NaN</td>\n      <td>0</td>\n      <td>NaN</td>\n      <td>NaN</td>\n      <td>NaN</td>\n    </tr>\n    <tr>\n      <th>22</th>\n      <td>23</td>\n      <td>d</td>\n      <td>a</td>\n      <td>4060.0</td>\n      <td>8.0</td>\n      <td>2005.0</td>\n      <td>0</td>\n      <td>NaN</td>\n      <td>NaN</td>\n      <td>NaN</td>\n    </tr>\n  </tbody>\n</table>\n</div>",
      "text/plain": "    Store StoreType Assortment  CompetitionDistance  \\\n0       1         c          a               1270.0   \n3       4         c          c                620.0   \n4       5         a          a              29910.0   \n5       6         a          a                310.0   \n6       7         a          c              24000.0   \n7       8         a          a               7520.0   \n8       9         a          c               2030.0   \n9      10         a          a               3160.0   \n15     16         a          c               3270.0   \n22     23         d          a               4060.0   \n\n    CompetitionOpenSinceMonth  CompetitionOpenSinceYear  Promo2  \\\n0                         9.0                    2008.0       0   \n3                         9.0                    2009.0       0   \n4                         4.0                    2015.0       0   \n5                        12.0                    2013.0       0   \n6                         4.0                    2013.0       0   \n7                        10.0                    2014.0       0   \n8                         8.0                    2000.0       0   \n9                         9.0                    2009.0       0   \n15                        NaN                       NaN       0   \n22                        8.0                    2005.0       0   \n\n    Promo2SinceWeek  Promo2SinceYear PromoInterval  \n0               NaN              NaN           NaN  \n3               NaN              NaN           NaN  \n4               NaN              NaN           NaN  \n5               NaN              NaN           NaN  \n6               NaN              NaN           NaN  \n7               NaN              NaN           NaN  \n8               NaN              NaN           NaN  \n9               NaN              NaN           NaN  \n15              NaN              NaN           NaN  \n22              NaN              NaN           NaN  "
     },
     "execution_count": 152,
     "metadata": {},
     "output_type": "execute_result"
    }
   ],
   "source": [
    "# dataframe containing the missing rows for columns in group 1\n",
    "group1_df = store_df[store_df['Promo2SinceWeek'].isna()]\n",
    "group1_df.head(10)"
   ]
  },
  {
   "cell_type": "markdown",
   "metadata": {},
   "source": [
    "We can see that the Promo2 column is 0 for the first 10 rows. From intution we can infer that if there is no promotion the values for the columns in gropu 1(Promo2SinceWeek, Promo2SinceYear, and PromoInterval) should be null. Let's prove it."
   ]
  },
  {
   "cell_type": "code",
   "execution_count": 153,
   "metadata": {},
   "outputs": [
    {
     "data": {
      "text/html": "<div>\n<style scoped>\n    .dataframe tbody tr th:only-of-type {\n        vertical-align: middle;\n    }\n\n    .dataframe tbody tr th {\n        vertical-align: top;\n    }\n\n    .dataframe thead th {\n        text-align: right;\n    }\n</style>\n<table border=\"1\" class=\"dataframe\">\n  <thead>\n    <tr style=\"text-align: right;\">\n      <th></th>\n      <th>Column</th>\n      <th>Unique values</th>\n    </tr>\n  </thead>\n  <tbody>\n    <tr>\n      <th>0</th>\n      <td>Store</td>\n      <td>[1024, 687, 672, 676, 679, 682, 683, 686, 689,...</td>\n    </tr>\n    <tr>\n      <th>1</th>\n      <td>StoreType</td>\n      <td>[a, d, c, b]</td>\n    </tr>\n    <tr>\n      <th>2</th>\n      <td>Assortment</td>\n      <td>[a, c, b]</td>\n    </tr>\n    <tr>\n      <th>3</th>\n      <td>CompetitionDistance</td>\n      <td>[50.0, 140.0, 250.0, 30.0, 720.0, 2640.0, 110....</td>\n    </tr>\n    <tr>\n      <th>4</th>\n      <td>CompetitionOpenSinceMonth</td>\n      <td>[9.0, 4.0, 11.0, 3.0, 10.0, 12.0, 7.0, 6.0, 2....</td>\n    </tr>\n    <tr>\n      <th>5</th>\n      <td>CompetitionOpenSinceYear</td>\n      <td>[2013.0, 2012.0, 2014.0, 2009.0, 2010.0, 2005....</td>\n    </tr>\n    <tr>\n      <th>6</th>\n      <td>Promo2</td>\n      <td>[0]</td>\n    </tr>\n    <tr>\n      <th>7</th>\n      <td>Promo2SinceWeek</td>\n      <td>[]</td>\n    </tr>\n    <tr>\n      <th>8</th>\n      <td>Promo2SinceYear</td>\n      <td>[]</td>\n    </tr>\n    <tr>\n      <th>9</th>\n      <td>PromoInterval</td>\n      <td>[]</td>\n    </tr>\n  </tbody>\n</table>\n</div>",
      "text/plain": "                      Column  \\\n0                      Store   \n1                  StoreType   \n2                 Assortment   \n3        CompetitionDistance   \n4  CompetitionOpenSinceMonth   \n5   CompetitionOpenSinceYear   \n6                     Promo2   \n7            Promo2SinceWeek   \n8            Promo2SinceYear   \n9              PromoInterval   \n\n                                       Unique values  \n0  [1024, 687, 672, 676, 679, 682, 683, 686, 689,...  \n1                                       [a, d, c, b]  \n2                                          [a, c, b]  \n3  [50.0, 140.0, 250.0, 30.0, 720.0, 2640.0, 110....  \n4  [9.0, 4.0, 11.0, 3.0, 10.0, 12.0, 7.0, 6.0, 2....  \n5  [2013.0, 2012.0, 2014.0, 2009.0, 2010.0, 2005....  \n6                                                [0]  \n7                                                 []  \n8                                                 []  \n9                                                 []  "
     },
     "execution_count": 153,
     "metadata": {},
     "output_type": "execute_result"
    }
   ],
   "source": [
    "# all unique values for each column\n",
    "unique_values_df(group1_df)"
   ]
  },
  {
   "cell_type": "code",
   "execution_count": 154,
   "metadata": {},
   "outputs": [
    {
     "data": {
      "text/plain": "0    544\nName: Promo2, dtype: int64"
     },
     "execution_count": 154,
     "metadata": {},
     "output_type": "execute_result"
    }
   ],
   "source": [
    "group1_df['Promo2'].value_counts()"
   ]
  },
  {
   "cell_type": "markdown",
   "metadata": {},
   "source": [
    "All 544 values are 0. Now let's check the count of 0 in the Promo2 column for the whole store dataset."
   ]
  },
  {
   "cell_type": "code",
   "execution_count": 155,
   "metadata": {},
   "outputs": [
    {
     "data": {
      "text/plain": "1    571\n0    544\nName: Promo2, dtype: int64"
     },
     "execution_count": 155,
     "metadata": {},
     "output_type": "execute_result"
    }
   ],
   "source": [
    "store_df['Promo2'].value_counts()"
   ]
  },
  {
   "cell_type": "markdown",
   "metadata": {},
   "source": [
    "Yes, we are right. All rows with 0 value in their Promo2 columns have null values in the columns Promo2SinceWeek, Promo2SinceYear, and PromoInterval."
   ]
  },
  {
   "cell_type": "markdown",
   "metadata": {},
   "source": [
    "Now let's impute the missing values in the columns Promo2SinceWeek and Promo2SinceYear with 0 to convey the meaning of absence since year and week can't be 0. For PromoInterval we should dig deeper what kind of data it holds since its data type is object."
   ]
  },
  {
   "cell_type": "code",
   "execution_count": 156,
   "metadata": {},
   "outputs": [
    {
     "data": {
      "text/plain": "'string'"
     },
     "execution_count": 156,
     "metadata": {},
     "output_type": "execute_result"
    }
   ],
   "source": [
    "# check the exact data type of the object\n",
    "pd.api.types.infer_dtype(store_df['PromoInterval'])"
   ]
  },
  {
   "cell_type": "code",
   "execution_count": 157,
   "metadata": {},
   "outputs": [
    {
     "data": {
      "text/plain": "Jan,Apr,Jul,Oct     335\nFeb,May,Aug,Nov     130\nMar,Jun,Sept,Dec    106\nName: PromoInterval, dtype: int64"
     },
     "execution_count": 157,
     "metadata": {},
     "output_type": "execute_result"
    }
   ],
   "source": [
    "# all the unique values \n",
    "store_df['PromoInterval'].value_counts()"
   ]
  },
  {
   "cell_type": "markdown",
   "metadata": {},
   "source": [
    "For the column PromoInterval, we will impute it with '0,0,0,0' as the other values follow list-type format containing four months. So inorder to impute these columns we should first investigate if the values we will insert exist in each column as this will oppose our intention."
   ]
  },
  {
   "cell_type": "code",
   "execution_count": 158,
   "metadata": {},
   "outputs": [
    {
     "data": {
      "text/plain": "(0, 10)"
     },
     "execution_count": 158,
     "metadata": {},
     "output_type": "execute_result"
    }
   ],
   "source": [
    "store_df[store_df['Promo2SinceWeek'] == 0].shape"
   ]
  },
  {
   "cell_type": "code",
   "execution_count": 159,
   "metadata": {},
   "outputs": [
    {
     "data": {
      "text/plain": "(0, 10)"
     },
     "execution_count": 159,
     "metadata": {},
     "output_type": "execute_result"
    }
   ],
   "source": [
    "store_df[store_df['Promo2SinceYear'] == 0].shape"
   ]
  },
  {
   "cell_type": "code",
   "execution_count": 160,
   "metadata": {},
   "outputs": [
    {
     "data": {
      "text/plain": "(0, 10)"
     },
     "execution_count": 160,
     "metadata": {},
     "output_type": "execute_result"
    }
   ],
   "source": [
    "store_df[store_df['PromoInterval'] == '0,0,0,0'].shape"
   ]
  },
  {
   "cell_type": "markdown",
   "metadata": {},
   "source": [
    "Since the values don't appear in these columns, let's fill the missing values by them."
   ]
  },
  {
   "cell_type": "code",
   "execution_count": 161,
   "metadata": {},
   "outputs": [
    {
     "name": "stdout",
     "output_type": "stream",
     "text": [
      "544 missing values in the column Promo2SinceWeek have been replaced by 0.\n",
      "544 missing values in the column Promo2SinceYear have been replaced by 0.\n"
     ]
    }
   ],
   "source": [
    "fix_missing_value(store_df, ['Promo2SinceWeek', 'Promo2SinceYear'], 0)"
   ]
  },
  {
   "cell_type": "code",
   "execution_count": 162,
   "metadata": {},
   "outputs": [
    {
     "name": "stdout",
     "output_type": "stream",
     "text": [
      "544 missing values in the column PromoInterval have been replaced by 0,0,0,0.\n"
     ]
    }
   ],
   "source": [
    "fix_missing_value(store_df, ['PromoInterval'], '0,0,0,0')"
   ]
  },
  {
   "cell_type": "markdown",
   "metadata": {},
   "source": [
    "Now it's time for the second group (i.e CompetitionOpenSinceMonth and CompetitionOpenSinceYear)."
   ]
  },
  {
   "cell_type": "code",
   "execution_count": 163,
   "metadata": {},
   "outputs": [
    {
     "data": {
      "text/html": "<div>\n<style scoped>\n    .dataframe tbody tr th:only-of-type {\n        vertical-align: middle;\n    }\n\n    .dataframe tbody tr th {\n        vertical-align: top;\n    }\n\n    .dataframe thead th {\n        text-align: right;\n    }\n</style>\n<table border=\"1\" class=\"dataframe\">\n  <thead>\n    <tr style=\"text-align: right;\">\n      <th></th>\n      <th>Store</th>\n      <th>StoreType</th>\n      <th>Assortment</th>\n      <th>CompetitionDistance</th>\n      <th>CompetitionOpenSinceMonth</th>\n      <th>CompetitionOpenSinceYear</th>\n      <th>Promo2</th>\n      <th>Promo2SinceWeek</th>\n      <th>Promo2SinceYear</th>\n      <th>PromoInterval</th>\n    </tr>\n  </thead>\n  <tbody>\n    <tr>\n      <th>11</th>\n      <td>12</td>\n      <td>a</td>\n      <td>c</td>\n      <td>1070.0</td>\n      <td>NaN</td>\n      <td>NaN</td>\n      <td>1</td>\n      <td>13.0</td>\n      <td>2010.0</td>\n      <td>Jan,Apr,Jul,Oct</td>\n    </tr>\n    <tr>\n      <th>12</th>\n      <td>13</td>\n      <td>d</td>\n      <td>a</td>\n      <td>310.0</td>\n      <td>NaN</td>\n      <td>NaN</td>\n      <td>1</td>\n      <td>45.0</td>\n      <td>2009.0</td>\n      <td>Feb,May,Aug,Nov</td>\n    </tr>\n    <tr>\n      <th>15</th>\n      <td>16</td>\n      <td>a</td>\n      <td>c</td>\n      <td>3270.0</td>\n      <td>NaN</td>\n      <td>NaN</td>\n      <td>0</td>\n      <td>0.0</td>\n      <td>0.0</td>\n      <td>0,0,0,0</td>\n    </tr>\n    <tr>\n      <th>18</th>\n      <td>19</td>\n      <td>a</td>\n      <td>c</td>\n      <td>3240.0</td>\n      <td>NaN</td>\n      <td>NaN</td>\n      <td>1</td>\n      <td>22.0</td>\n      <td>2011.0</td>\n      <td>Mar,Jun,Sept,Dec</td>\n    </tr>\n    <tr>\n      <th>21</th>\n      <td>22</td>\n      <td>a</td>\n      <td>a</td>\n      <td>1040.0</td>\n      <td>NaN</td>\n      <td>NaN</td>\n      <td>1</td>\n      <td>22.0</td>\n      <td>2012.0</td>\n      <td>Jan,Apr,Jul,Oct</td>\n    </tr>\n    <tr>\n      <th>25</th>\n      <td>26</td>\n      <td>d</td>\n      <td>a</td>\n      <td>2300.0</td>\n      <td>NaN</td>\n      <td>NaN</td>\n      <td>0</td>\n      <td>0.0</td>\n      <td>0.0</td>\n      <td>0,0,0,0</td>\n    </tr>\n    <tr>\n      <th>28</th>\n      <td>29</td>\n      <td>d</td>\n      <td>c</td>\n      <td>2170.0</td>\n      <td>NaN</td>\n      <td>NaN</td>\n      <td>0</td>\n      <td>0.0</td>\n      <td>0.0</td>\n      <td>0,0,0,0</td>\n    </tr>\n    <tr>\n      <th>31</th>\n      <td>32</td>\n      <td>a</td>\n      <td>a</td>\n      <td>2910.0</td>\n      <td>NaN</td>\n      <td>NaN</td>\n      <td>1</td>\n      <td>45.0</td>\n      <td>2009.0</td>\n      <td>Feb,May,Aug,Nov</td>\n    </tr>\n    <tr>\n      <th>39</th>\n      <td>40</td>\n      <td>a</td>\n      <td>a</td>\n      <td>180.0</td>\n      <td>NaN</td>\n      <td>NaN</td>\n      <td>1</td>\n      <td>45.0</td>\n      <td>2009.0</td>\n      <td>Feb,May,Aug,Nov</td>\n    </tr>\n    <tr>\n      <th>40</th>\n      <td>41</td>\n      <td>d</td>\n      <td>c</td>\n      <td>1180.0</td>\n      <td>NaN</td>\n      <td>NaN</td>\n      <td>1</td>\n      <td>31.0</td>\n      <td>2013.0</td>\n      <td>Jan,Apr,Jul,Oct</td>\n    </tr>\n  </tbody>\n</table>\n</div>",
      "text/plain": "    Store StoreType Assortment  CompetitionDistance  \\\n11     12         a          c               1070.0   \n12     13         d          a                310.0   \n15     16         a          c               3270.0   \n18     19         a          c               3240.0   \n21     22         a          a               1040.0   \n25     26         d          a               2300.0   \n28     29         d          c               2170.0   \n31     32         a          a               2910.0   \n39     40         a          a                180.0   \n40     41         d          c               1180.0   \n\n    CompetitionOpenSinceMonth  CompetitionOpenSinceYear  Promo2  \\\n11                        NaN                       NaN       1   \n12                        NaN                       NaN       1   \n15                        NaN                       NaN       0   \n18                        NaN                       NaN       1   \n21                        NaN                       NaN       1   \n25                        NaN                       NaN       0   \n28                        NaN                       NaN       0   \n31                        NaN                       NaN       1   \n39                        NaN                       NaN       1   \n40                        NaN                       NaN       1   \n\n    Promo2SinceWeek  Promo2SinceYear     PromoInterval  \n11             13.0           2010.0   Jan,Apr,Jul,Oct  \n12             45.0           2009.0   Feb,May,Aug,Nov  \n15              0.0              0.0           0,0,0,0  \n18             22.0           2011.0  Mar,Jun,Sept,Dec  \n21             22.0           2012.0   Jan,Apr,Jul,Oct  \n25              0.0              0.0           0,0,0,0  \n28              0.0              0.0           0,0,0,0  \n31             45.0           2009.0   Feb,May,Aug,Nov  \n39             45.0           2009.0   Feb,May,Aug,Nov  \n40             31.0           2013.0   Jan,Apr,Jul,Oct  "
     },
     "execution_count": 163,
     "metadata": {},
     "output_type": "execute_result"
    }
   ],
   "source": [
    "# dataframe containing the missing rows for columns in group 1\n",
    "group2_df = store_df[store_df['CompetitionOpenSinceMonth'].isna()]\n",
    "group2_df.head(10)"
   ]
  },
  {
   "cell_type": "code",
   "execution_count": 164,
   "metadata": {},
   "outputs": [
    {
     "data": {
      "text/html": "<div>\n<style scoped>\n    .dataframe tbody tr th:only-of-type {\n        vertical-align: middle;\n    }\n\n    .dataframe tbody tr th {\n        vertical-align: top;\n    }\n\n    .dataframe thead th {\n        text-align: right;\n    }\n</style>\n<table border=\"1\" class=\"dataframe\">\n  <thead>\n    <tr style=\"text-align: right;\">\n      <th></th>\n      <th>Column</th>\n      <th>Unique values</th>\n    </tr>\n  </thead>\n  <tbody>\n    <tr>\n      <th>0</th>\n      <td>Store</td>\n      <td>[512, 392, 855, 353, 352, 350, 617, 348, 346, ...</td>\n    </tr>\n    <tr>\n      <th>1</th>\n      <td>StoreType</td>\n      <td>[a, d, c, b]</td>\n    </tr>\n    <tr>\n      <th>2</th>\n      <td>Assortment</td>\n      <td>[c, a, b]</td>\n    </tr>\n    <tr>\n      <th>3</th>\n      <td>CompetitionDistance</td>\n      <td>[250.0, 50.0, 2410.0, 350.0, 130.0, 90.0, 220....</td>\n    </tr>\n    <tr>\n      <th>4</th>\n      <td>CompetitionOpenSinceMonth</td>\n      <td>[]</td>\n    </tr>\n    <tr>\n      <th>5</th>\n      <td>CompetitionOpenSinceYear</td>\n      <td>[]</td>\n    </tr>\n    <tr>\n      <th>6</th>\n      <td>Promo2</td>\n      <td>[1, 0]</td>\n    </tr>\n    <tr>\n      <th>7</th>\n      <td>Promo2SinceWeek</td>\n      <td>[0.0, 40.0, 14.0, 45.0, 31.0, 22.0, 5.0, 35.0,...</td>\n    </tr>\n    <tr>\n      <th>8</th>\n      <td>Promo2SinceYear</td>\n      <td>[0.0, 2013.0, 2011.0, 2009.0, 2012.0, 2014.0, ...</td>\n    </tr>\n    <tr>\n      <th>9</th>\n      <td>PromoInterval</td>\n      <td>[0,0,0,0, Jan,Apr,Jul,Oct, Feb,May,Aug,Nov, Ma...</td>\n    </tr>\n  </tbody>\n</table>\n</div>",
      "text/plain": "                      Column  \\\n0                      Store   \n1                  StoreType   \n2                 Assortment   \n3        CompetitionDistance   \n4  CompetitionOpenSinceMonth   \n5   CompetitionOpenSinceYear   \n6                     Promo2   \n7            Promo2SinceWeek   \n8            Promo2SinceYear   \n9              PromoInterval   \n\n                                       Unique values  \n0  [512, 392, 855, 353, 352, 350, 617, 348, 346, ...  \n1                                       [a, d, c, b]  \n2                                          [c, a, b]  \n3  [250.0, 50.0, 2410.0, 350.0, 130.0, 90.0, 220....  \n4                                                 []  \n5                                                 []  \n6                                             [1, 0]  \n7  [0.0, 40.0, 14.0, 45.0, 31.0, 22.0, 5.0, 35.0,...  \n8  [0.0, 2013.0, 2011.0, 2009.0, 2012.0, 2014.0, ...  \n9  [0,0,0,0, Jan,Apr,Jul,Oct, Feb,May,Aug,Nov, Ma...  "
     },
     "execution_count": 164,
     "metadata": {},
     "output_type": "execute_result"
    }
   ],
   "source": [
    "# all unique values for each column in the dataframe\n",
    "unique_values_df(group2_df)"
   ]
  },
  {
   "cell_type": "markdown",
   "metadata": {},
   "source": [
    "I can't see any pattern with the other columns. But from the column names and the data fields' description in the challange document we can understand that if CompetitionOpenSinceMonth and CompetitionOpenSinceYear are null it means there was already a competition when the store was opened. So we need impute the missing values in a meaningful way. Before doing that we will hold this meaning of an already existing competition in a separate column named CompetitionBeforeStoreOpened so that we can make use of this information in our analysis and prediction. This column will hold values of 0 and 1, 0 indicating the absence of competition at the time the store was opened and 1 indicating the presence of competition at the time the store was opened."
   ]
  },
  {
   "cell_type": "code",
   "execution_count": 165,
   "metadata": {},
   "outputs": [
    {
     "data": {
      "text/html": "<div>\n<style scoped>\n    .dataframe tbody tr th:only-of-type {\n        vertical-align: middle;\n    }\n\n    .dataframe tbody tr th {\n        vertical-align: top;\n    }\n\n    .dataframe thead th {\n        text-align: right;\n    }\n</style>\n<table border=\"1\" class=\"dataframe\">\n  <thead>\n    <tr style=\"text-align: right;\">\n      <th></th>\n      <th>Store</th>\n      <th>StoreType</th>\n      <th>Assortment</th>\n      <th>CompetitionDistance</th>\n      <th>CompetitionOpenSinceMonth</th>\n      <th>CompetitionOpenSinceYear</th>\n      <th>Promo2</th>\n      <th>Promo2SinceWeek</th>\n      <th>Promo2SinceYear</th>\n      <th>PromoInterval</th>\n      <th>CompetitionBeforeStoreOpened</th>\n    </tr>\n  </thead>\n  <tbody>\n    <tr>\n      <th>0</th>\n      <td>1</td>\n      <td>c</td>\n      <td>a</td>\n      <td>1270.0</td>\n      <td>9.0</td>\n      <td>2008.0</td>\n      <td>0</td>\n      <td>0.0</td>\n      <td>0.0</td>\n      <td>0,0,0,0</td>\n      <td>0</td>\n    </tr>\n    <tr>\n      <th>1</th>\n      <td>2</td>\n      <td>a</td>\n      <td>a</td>\n      <td>570.0</td>\n      <td>11.0</td>\n      <td>2007.0</td>\n      <td>1</td>\n      <td>13.0</td>\n      <td>2010.0</td>\n      <td>Jan,Apr,Jul,Oct</td>\n      <td>0</td>\n    </tr>\n    <tr>\n      <th>2</th>\n      <td>3</td>\n      <td>a</td>\n      <td>a</td>\n      <td>14130.0</td>\n      <td>12.0</td>\n      <td>2006.0</td>\n      <td>1</td>\n      <td>14.0</td>\n      <td>2011.0</td>\n      <td>Jan,Apr,Jul,Oct</td>\n      <td>0</td>\n    </tr>\n    <tr>\n      <th>3</th>\n      <td>4</td>\n      <td>c</td>\n      <td>c</td>\n      <td>620.0</td>\n      <td>9.0</td>\n      <td>2009.0</td>\n      <td>0</td>\n      <td>0.0</td>\n      <td>0.0</td>\n      <td>0,0,0,0</td>\n      <td>0</td>\n    </tr>\n    <tr>\n      <th>4</th>\n      <td>5</td>\n      <td>a</td>\n      <td>a</td>\n      <td>29910.0</td>\n      <td>4.0</td>\n      <td>2015.0</td>\n      <td>0</td>\n      <td>0.0</td>\n      <td>0.0</td>\n      <td>0,0,0,0</td>\n      <td>0</td>\n    </tr>\n    <tr>\n      <th>...</th>\n      <td>...</td>\n      <td>...</td>\n      <td>...</td>\n      <td>...</td>\n      <td>...</td>\n      <td>...</td>\n      <td>...</td>\n      <td>...</td>\n      <td>...</td>\n      <td>...</td>\n      <td>...</td>\n    </tr>\n    <tr>\n      <th>1110</th>\n      <td>1111</td>\n      <td>a</td>\n      <td>a</td>\n      <td>1900.0</td>\n      <td>6.0</td>\n      <td>2014.0</td>\n      <td>1</td>\n      <td>31.0</td>\n      <td>2013.0</td>\n      <td>Jan,Apr,Jul,Oct</td>\n      <td>0</td>\n    </tr>\n    <tr>\n      <th>1111</th>\n      <td>1112</td>\n      <td>c</td>\n      <td>c</td>\n      <td>1880.0</td>\n      <td>4.0</td>\n      <td>2006.0</td>\n      <td>0</td>\n      <td>0.0</td>\n      <td>0.0</td>\n      <td>0,0,0,0</td>\n      <td>0</td>\n    </tr>\n    <tr>\n      <th>1112</th>\n      <td>1113</td>\n      <td>a</td>\n      <td>c</td>\n      <td>9260.0</td>\n      <td>NaN</td>\n      <td>NaN</td>\n      <td>0</td>\n      <td>0.0</td>\n      <td>0.0</td>\n      <td>0,0,0,0</td>\n      <td>1</td>\n    </tr>\n    <tr>\n      <th>1113</th>\n      <td>1114</td>\n      <td>a</td>\n      <td>c</td>\n      <td>870.0</td>\n      <td>NaN</td>\n      <td>NaN</td>\n      <td>0</td>\n      <td>0.0</td>\n      <td>0.0</td>\n      <td>0,0,0,0</td>\n      <td>1</td>\n    </tr>\n    <tr>\n      <th>1114</th>\n      <td>1115</td>\n      <td>d</td>\n      <td>c</td>\n      <td>5350.0</td>\n      <td>NaN</td>\n      <td>NaN</td>\n      <td>1</td>\n      <td>22.0</td>\n      <td>2012.0</td>\n      <td>Mar,Jun,Sept,Dec</td>\n      <td>1</td>\n    </tr>\n  </tbody>\n</table>\n<p>1115 rows × 11 columns</p>\n</div>",
      "text/plain": "      Store StoreType Assortment  CompetitionDistance  \\\n0         1         c          a               1270.0   \n1         2         a          a                570.0   \n2         3         a          a              14130.0   \n3         4         c          c                620.0   \n4         5         a          a              29910.0   \n...     ...       ...        ...                  ...   \n1110   1111         a          a               1900.0   \n1111   1112         c          c               1880.0   \n1112   1113         a          c               9260.0   \n1113   1114         a          c                870.0   \n1114   1115         d          c               5350.0   \n\n      CompetitionOpenSinceMonth  CompetitionOpenSinceYear  Promo2  \\\n0                           9.0                    2008.0       0   \n1                          11.0                    2007.0       1   \n2                          12.0                    2006.0       1   \n3                           9.0                    2009.0       0   \n4                           4.0                    2015.0       0   \n...                         ...                       ...     ...   \n1110                        6.0                    2014.0       1   \n1111                        4.0                    2006.0       0   \n1112                        NaN                       NaN       0   \n1113                        NaN                       NaN       0   \n1114                        NaN                       NaN       1   \n\n      Promo2SinceWeek  Promo2SinceYear     PromoInterval  \\\n0                 0.0              0.0           0,0,0,0   \n1                13.0           2010.0   Jan,Apr,Jul,Oct   \n2                14.0           2011.0   Jan,Apr,Jul,Oct   \n3                 0.0              0.0           0,0,0,0   \n4                 0.0              0.0           0,0,0,0   \n...               ...              ...               ...   \n1110             31.0           2013.0   Jan,Apr,Jul,Oct   \n1111              0.0              0.0           0,0,0,0   \n1112              0.0              0.0           0,0,0,0   \n1113              0.0              0.0           0,0,0,0   \n1114             22.0           2012.0  Mar,Jun,Sept,Dec   \n\n      CompetitionBeforeStoreOpened  \n0                                0  \n1                                0  \n2                                0  \n3                                0  \n4                                0  \n...                            ...  \n1110                             0  \n1111                             0  \n1112                             1  \n1113                             1  \n1114                             1  \n\n[1115 rows x 11 columns]"
     },
     "execution_count": 165,
     "metadata": {},
     "output_type": "execute_result"
    }
   ],
   "source": [
    "# deriving new column\n",
    "store_df['CompetitionBeforeStoreOpened'] = store_df['CompetitionOpenSinceYear'].apply(lambda x: 1 if np.isnan(x) else 0)\n",
    "store_df"
   ]
  },
  {
   "cell_type": "markdown",
   "metadata": {},
   "source": [
    "Now we can impute the columns CompetitionOpenSinceMonth and CompetitionOpenSinceYear. So we will impute missing values in the column CompetitionOpenSinceYear and CompetitionOpenSinceMonth with its minimun value and 1 respectively. This kind of imputing assumes that the stores with missing values in these columns were opened after the first month of the minimum year value in the column CompetitionOpenSinceYear."
   ]
  },
  {
   "cell_type": "markdown",
   "metadata": {},
   "source": [
    "Let's find the minimum year value for CompetitionOpenSinceYear and impute the missing values."
   ]
  },
  {
   "cell_type": "code",
   "execution_count": 166,
   "metadata": {},
   "outputs": [
    {
     "data": {
      "text/plain": "1900.0"
     },
     "execution_count": 166,
     "metadata": {},
     "output_type": "execute_result"
    }
   ],
   "source": [
    "min_year = store_df['CompetitionOpenSinceYear'].min()\n",
    "min_year"
   ]
  },
  {
   "cell_type": "code",
   "execution_count": 167,
   "metadata": {},
   "outputs": [
    {
     "name": "stdout",
     "output_type": "stream",
     "text": [
      "354 missing values in the column CompetitionOpenSinceYear have been replaced by 1900.0.\n",
      "354 missing values in the column CompetitionOpenSinceMonth have been replaced by 1.\n"
     ]
    }
   ],
   "source": [
    "# impute the column CompetitionOpenSinceYear with 1900 and the column CompetitionOpenSinceMonth with 1\n",
    "fix_missing_value(store_df, ['CompetitionOpenSinceYear'], min_year)\n",
    "fix_missing_value(store_df, ['CompetitionOpenSinceMonth'], 1)"
   ]
  },
  {
   "cell_type": "code",
   "execution_count": 168,
   "metadata": {},
   "outputs": [
    {
     "data": {
      "text/html": "<div>\n<style scoped>\n    .dataframe tbody tr th:only-of-type {\n        vertical-align: middle;\n    }\n\n    .dataframe tbody tr th {\n        vertical-align: top;\n    }\n\n    .dataframe thead th {\n        text-align: right;\n    }\n</style>\n<table border=\"1\" class=\"dataframe\">\n  <thead>\n    <tr style=\"text-align: right;\">\n      <th></th>\n      <th>Store</th>\n      <th>StoreType</th>\n      <th>Assortment</th>\n      <th>CompetitionDistance</th>\n      <th>CompetitionOpenSinceMonth</th>\n      <th>CompetitionOpenSinceYear</th>\n      <th>Promo2</th>\n      <th>Promo2SinceWeek</th>\n      <th>Promo2SinceYear</th>\n      <th>PromoInterval</th>\n      <th>CompetitionBeforeStoreOpened</th>\n    </tr>\n  </thead>\n  <tbody>\n    <tr>\n      <th>0</th>\n      <td>1</td>\n      <td>c</td>\n      <td>a</td>\n      <td>1270.0</td>\n      <td>9.0</td>\n      <td>2008.0</td>\n      <td>0</td>\n      <td>0.0</td>\n      <td>0.0</td>\n      <td>0,0,0,0</td>\n      <td>0</td>\n    </tr>\n    <tr>\n      <th>1</th>\n      <td>2</td>\n      <td>a</td>\n      <td>a</td>\n      <td>570.0</td>\n      <td>11.0</td>\n      <td>2007.0</td>\n      <td>1</td>\n      <td>13.0</td>\n      <td>2010.0</td>\n      <td>Jan,Apr,Jul,Oct</td>\n      <td>0</td>\n    </tr>\n    <tr>\n      <th>2</th>\n      <td>3</td>\n      <td>a</td>\n      <td>a</td>\n      <td>14130.0</td>\n      <td>12.0</td>\n      <td>2006.0</td>\n      <td>1</td>\n      <td>14.0</td>\n      <td>2011.0</td>\n      <td>Jan,Apr,Jul,Oct</td>\n      <td>0</td>\n    </tr>\n    <tr>\n      <th>3</th>\n      <td>4</td>\n      <td>c</td>\n      <td>c</td>\n      <td>620.0</td>\n      <td>9.0</td>\n      <td>2009.0</td>\n      <td>0</td>\n      <td>0.0</td>\n      <td>0.0</td>\n      <td>0,0,0,0</td>\n      <td>0</td>\n    </tr>\n    <tr>\n      <th>4</th>\n      <td>5</td>\n      <td>a</td>\n      <td>a</td>\n      <td>29910.0</td>\n      <td>4.0</td>\n      <td>2015.0</td>\n      <td>0</td>\n      <td>0.0</td>\n      <td>0.0</td>\n      <td>0,0,0,0</td>\n      <td>0</td>\n    </tr>\n    <tr>\n      <th>...</th>\n      <td>...</td>\n      <td>...</td>\n      <td>...</td>\n      <td>...</td>\n      <td>...</td>\n      <td>...</td>\n      <td>...</td>\n      <td>...</td>\n      <td>...</td>\n      <td>...</td>\n      <td>...</td>\n    </tr>\n    <tr>\n      <th>1110</th>\n      <td>1111</td>\n      <td>a</td>\n      <td>a</td>\n      <td>1900.0</td>\n      <td>6.0</td>\n      <td>2014.0</td>\n      <td>1</td>\n      <td>31.0</td>\n      <td>2013.0</td>\n      <td>Jan,Apr,Jul,Oct</td>\n      <td>0</td>\n    </tr>\n    <tr>\n      <th>1111</th>\n      <td>1112</td>\n      <td>c</td>\n      <td>c</td>\n      <td>1880.0</td>\n      <td>4.0</td>\n      <td>2006.0</td>\n      <td>0</td>\n      <td>0.0</td>\n      <td>0.0</td>\n      <td>0,0,0,0</td>\n      <td>0</td>\n    </tr>\n    <tr>\n      <th>1112</th>\n      <td>1113</td>\n      <td>a</td>\n      <td>c</td>\n      <td>9260.0</td>\n      <td>1.0</td>\n      <td>1900.0</td>\n      <td>0</td>\n      <td>0.0</td>\n      <td>0.0</td>\n      <td>0,0,0,0</td>\n      <td>1</td>\n    </tr>\n    <tr>\n      <th>1113</th>\n      <td>1114</td>\n      <td>a</td>\n      <td>c</td>\n      <td>870.0</td>\n      <td>1.0</td>\n      <td>1900.0</td>\n      <td>0</td>\n      <td>0.0</td>\n      <td>0.0</td>\n      <td>0,0,0,0</td>\n      <td>1</td>\n    </tr>\n    <tr>\n      <th>1114</th>\n      <td>1115</td>\n      <td>d</td>\n      <td>c</td>\n      <td>5350.0</td>\n      <td>1.0</td>\n      <td>1900.0</td>\n      <td>1</td>\n      <td>22.0</td>\n      <td>2012.0</td>\n      <td>Mar,Jun,Sept,Dec</td>\n      <td>1</td>\n    </tr>\n  </tbody>\n</table>\n<p>1115 rows × 11 columns</p>\n</div>",
      "text/plain": "      Store StoreType Assortment  CompetitionDistance  \\\n0         1         c          a               1270.0   \n1         2         a          a                570.0   \n2         3         a          a              14130.0   \n3         4         c          c                620.0   \n4         5         a          a              29910.0   \n...     ...       ...        ...                  ...   \n1110   1111         a          a               1900.0   \n1111   1112         c          c               1880.0   \n1112   1113         a          c               9260.0   \n1113   1114         a          c                870.0   \n1114   1115         d          c               5350.0   \n\n      CompetitionOpenSinceMonth  CompetitionOpenSinceYear  Promo2  \\\n0                           9.0                    2008.0       0   \n1                          11.0                    2007.0       1   \n2                          12.0                    2006.0       1   \n3                           9.0                    2009.0       0   \n4                           4.0                    2015.0       0   \n...                         ...                       ...     ...   \n1110                        6.0                    2014.0       1   \n1111                        4.0                    2006.0       0   \n1112                        1.0                    1900.0       0   \n1113                        1.0                    1900.0       0   \n1114                        1.0                    1900.0       1   \n\n      Promo2SinceWeek  Promo2SinceYear     PromoInterval  \\\n0                 0.0              0.0           0,0,0,0   \n1                13.0           2010.0   Jan,Apr,Jul,Oct   \n2                14.0           2011.0   Jan,Apr,Jul,Oct   \n3                 0.0              0.0           0,0,0,0   \n4                 0.0              0.0           0,0,0,0   \n...               ...              ...               ...   \n1110             31.0           2013.0   Jan,Apr,Jul,Oct   \n1111              0.0              0.0           0,0,0,0   \n1112              0.0              0.0           0,0,0,0   \n1113              0.0              0.0           0,0,0,0   \n1114             22.0           2012.0  Mar,Jun,Sept,Dec   \n\n      CompetitionBeforeStoreOpened  \n0                                0  \n1                                0  \n2                                0  \n3                                0  \n4                                0  \n...                            ...  \n1110                             0  \n1111                             0  \n1112                             1  \n1113                             1  \n1114                             1  \n\n[1115 rows x 11 columns]"
     },
     "execution_count": 168,
     "metadata": {},
     "output_type": "execute_result"
    }
   ],
   "source": [
    "store_df"
   ]
  },
  {
   "cell_type": "markdown",
   "metadata": {},
   "source": [
    "Now we are left with missing values in the column CompetitionDistance. Let's see the rows containing these missing values."
   ]
  },
  {
   "cell_type": "code",
   "execution_count": 169,
   "metadata": {},
   "outputs": [
    {
     "data": {
      "text/html": "<div>\n<style scoped>\n    .dataframe tbody tr th:only-of-type {\n        vertical-align: middle;\n    }\n\n    .dataframe tbody tr th {\n        vertical-align: top;\n    }\n\n    .dataframe thead th {\n        text-align: right;\n    }\n</style>\n<table border=\"1\" class=\"dataframe\">\n  <thead>\n    <tr style=\"text-align: right;\">\n      <th></th>\n      <th>Store</th>\n      <th>StoreType</th>\n      <th>Assortment</th>\n      <th>CompetitionDistance</th>\n      <th>CompetitionOpenSinceMonth</th>\n      <th>CompetitionOpenSinceYear</th>\n      <th>Promo2</th>\n      <th>Promo2SinceWeek</th>\n      <th>Promo2SinceYear</th>\n      <th>PromoInterval</th>\n      <th>CompetitionBeforeStoreOpened</th>\n    </tr>\n  </thead>\n  <tbody>\n    <tr>\n      <th>290</th>\n      <td>291</td>\n      <td>d</td>\n      <td>a</td>\n      <td>NaN</td>\n      <td>1.0</td>\n      <td>1900.0</td>\n      <td>0</td>\n      <td>0.0</td>\n      <td>0.0</td>\n      <td>0,0,0,0</td>\n      <td>1</td>\n    </tr>\n    <tr>\n      <th>621</th>\n      <td>622</td>\n      <td>a</td>\n      <td>c</td>\n      <td>NaN</td>\n      <td>1.0</td>\n      <td>1900.0</td>\n      <td>0</td>\n      <td>0.0</td>\n      <td>0.0</td>\n      <td>0,0,0,0</td>\n      <td>1</td>\n    </tr>\n    <tr>\n      <th>878</th>\n      <td>879</td>\n      <td>d</td>\n      <td>a</td>\n      <td>NaN</td>\n      <td>1.0</td>\n      <td>1900.0</td>\n      <td>1</td>\n      <td>5.0</td>\n      <td>2013.0</td>\n      <td>Feb,May,Aug,Nov</td>\n      <td>1</td>\n    </tr>\n  </tbody>\n</table>\n</div>",
      "text/plain": "     Store StoreType Assortment  CompetitionDistance  \\\n290    291         d          a                  NaN   \n621    622         a          c                  NaN   \n878    879         d          a                  NaN   \n\n     CompetitionOpenSinceMonth  CompetitionOpenSinceYear  Promo2  \\\n290                        1.0                    1900.0       0   \n621                        1.0                    1900.0       0   \n878                        1.0                    1900.0       1   \n\n     Promo2SinceWeek  Promo2SinceYear    PromoInterval  \\\n290              0.0              0.0          0,0,0,0   \n621              0.0              0.0          0,0,0,0   \n878              5.0           2013.0  Feb,May,Aug,Nov   \n\n     CompetitionBeforeStoreOpened  \n290                             1  \n621                             1  \n878                             1  "
     },
     "execution_count": 169,
     "metadata": {},
     "output_type": "execute_result"
    }
   ],
   "source": [
    "temp_df = store_df[store_df['CompetitionDistance'].isna()]\n",
    "temp_df"
   ]
  },
  {
   "cell_type": "code",
   "execution_count": 170,
   "metadata": {},
   "outputs": [
    {
     "data": {
      "text/html": "<div>\n<style scoped>\n    .dataframe tbody tr th:only-of-type {\n        vertical-align: middle;\n    }\n\n    .dataframe tbody tr th {\n        vertical-align: top;\n    }\n\n    .dataframe thead th {\n        text-align: right;\n    }\n</style>\n<table border=\"1\" class=\"dataframe\">\n  <thead>\n    <tr style=\"text-align: right;\">\n      <th></th>\n      <th>Column</th>\n      <th>Unique values</th>\n    </tr>\n  </thead>\n  <tbody>\n    <tr>\n      <th>0</th>\n      <td>Store</td>\n      <td>[879, 622, 291]</td>\n    </tr>\n    <tr>\n      <th>1</th>\n      <td>StoreType</td>\n      <td>[d, a]</td>\n    </tr>\n    <tr>\n      <th>2</th>\n      <td>Assortment</td>\n      <td>[a, c]</td>\n    </tr>\n    <tr>\n      <th>3</th>\n      <td>CompetitionDistance</td>\n      <td>[]</td>\n    </tr>\n    <tr>\n      <th>4</th>\n      <td>CompetitionOpenSinceMonth</td>\n      <td>[1.0]</td>\n    </tr>\n    <tr>\n      <th>5</th>\n      <td>CompetitionOpenSinceYear</td>\n      <td>[1900.0]</td>\n    </tr>\n    <tr>\n      <th>6</th>\n      <td>Promo2</td>\n      <td>[0, 1]</td>\n    </tr>\n    <tr>\n      <th>7</th>\n      <td>Promo2SinceWeek</td>\n      <td>[0.0, 5.0]</td>\n    </tr>\n    <tr>\n      <th>8</th>\n      <td>Promo2SinceYear</td>\n      <td>[0.0, 2013.0]</td>\n    </tr>\n    <tr>\n      <th>9</th>\n      <td>PromoInterval</td>\n      <td>[0,0,0,0, Feb,May,Aug,Nov]</td>\n    </tr>\n    <tr>\n      <th>10</th>\n      <td>CompetitionBeforeStoreOpened</td>\n      <td>[1]</td>\n    </tr>\n  </tbody>\n</table>\n</div>",
      "text/plain": "                          Column               Unique values\n0                          Store             [879, 622, 291]\n1                      StoreType                      [d, a]\n2                     Assortment                      [a, c]\n3            CompetitionDistance                          []\n4      CompetitionOpenSinceMonth                       [1.0]\n5       CompetitionOpenSinceYear                    [1900.0]\n6                         Promo2                      [0, 1]\n7                Promo2SinceWeek                  [0.0, 5.0]\n8                Promo2SinceYear               [0.0, 2013.0]\n9                  PromoInterval  [0,0,0,0, Feb,May,Aug,Nov]\n10  CompetitionBeforeStoreOpened                         [1]"
     },
     "execution_count": 170,
     "metadata": {},
     "output_type": "execute_result"
    }
   ],
   "source": [
    "unique_values_df(temp_df)"
   ]
  },
  {
   "cell_type": "markdown",
   "metadata": {},
   "source": [
    "All rows with missing values in the column CompetitionDistance has a value of 1 in the column CompetitionBeforeStoreOpened. But this doesn't give us much information why the CompetitionDistance is null. But from common sense I guess this is because the competitions for these stores are very far away and have almost no impact on these stores that they weren't measured when collecting the data. For this reason, I will impute this values with the maximum competition distance."
   ]
  },
  {
   "cell_type": "code",
   "execution_count": 171,
   "metadata": {},
   "outputs": [
    {
     "data": {
      "text/plain": "75860.0"
     },
     "execution_count": 171,
     "metadata": {},
     "output_type": "execute_result"
    }
   ],
   "source": [
    "max_dist = store_df['CompetitionDistance'].max()\n",
    "max_dist"
   ]
  },
  {
   "cell_type": "code",
   "execution_count": 172,
   "metadata": {},
   "outputs": [
    {
     "name": "stdout",
     "output_type": "stream",
     "text": [
      "3 missing values in the column CompetitionDistance have been replaced by 75860.0.\n"
     ]
    }
   ],
   "source": [
    "fix_missing_value(store_df, ['CompetitionDistance'], max_dist)"
   ]
  },
  {
   "cell_type": "code",
   "execution_count": 173,
   "metadata": {},
   "outputs": [
    {
     "name": "stdout",
     "output_type": "stream",
     "text": [
      "The dataset contains 0.0 % missing values.\n"
     ]
    }
   ],
   "source": [
    "# final check for missing values\n",
    "percent_missing_values(store_df)"
   ]
  },
  {
   "cell_type": "markdown",
   "metadata": {},
   "source": [
    "### train_df"
   ]
  },
  {
   "cell_type": "code",
   "execution_count": 174,
   "metadata": {},
   "outputs": [
    {
     "name": "stdout",
     "output_type": "stream",
     "text": [
      "The dataset contains 0.0 % missing values.\n"
     ]
    }
   ],
   "source": [
    "percent_missing_values(train_df)"
   ]
  },
  {
   "cell_type": "markdown",
   "metadata": {},
   "source": [
    "We are lucky to have no missing values in this dataset as it contains more than a million rows. This is a rare thing to happen in the real world."
   ]
  },
  {
   "cell_type": "markdown",
   "metadata": {},
   "source": [
    "## Data Types"
   ]
  },
  {
   "cell_type": "markdown",
   "metadata": {},
   "source": [
    "### store_df"
   ]
  },
  {
   "cell_type": "markdown",
   "metadata": {},
   "source": [
    "Let's check if there are columns with mixed data types."
   ]
  },
  {
   "cell_type": "code",
   "execution_count": 175,
   "metadata": {},
   "outputs": [
    {
     "name": "stdout",
     "output_type": "stream",
     "text": [
      "None of the columns contain mixed types.\n"
     ]
    }
   ],
   "source": [
    "show_cols_mixed_dtypes(store_df)"
   ]
  },
  {
   "cell_type": "code",
   "execution_count": 176,
   "metadata": {},
   "outputs": [
    {
     "data": {
      "text/plain": "Store                             int64\nStoreType                        object\nAssortment                       object\nCompetitionDistance             float64\nCompetitionOpenSinceMonth       float64\nCompetitionOpenSinceYear        float64\nPromo2                            int64\nPromo2SinceWeek                 float64\nPromo2SinceYear                 float64\nPromoInterval                    object\nCompetitionBeforeStoreOpened      int64\ndtype: object"
     },
     "execution_count": 176,
     "metadata": {},
     "output_type": "execute_result"
    }
   ],
   "source": [
    "store_df.dtypes"
   ]
  },
  {
   "cell_type": "code",
   "execution_count": 177,
   "metadata": {},
   "outputs": [
    {
     "data": {
      "text/html": "<div>\n<style scoped>\n    .dataframe tbody tr th:only-of-type {\n        vertical-align: middle;\n    }\n\n    .dataframe tbody tr th {\n        vertical-align: top;\n    }\n\n    .dataframe thead th {\n        text-align: right;\n    }\n</style>\n<table border=\"1\" class=\"dataframe\">\n  <thead>\n    <tr style=\"text-align: right;\">\n      <th></th>\n      <th>Store</th>\n      <th>StoreType</th>\n      <th>Assortment</th>\n      <th>CompetitionDistance</th>\n      <th>CompetitionOpenSinceMonth</th>\n      <th>CompetitionOpenSinceYear</th>\n      <th>Promo2</th>\n      <th>Promo2SinceWeek</th>\n      <th>Promo2SinceYear</th>\n      <th>PromoInterval</th>\n      <th>CompetitionBeforeStoreOpened</th>\n    </tr>\n  </thead>\n  <tbody>\n    <tr>\n      <th>0</th>\n      <td>1</td>\n      <td>c</td>\n      <td>a</td>\n      <td>1270.0</td>\n      <td>9.0</td>\n      <td>2008.0</td>\n      <td>0</td>\n      <td>0.0</td>\n      <td>0.0</td>\n      <td>0,0,0,0</td>\n      <td>0</td>\n    </tr>\n    <tr>\n      <th>1</th>\n      <td>2</td>\n      <td>a</td>\n      <td>a</td>\n      <td>570.0</td>\n      <td>11.0</td>\n      <td>2007.0</td>\n      <td>1</td>\n      <td>13.0</td>\n      <td>2010.0</td>\n      <td>Jan,Apr,Jul,Oct</td>\n      <td>0</td>\n    </tr>\n    <tr>\n      <th>2</th>\n      <td>3</td>\n      <td>a</td>\n      <td>a</td>\n      <td>14130.0</td>\n      <td>12.0</td>\n      <td>2006.0</td>\n      <td>1</td>\n      <td>14.0</td>\n      <td>2011.0</td>\n      <td>Jan,Apr,Jul,Oct</td>\n      <td>0</td>\n    </tr>\n    <tr>\n      <th>3</th>\n      <td>4</td>\n      <td>c</td>\n      <td>c</td>\n      <td>620.0</td>\n      <td>9.0</td>\n      <td>2009.0</td>\n      <td>0</td>\n      <td>0.0</td>\n      <td>0.0</td>\n      <td>0,0,0,0</td>\n      <td>0</td>\n    </tr>\n    <tr>\n      <th>4</th>\n      <td>5</td>\n      <td>a</td>\n      <td>a</td>\n      <td>29910.0</td>\n      <td>4.0</td>\n      <td>2015.0</td>\n      <td>0</td>\n      <td>0.0</td>\n      <td>0.0</td>\n      <td>0,0,0,0</td>\n      <td>0</td>\n    </tr>\n  </tbody>\n</table>\n</div>",
      "text/plain": "   Store StoreType Assortment  CompetitionDistance  CompetitionOpenSinceMonth  \\\n0      1         c          a               1270.0                        9.0   \n1      2         a          a                570.0                       11.0   \n2      3         a          a              14130.0                       12.0   \n3      4         c          c                620.0                        9.0   \n4      5         a          a              29910.0                        4.0   \n\n   CompetitionOpenSinceYear  Promo2  Promo2SinceWeek  Promo2SinceYear  \\\n0                    2008.0       0              0.0              0.0   \n1                    2007.0       1             13.0           2010.0   \n2                    2006.0       1             14.0           2011.0   \n3                    2009.0       0              0.0              0.0   \n4                    2015.0       0              0.0              0.0   \n\n     PromoInterval  CompetitionBeforeStoreOpened  \n0          0,0,0,0                             0  \n1  Jan,Apr,Jul,Oct                             0  \n2  Jan,Apr,Jul,Oct                             0  \n3          0,0,0,0                             0  \n4          0,0,0,0                             0  "
     },
     "execution_count": 177,
     "metadata": {},
     "output_type": "execute_result"
    }
   ],
   "source": [
    "store_df.head()"
   ]
  },
  {
   "cell_type": "markdown",
   "metadata": {},
   "source": [
    "As we can see from the dataframe above StoreType, Assortment and PromoInterval hold string values. Note that even though PromoInterval holds list values, the are enclosed in string literals. We will convert the data types of these three columns to string. Converting PromoInterval to string is convenient for further processing elements in each value."
   ]
  },
  {
   "cell_type": "code",
   "execution_count": 178,
   "metadata": {},
   "outputs": [
    {
     "data": {
      "text/plain": "['StoreType', 'Assortment', 'PromoInterval']"
     },
     "execution_count": 178,
     "metadata": {},
     "output_type": "execute_result"
    }
   ],
   "source": [
    "# get the columns with object data type\n",
    "string_columns = store_df.select_dtypes(include='object').columns.tolist()\n",
    "string_columns"
   ]
  },
  {
   "cell_type": "code",
   "execution_count": 179,
   "metadata": {},
   "outputs": [],
   "source": [
    "convert_to_string(store_df, string_columns)"
   ]
  },
  {
   "cell_type": "markdown",
   "metadata": {},
   "source": [
    "We also know that the columns CompetitionOpenSinceMonth, CompetitionOpenSinceYear, Promo2SinceWeek, and Promo2SinceYear contain week, month and year information which can't be float. So we will change the data type of these columns to int64."
   ]
  },
  {
   "cell_type": "code",
   "execution_count": 180,
   "metadata": {},
   "outputs": [],
   "source": [
    "convert_to_int(store_df, ['CompetitionOpenSinceMonth',  'CompetitionOpenSinceYear',\n",
    "        'Promo2SinceWeek', 'Promo2SinceYear'])"
   ]
  },
  {
   "cell_type": "code",
   "execution_count": 181,
   "metadata": {},
   "outputs": [
    {
     "data": {
      "text/plain": "Store                             int64\nStoreType                        string\nAssortment                       string\nCompetitionDistance             float64\nCompetitionOpenSinceMonth         int64\nCompetitionOpenSinceYear          int64\nPromo2                            int64\nPromo2SinceWeek                   int64\nPromo2SinceYear                   int64\nPromoInterval                    string\nCompetitionBeforeStoreOpened      int64\ndtype: object"
     },
     "execution_count": 181,
     "metadata": {},
     "output_type": "execute_result"
    }
   ],
   "source": [
    "store_df.dtypes"
   ]
  },
  {
   "cell_type": "code",
   "execution_count": 182,
   "metadata": {},
   "outputs": [
    {
     "data": {
      "text/html": "<div>\n<style scoped>\n    .dataframe tbody tr th:only-of-type {\n        vertical-align: middle;\n    }\n\n    .dataframe tbody tr th {\n        vertical-align: top;\n    }\n\n    .dataframe thead th {\n        text-align: right;\n    }\n</style>\n<table border=\"1\" class=\"dataframe\">\n  <thead>\n    <tr style=\"text-align: right;\">\n      <th></th>\n      <th>Store</th>\n      <th>StoreType</th>\n      <th>Assortment</th>\n      <th>CompetitionDistance</th>\n      <th>CompetitionOpenSinceMonth</th>\n      <th>CompetitionOpenSinceYear</th>\n      <th>Promo2</th>\n      <th>Promo2SinceWeek</th>\n      <th>Promo2SinceYear</th>\n      <th>PromoInterval</th>\n      <th>CompetitionBeforeStoreOpened</th>\n    </tr>\n  </thead>\n  <tbody>\n    <tr>\n      <th>0</th>\n      <td>1</td>\n      <td>c</td>\n      <td>a</td>\n      <td>1270.0</td>\n      <td>9</td>\n      <td>2008</td>\n      <td>0</td>\n      <td>0</td>\n      <td>0</td>\n      <td>0,0,0,0</td>\n      <td>0</td>\n    </tr>\n    <tr>\n      <th>1</th>\n      <td>2</td>\n      <td>a</td>\n      <td>a</td>\n      <td>570.0</td>\n      <td>11</td>\n      <td>2007</td>\n      <td>1</td>\n      <td>13</td>\n      <td>2010</td>\n      <td>Jan,Apr,Jul,Oct</td>\n      <td>0</td>\n    </tr>\n    <tr>\n      <th>2</th>\n      <td>3</td>\n      <td>a</td>\n      <td>a</td>\n      <td>14130.0</td>\n      <td>12</td>\n      <td>2006</td>\n      <td>1</td>\n      <td>14</td>\n      <td>2011</td>\n      <td>Jan,Apr,Jul,Oct</td>\n      <td>0</td>\n    </tr>\n    <tr>\n      <th>3</th>\n      <td>4</td>\n      <td>c</td>\n      <td>c</td>\n      <td>620.0</td>\n      <td>9</td>\n      <td>2009</td>\n      <td>0</td>\n      <td>0</td>\n      <td>0</td>\n      <td>0,0,0,0</td>\n      <td>0</td>\n    </tr>\n    <tr>\n      <th>4</th>\n      <td>5</td>\n      <td>a</td>\n      <td>a</td>\n      <td>29910.0</td>\n      <td>4</td>\n      <td>2015</td>\n      <td>0</td>\n      <td>0</td>\n      <td>0</td>\n      <td>0,0,0,0</td>\n      <td>0</td>\n    </tr>\n  </tbody>\n</table>\n</div>",
      "text/plain": "   Store StoreType Assortment  CompetitionDistance  CompetitionOpenSinceMonth  \\\n0      1         c          a               1270.0                          9   \n1      2         a          a                570.0                         11   \n2      3         a          a              14130.0                         12   \n3      4         c          c                620.0                          9   \n4      5         a          a              29910.0                          4   \n\n   CompetitionOpenSinceYear  Promo2  Promo2SinceWeek  Promo2SinceYear  \\\n0                      2008       0                0                0   \n1                      2007       1               13             2010   \n2                      2006       1               14             2011   \n3                      2009       0                0                0   \n4                      2015       0                0                0   \n\n     PromoInterval  CompetitionBeforeStoreOpened  \n0          0,0,0,0                             0  \n1  Jan,Apr,Jul,Oct                             0  \n2  Jan,Apr,Jul,Oct                             0  \n3          0,0,0,0                             0  \n4          0,0,0,0                             0  "
     },
     "execution_count": 182,
     "metadata": {},
     "output_type": "execute_result"
    }
   ],
   "source": [
    "store_df.head()"
   ]
  },
  {
   "cell_type": "markdown",
   "metadata": {},
   "source": [
    "### train_df"
   ]
  },
  {
   "cell_type": "markdown",
   "metadata": {},
   "source": [
    "Let's check if there are columns with mixed data types."
   ]
  },
  {
   "cell_type": "code",
   "execution_count": 183,
   "metadata": {},
   "outputs": [
    {
     "name": "stdout",
     "output_type": "stream",
     "text": [
      "         Column      Data type\n",
      "0  StateHoliday  mixed-integer\n"
     ]
    }
   ],
   "source": [
    "show_cols_mixed_dtypes(train_df)"
   ]
  },
  {
   "cell_type": "markdown",
   "metadata": {},
   "source": [
    "So StateHoliday needs more investigation of the datatypes it contain. Let's look at the unique values."
   ]
  },
  {
   "cell_type": "code",
   "execution_count": 184,
   "metadata": {},
   "outputs": [
    {
     "data": {
      "text/plain": "0    855087\n0    131072\na     20260\nb      6690\nc      4100\nName: StateHoliday, dtype: int64"
     },
     "execution_count": 184,
     "metadata": {},
     "output_type": "execute_result"
    }
   ],
   "source": [
    "train_df['StateHoliday'].value_counts()"
   ]
  },
  {
   "cell_type": "code",
   "execution_count": 185,
   "metadata": {},
   "outputs": [
    {
     "data": {
      "text/plain": "Index(['0', 0, 'a', 'b', 'c'], dtype='object')"
     },
     "execution_count": 185,
     "metadata": {},
     "output_type": "execute_result"
    }
   ],
   "source": [
    "train_df['StateHoliday'].value_counts().index"
   ]
  },
  {
   "cell_type": "markdown",
   "metadata": {},
   "source": [
    "Here 0 is represented as an integer and a string. Since there are other string values we will convert the  StateHoliday column into string."
   ]
  },
  {
   "cell_type": "code",
   "execution_count": 186,
   "metadata": {},
   "outputs": [],
   "source": [
    "convert_to_string(train_df, ['StateHoliday'])"
   ]
  },
  {
   "cell_type": "code",
   "execution_count": 187,
   "metadata": {},
   "outputs": [
    {
     "data": {
      "text/plain": "Store             int64\nDayOfWeek         int64\nDate             object\nSales             int64\nCustomers         int64\nOpen              int64\nPromo             int64\nStateHoliday     string\nSchoolHoliday     int64\ndtype: object"
     },
     "execution_count": 187,
     "metadata": {},
     "output_type": "execute_result"
    }
   ],
   "source": [
    "train_df.dtypes"
   ]
  },
  {
   "cell_type": "code",
   "execution_count": 188,
   "metadata": {},
   "outputs": [
    {
     "data": {
      "text/html": "<div>\n<style scoped>\n    .dataframe tbody tr th:only-of-type {\n        vertical-align: middle;\n    }\n\n    .dataframe tbody tr th {\n        vertical-align: top;\n    }\n\n    .dataframe thead th {\n        text-align: right;\n    }\n</style>\n<table border=\"1\" class=\"dataframe\">\n  <thead>\n    <tr style=\"text-align: right;\">\n      <th></th>\n      <th>Store</th>\n      <th>DayOfWeek</th>\n      <th>Date</th>\n      <th>Sales</th>\n      <th>Customers</th>\n      <th>Open</th>\n      <th>Promo</th>\n      <th>StateHoliday</th>\n      <th>SchoolHoliday</th>\n    </tr>\n  </thead>\n  <tbody>\n    <tr>\n      <th>0</th>\n      <td>1</td>\n      <td>5</td>\n      <td>2015-07-31</td>\n      <td>5263</td>\n      <td>555</td>\n      <td>1</td>\n      <td>1</td>\n      <td>0</td>\n      <td>1</td>\n    </tr>\n    <tr>\n      <th>1</th>\n      <td>2</td>\n      <td>5</td>\n      <td>2015-07-31</td>\n      <td>6064</td>\n      <td>625</td>\n      <td>1</td>\n      <td>1</td>\n      <td>0</td>\n      <td>1</td>\n    </tr>\n    <tr>\n      <th>2</th>\n      <td>3</td>\n      <td>5</td>\n      <td>2015-07-31</td>\n      <td>8314</td>\n      <td>821</td>\n      <td>1</td>\n      <td>1</td>\n      <td>0</td>\n      <td>1</td>\n    </tr>\n    <tr>\n      <th>3</th>\n      <td>4</td>\n      <td>5</td>\n      <td>2015-07-31</td>\n      <td>13995</td>\n      <td>1498</td>\n      <td>1</td>\n      <td>1</td>\n      <td>0</td>\n      <td>1</td>\n    </tr>\n    <tr>\n      <th>4</th>\n      <td>5</td>\n      <td>5</td>\n      <td>2015-07-31</td>\n      <td>4822</td>\n      <td>559</td>\n      <td>1</td>\n      <td>1</td>\n      <td>0</td>\n      <td>1</td>\n    </tr>\n  </tbody>\n</table>\n</div>",
      "text/plain": "   Store  DayOfWeek        Date  Sales  Customers  Open  Promo StateHoliday  \\\n0      1          5  2015-07-31   5263        555     1      1            0   \n1      2          5  2015-07-31   6064        625     1      1            0   \n2      3          5  2015-07-31   8314        821     1      1            0   \n3      4          5  2015-07-31  13995       1498     1      1            0   \n4      5          5  2015-07-31   4822        559     1      1            0   \n\n   SchoolHoliday  \n0              1  \n1              1  \n2              1  \n3              1  \n4              1  "
     },
     "execution_count": 188,
     "metadata": {},
     "output_type": "execute_result"
    }
   ],
   "source": [
    "train_df.head()"
   ]
  },
  {
   "cell_type": "markdown",
   "metadata": {},
   "source": [
    "By observing the columns we can realize that the Date column actually contain datetime values even though its data type is object. So we will convert it to datetime data type."
   ]
  },
  {
   "cell_type": "code",
   "execution_count": 189,
   "metadata": {},
   "outputs": [],
   "source": [
    "convert_to_datetime(train_df, ['Date'])"
   ]
  },
  {
   "cell_type": "code",
   "execution_count": 190,
   "metadata": {},
   "outputs": [
    {
     "data": {
      "text/plain": "Store                     int64\nDayOfWeek                 int64\nDate             datetime64[ns]\nSales                     int64\nCustomers                 int64\nOpen                      int64\nPromo                     int64\nStateHoliday             string\nSchoolHoliday             int64\ndtype: object"
     },
     "execution_count": 190,
     "metadata": {},
     "output_type": "execute_result"
    }
   ],
   "source": [
    "train_df.dtypes"
   ]
  },
  {
   "cell_type": "markdown",
   "metadata": {},
   "source": [
    "## Duplicates"
   ]
  },
  {
   "cell_type": "markdown",
   "metadata": {},
   "source": [
    "### store_df"
   ]
  },
  {
   "cell_type": "code",
   "execution_count": 191,
   "metadata": {},
   "outputs": [
    {
     "name": "stdout",
     "output_type": "stream",
     "text": [
      "No duplicate rows were found.\n"
     ]
    }
   ],
   "source": [
    "# search for duplicate rows and drop them\n",
    "drop_duplicates(store_df)"
   ]
  },
  {
   "cell_type": "markdown",
   "metadata": {},
   "source": [
    "Since store is the id that uniquely identifies each record, there should be no duplicates. Let's check that."
   ]
  },
  {
   "cell_type": "code",
   "execution_count": 192,
   "metadata": {},
   "outputs": [
    {
     "data": {
      "text/plain": "False"
     },
     "execution_count": 192,
     "metadata": {},
     "output_type": "execute_result"
    }
   ],
   "source": [
    "store_df.duplicated(subset=['Store']).all()"
   ]
  },
  {
   "cell_type": "markdown",
   "metadata": {},
   "source": [
    "We are safe. No two rows in our dataset contain the same Store value."
   ]
  },
  {
   "cell_type": "markdown",
   "metadata": {},
   "source": [
    "### train_df"
   ]
  },
  {
   "cell_type": "code",
   "execution_count": 193,
   "metadata": {},
   "outputs": [
    {
     "name": "stdout",
     "output_type": "stream",
     "text": [
      "No duplicate rows were found.\n"
     ]
    }
   ],
   "source": [
    "# search for duplicate rows and drop them\n",
    "drop_duplicates(train_df)"
   ]
  },
  {
   "cell_type": "markdown",
   "metadata": {},
   "source": [
    "Since Store and Date are the columns that uniquely identify each record, there should be no duplicates. We can't have duplicate data for a store with the same date. Let's check whether such cases exist."
   ]
  },
  {
   "cell_type": "code",
   "execution_count": 194,
   "metadata": {},
   "outputs": [
    {
     "data": {
      "text/plain": "False"
     },
     "execution_count": 194,
     "metadata": {},
     "output_type": "execute_result"
    }
   ],
   "source": [
    "train_df.duplicated(subset=['Store', 'Date']).all()"
   ]
  },
  {
   "cell_type": "markdown",
   "metadata": {},
   "source": [
    "We are safe. No two rows in our dataset contain the same combination of Store and Date values."
   ]
  },
  {
   "cell_type": "markdown",
   "metadata": {},
   "source": [
    "## Feature Engineering"
   ]
  },
  {
   "cell_type": "markdown",
   "metadata": {},
   "source": [
    "### train_df"
   ]
  },
  {
   "cell_type": "markdown",
   "metadata": {},
   "source": [
    "Even though we have a date column it will be complex to query our data based on week, month, year, etc. So inorder tp gain complex insights easily, I have derived the following features."
   ]
  },
  {
   "cell_type": "code",
   "execution_count": 195,
   "metadata": {},
   "outputs": [],
   "source": [
    "train_df['Year'] = train_df['Date'].apply(lambda x: x.year)\n",
    "train_df['Month'] = train_df['Date'].apply(lambda x: x.month)\n",
    "train_df['DayOfMonth'] = train_df['Date'].apply(lambda x: x.day)\n",
    "train_df['WeekOfYear'] = train_df['Date'].apply(lambda x: x.weekofyear)\n",
    "train_df['weekday'] = train_df['DayOfWeek'].apply(lambda x: 1 if (x in [5, 6]) else 0)"
   ]
  },
  {
   "cell_type": "code",
   "execution_count": 196,
   "metadata": {},
   "outputs": [
    {
     "name": "stdout",
     "output_type": "stream",
     "text": [
      "<class 'pandas.core.frame.DataFrame'>\n",
      "Int64Index: 1017209 entries, 0 to 1017208\n",
      "Data columns (total 14 columns):\n",
      " #   Column         Non-Null Count    Dtype         \n",
      "---  ------         --------------    -----         \n",
      " 0   Store          1017209 non-null  int64         \n",
      " 1   DayOfWeek      1017209 non-null  int64         \n",
      " 2   Date           1017209 non-null  datetime64[ns]\n",
      " 3   Sales          1017209 non-null  int64         \n",
      " 4   Customers      1017209 non-null  int64         \n",
      " 5   Open           1017209 non-null  int64         \n",
      " 6   Promo          1017209 non-null  int64         \n",
      " 7   StateHoliday   1017209 non-null  string        \n",
      " 8   SchoolHoliday  1017209 non-null  int64         \n",
      " 9   Year           1017209 non-null  int64         \n",
      " 10  Month          1017209 non-null  int64         \n",
      " 11  DayOfMonth     1017209 non-null  int64         \n",
      " 12  WeekOfYear     1017209 non-null  int64         \n",
      " 13  weekday        1017209 non-null  int64         \n",
      "dtypes: datetime64[ns](1), int64(12), string(1)\n",
      "memory usage: 116.4 MB\n"
     ]
    }
   ],
   "source": [
    "train_df.info()"
   ]
  },
  {
   "cell_type": "code",
   "execution_count": 197,
   "metadata": {},
   "outputs": [
    {
     "data": {
      "text/html": "<div>\n<style scoped>\n    .dataframe tbody tr th:only-of-type {\n        vertical-align: middle;\n    }\n\n    .dataframe tbody tr th {\n        vertical-align: top;\n    }\n\n    .dataframe thead th {\n        text-align: right;\n    }\n</style>\n<table border=\"1\" class=\"dataframe\">\n  <thead>\n    <tr style=\"text-align: right;\">\n      <th></th>\n      <th>Store</th>\n      <th>DayOfWeek</th>\n      <th>Date</th>\n      <th>Sales</th>\n      <th>Customers</th>\n      <th>Open</th>\n      <th>Promo</th>\n      <th>StateHoliday</th>\n      <th>SchoolHoliday</th>\n      <th>Year</th>\n      <th>Month</th>\n      <th>DayOfMonth</th>\n      <th>WeekOfYear</th>\n      <th>weekday</th>\n    </tr>\n  </thead>\n  <tbody>\n    <tr>\n      <th>699512</th>\n      <td>78</td>\n      <td>6</td>\n      <td>2013-10-12</td>\n      <td>2753</td>\n      <td>448</td>\n      <td>1</td>\n      <td>0</td>\n      <td>0</td>\n      <td>0</td>\n      <td>2013</td>\n      <td>10</td>\n      <td>12</td>\n      <td>41</td>\n      <td>1</td>\n    </tr>\n    <tr>\n      <th>437216</th>\n      <td>922</td>\n      <td>4</td>\n      <td>2014-06-05</td>\n      <td>7597</td>\n      <td>690</td>\n      <td>1</td>\n      <td>1</td>\n      <td>0</td>\n      <td>0</td>\n      <td>2014</td>\n      <td>6</td>\n      <td>5</td>\n      <td>23</td>\n      <td>0</td>\n    </tr>\n    <tr>\n      <th>542018</th>\n      <td>914</td>\n      <td>1</td>\n      <td>2014-03-03</td>\n      <td>14334</td>\n      <td>1515</td>\n      <td>1</td>\n      <td>1</td>\n      <td>0</td>\n      <td>0</td>\n      <td>2014</td>\n      <td>3</td>\n      <td>3</td>\n      <td>10</td>\n      <td>0</td>\n    </tr>\n    <tr>\n      <th>539556</th>\n      <td>682</td>\n      <td>3</td>\n      <td>2014-03-05</td>\n      <td>14197</td>\n      <td>2003</td>\n      <td>1</td>\n      <td>1</td>\n      <td>0</td>\n      <td>0</td>\n      <td>2014</td>\n      <td>3</td>\n      <td>5</td>\n      <td>10</td>\n      <td>0</td>\n    </tr>\n    <tr>\n      <th>866306</th>\n      <td>737</td>\n      <td>4</td>\n      <td>2013-05-16</td>\n      <td>5800</td>\n      <td>917</td>\n      <td>1</td>\n      <td>1</td>\n      <td>0</td>\n      <td>0</td>\n      <td>2013</td>\n      <td>5</td>\n      <td>16</td>\n      <td>20</td>\n      <td>0</td>\n    </tr>\n    <tr>\n      <th>181270</th>\n      <td>641</td>\n      <td>4</td>\n      <td>2015-02-19</td>\n      <td>6788</td>\n      <td>564</td>\n      <td>1</td>\n      <td>1</td>\n      <td>0</td>\n      <td>0</td>\n      <td>2015</td>\n      <td>2</td>\n      <td>19</td>\n      <td>8</td>\n      <td>0</td>\n    </tr>\n    <tr>\n      <th>558795</th>\n      <td>966</td>\n      <td>7</td>\n      <td>2014-02-16</td>\n      <td>0</td>\n      <td>0</td>\n      <td>0</td>\n      <td>0</td>\n      <td>0</td>\n      <td>0</td>\n      <td>2014</td>\n      <td>2</td>\n      <td>16</td>\n      <td>7</td>\n      <td>0</td>\n    </tr>\n    <tr>\n      <th>222485</th>\n      <td>601</td>\n      <td>2</td>\n      <td>2015-01-13</td>\n      <td>5052</td>\n      <td>383</td>\n      <td>1</td>\n      <td>1</td>\n      <td>0</td>\n      <td>0</td>\n      <td>2015</td>\n      <td>1</td>\n      <td>13</td>\n      <td>3</td>\n      <td>0</td>\n    </tr>\n    <tr>\n      <th>334495</th>\n      <td>1045</td>\n      <td>4</td>\n      <td>2014-09-18</td>\n      <td>7335</td>\n      <td>1003</td>\n      <td>1</td>\n      <td>1</td>\n      <td>0</td>\n      <td>0</td>\n      <td>2014</td>\n      <td>9</td>\n      <td>18</td>\n      <td>38</td>\n      <td>0</td>\n    </tr>\n    <tr>\n      <th>933530</th>\n      <td>1061</td>\n      <td>7</td>\n      <td>2013-03-17</td>\n      <td>0</td>\n      <td>0</td>\n      <td>0</td>\n      <td>0</td>\n      <td>0</td>\n      <td>0</td>\n      <td>2013</td>\n      <td>3</td>\n      <td>17</td>\n      <td>11</td>\n      <td>0</td>\n    </tr>\n  </tbody>\n</table>\n</div>",
      "text/plain": "        Store  DayOfWeek       Date  Sales  Customers  Open  Promo  \\\n699512     78          6 2013-10-12   2753        448     1      0   \n437216    922          4 2014-06-05   7597        690     1      1   \n542018    914          1 2014-03-03  14334       1515     1      1   \n539556    682          3 2014-03-05  14197       2003     1      1   \n866306    737          4 2013-05-16   5800        917     1      1   \n181270    641          4 2015-02-19   6788        564     1      1   \n558795    966          7 2014-02-16      0          0     0      0   \n222485    601          2 2015-01-13   5052        383     1      1   \n334495   1045          4 2014-09-18   7335       1003     1      1   \n933530   1061          7 2013-03-17      0          0     0      0   \n\n       StateHoliday  SchoolHoliday  Year  Month  DayOfMonth  WeekOfYear  \\\n699512            0              0  2013     10          12          41   \n437216            0              0  2014      6           5          23   \n542018            0              0  2014      3           3          10   \n539556            0              0  2014      3           5          10   \n866306            0              0  2013      5          16          20   \n181270            0              0  2015      2          19           8   \n558795            0              0  2014      2          16           7   \n222485            0              0  2015      1          13           3   \n334495            0              0  2014      9          18          38   \n933530            0              0  2013      3          17          11   \n\n        weekday  \n699512        1  \n437216        0  \n542018        0  \n539556        0  \n866306        0  \n181270        0  \n558795        0  \n222485        0  \n334495        0  \n933530        0  "
     },
     "execution_count": 197,
     "metadata": {},
     "output_type": "execute_result"
    }
   ],
   "source": [
    "train_df.sample(10)"
   ]
  },
  {
   "cell_type": "markdown",
   "metadata": {},
   "source": [
    "## Saving Data"
   ]
  },
  {
   "cell_type": "code",
   "execution_count": 198,
   "metadata": {},
   "outputs": [],
   "source": [
    "# save the clean dataframe to a csv file\n",
    "train_df.to_csv('../data/clean_train.csv')\n",
    "store_df.to_csv('../data/clean_store.csv')"
   ]
  }
 ],
 "metadata": {
  "kernelspec": {
   "display_name": "Python 3.8.5 64-bit ('base': conda)",
   "name": "python385jvsc74a57bd0c30745a67ab3077685183c6616f760120387d2e186c7e6a99675e86d34cdfa12"
  },
  "language_info": {
   "codemirror_mode": {
    "name": "ipython",
    "version": 3
   },
   "file_extension": ".py",
   "mimetype": "text/x-python",
   "name": "python",
   "nbconvert_exporter": "python",
   "pygments_lexer": "ipython3",
   "version": "3.8.5"
  },
  "orig_nbformat": 2
 },
 "nbformat": 4,
 "nbformat_minor": 2
}