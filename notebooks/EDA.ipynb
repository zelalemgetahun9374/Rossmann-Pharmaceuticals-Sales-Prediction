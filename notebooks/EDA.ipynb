{
 "cells": [
  {
   "cell_type": "markdown",
   "metadata": {},
   "source": [
    "# Exploratory Data Analysis of Rossmann Pharmaceuticals Sales Data"
   ]
  },
  {
   "cell_type": "markdown",
   "metadata": {},
   "source": [
    "## Imports"
   ]
  },
  {
   "cell_type": "code",
   "execution_count": 84,
   "metadata": {},
   "outputs": [],
   "source": [
    "import numpy as np\n",
    "import pandas as pd\n",
    "import sys, os\n",
    "import matplotlib.pyplot as plt\n",
    "import seaborn as sns\n",
    "import plotly.express as px"
   ]
  },
  {
   "cell_type": "code",
   "execution_count": 85,
   "metadata": {},
   "outputs": [],
   "source": [
    "sys.path.append(os.path.abspath(os.path.join('../scripts')))\n",
    "from csv_helper import CsvHelper\n",
    "from df_selector import *\n",
    "from df_cleaner import *\n",
    "from df_visualizer import *\n",
    "from df_outlier_handler import OutlierHandler"
   ]
  },
  {
   "cell_type": "code",
   "execution_count": 86,
   "metadata": {},
   "outputs": [],
   "source": [
    "pd.set_option('display.max_columns', 50)"
   ]
  },
  {
   "cell_type": "markdown",
   "metadata": {},
   "source": [
    "## Utility Functions"
   ]
  },
  {
   "cell_type": "code",
   "execution_count": 87,
   "metadata": {},
   "outputs": [],
   "source": [
    "def unique_values_df(df):\n",
    "    unique_values = {'Column': [], 'Unique values': []}\n",
    "    for col in df:\n",
    "        unique_values['Column'].append(col)\n",
    "        values = df[col].value_counts().index.to_list()\n",
    "        unique_values['Unique values'].append(values)\n",
    "        tmp = pd.DataFrame(unique_values)\n",
    "    return tmp"
   ]
  },
  {
   "cell_type": "markdown",
   "metadata": {},
   "source": [
    "## Reading Data"
   ]
  },
  {
   "cell_type": "code",
   "execution_count": 88,
   "metadata": {},
   "outputs": [],
   "source": [
    "# create a CsvHelper object\n",
    "csv_helper = CsvHelper()"
   ]
  },
  {
   "cell_type": "code",
   "execution_count": 89,
   "metadata": {},
   "outputs": [
    {
     "data": {
      "text/html": "<div>\n<style scoped>\n    .dataframe tbody tr th:only-of-type {\n        vertical-align: middle;\n    }\n\n    .dataframe tbody tr th {\n        vertical-align: top;\n    }\n\n    .dataframe thead th {\n        text-align: right;\n    }\n</style>\n<table border=\"1\" class=\"dataframe\">\n  <thead>\n    <tr style=\"text-align: right;\">\n      <th></th>\n      <th>Store</th>\n      <th>StoreType</th>\n      <th>Assortment</th>\n      <th>CompetitionDistance</th>\n      <th>CompetitionOpenSinceMonth</th>\n      <th>CompetitionOpenSinceYear</th>\n      <th>Promo2</th>\n      <th>Promo2SinceWeek</th>\n      <th>Promo2SinceYear</th>\n      <th>PromoInterval</th>\n    </tr>\n  </thead>\n  <tbody>\n    <tr>\n      <th>0</th>\n      <td>1</td>\n      <td>c</td>\n      <td>a</td>\n      <td>1270.0</td>\n      <td>9.0</td>\n      <td>2008.0</td>\n      <td>0</td>\n      <td>NaN</td>\n      <td>NaN</td>\n      <td>NaN</td>\n    </tr>\n    <tr>\n      <th>1</th>\n      <td>2</td>\n      <td>a</td>\n      <td>a</td>\n      <td>570.0</td>\n      <td>11.0</td>\n      <td>2007.0</td>\n      <td>1</td>\n      <td>13.0</td>\n      <td>2010.0</td>\n      <td>Jan,Apr,Jul,Oct</td>\n    </tr>\n    <tr>\n      <th>2</th>\n      <td>3</td>\n      <td>a</td>\n      <td>a</td>\n      <td>14130.0</td>\n      <td>12.0</td>\n      <td>2006.0</td>\n      <td>1</td>\n      <td>14.0</td>\n      <td>2011.0</td>\n      <td>Jan,Apr,Jul,Oct</td>\n    </tr>\n    <tr>\n      <th>3</th>\n      <td>4</td>\n      <td>c</td>\n      <td>c</td>\n      <td>620.0</td>\n      <td>9.0</td>\n      <td>2009.0</td>\n      <td>0</td>\n      <td>NaN</td>\n      <td>NaN</td>\n      <td>NaN</td>\n    </tr>\n    <tr>\n      <th>4</th>\n      <td>5</td>\n      <td>a</td>\n      <td>a</td>\n      <td>29910.0</td>\n      <td>4.0</td>\n      <td>2015.0</td>\n      <td>0</td>\n      <td>NaN</td>\n      <td>NaN</td>\n      <td>NaN</td>\n    </tr>\n    <tr>\n      <th>5</th>\n      <td>6</td>\n      <td>a</td>\n      <td>a</td>\n      <td>310.0</td>\n      <td>12.0</td>\n      <td>2013.0</td>\n      <td>0</td>\n      <td>NaN</td>\n      <td>NaN</td>\n      <td>NaN</td>\n    </tr>\n    <tr>\n      <th>6</th>\n      <td>7</td>\n      <td>a</td>\n      <td>c</td>\n      <td>24000.0</td>\n      <td>4.0</td>\n      <td>2013.0</td>\n      <td>0</td>\n      <td>NaN</td>\n      <td>NaN</td>\n      <td>NaN</td>\n    </tr>\n    <tr>\n      <th>7</th>\n      <td>8</td>\n      <td>a</td>\n      <td>a</td>\n      <td>7520.0</td>\n      <td>10.0</td>\n      <td>2014.0</td>\n      <td>0</td>\n      <td>NaN</td>\n      <td>NaN</td>\n      <td>NaN</td>\n    </tr>\n    <tr>\n      <th>8</th>\n      <td>9</td>\n      <td>a</td>\n      <td>c</td>\n      <td>2030.0</td>\n      <td>8.0</td>\n      <td>2000.0</td>\n      <td>0</td>\n      <td>NaN</td>\n      <td>NaN</td>\n      <td>NaN</td>\n    </tr>\n    <tr>\n      <th>9</th>\n      <td>10</td>\n      <td>a</td>\n      <td>a</td>\n      <td>3160.0</td>\n      <td>9.0</td>\n      <td>2009.0</td>\n      <td>0</td>\n      <td>NaN</td>\n      <td>NaN</td>\n      <td>NaN</td>\n    </tr>\n  </tbody>\n</table>\n</div>",
      "text/plain": "   Store StoreType Assortment  CompetitionDistance  CompetitionOpenSinceMonth  \\\n0      1         c          a               1270.0                        9.0   \n1      2         a          a                570.0                       11.0   \n2      3         a          a              14130.0                       12.0   \n3      4         c          c                620.0                        9.0   \n4      5         a          a              29910.0                        4.0   \n5      6         a          a                310.0                       12.0   \n6      7         a          c              24000.0                        4.0   \n7      8         a          a               7520.0                       10.0   \n8      9         a          c               2030.0                        8.0   \n9     10         a          a               3160.0                        9.0   \n\n   CompetitionOpenSinceYear  Promo2  Promo2SinceWeek  Promo2SinceYear  \\\n0                    2008.0       0              NaN              NaN   \n1                    2007.0       1             13.0           2010.0   \n2                    2006.0       1             14.0           2011.0   \n3                    2009.0       0              NaN              NaN   \n4                    2015.0       0              NaN              NaN   \n5                    2013.0       0              NaN              NaN   \n6                    2013.0       0              NaN              NaN   \n7                    2014.0       0              NaN              NaN   \n8                    2000.0       0              NaN              NaN   \n9                    2009.0       0              NaN              NaN   \n\n     PromoInterval  \n0              NaN  \n1  Jan,Apr,Jul,Oct  \n2  Jan,Apr,Jul,Oct  \n3              NaN  \n4              NaN  \n5              NaN  \n6              NaN  \n7              NaN  \n8              NaN  \n9              NaN  "
     },
     "execution_count": 89,
     "metadata": {},
     "output_type": "execute_result"
    }
   ],
   "source": [
    "# reading the store csv file\n",
    "store_df = csv_helper.read_csv(\"../data/store.csv\")\n",
    "store_df.head(10)"
   ]
  },
  {
   "cell_type": "code",
   "execution_count": 90,
   "metadata": {},
   "outputs": [
    {
     "name": "stderr",
     "output_type": "stream",
     "text": [
      "/home/z/.local/lib/python3.8/site-packages/IPython/core/interactiveshell.py:3361: DtypeWarning:\n",
      "\n",
      "Columns (7) have mixed types.Specify dtype option on import or set low_memory=False.\n",
      "\n"
     ]
    },
    {
     "data": {
      "text/html": "<div>\n<style scoped>\n    .dataframe tbody tr th:only-of-type {\n        vertical-align: middle;\n    }\n\n    .dataframe tbody tr th {\n        vertical-align: top;\n    }\n\n    .dataframe thead th {\n        text-align: right;\n    }\n</style>\n<table border=\"1\" class=\"dataframe\">\n  <thead>\n    <tr style=\"text-align: right;\">\n      <th></th>\n      <th>Store</th>\n      <th>DayOfWeek</th>\n      <th>Date</th>\n      <th>Sales</th>\n      <th>Customers</th>\n      <th>Open</th>\n      <th>Promo</th>\n      <th>StateHoliday</th>\n      <th>SchoolHoliday</th>\n    </tr>\n  </thead>\n  <tbody>\n    <tr>\n      <th>0</th>\n      <td>1</td>\n      <td>5</td>\n      <td>2015-07-31</td>\n      <td>5263</td>\n      <td>555</td>\n      <td>1</td>\n      <td>1</td>\n      <td>0</td>\n      <td>1</td>\n    </tr>\n    <tr>\n      <th>1</th>\n      <td>2</td>\n      <td>5</td>\n      <td>2015-07-31</td>\n      <td>6064</td>\n      <td>625</td>\n      <td>1</td>\n      <td>1</td>\n      <td>0</td>\n      <td>1</td>\n    </tr>\n    <tr>\n      <th>2</th>\n      <td>3</td>\n      <td>5</td>\n      <td>2015-07-31</td>\n      <td>8314</td>\n      <td>821</td>\n      <td>1</td>\n      <td>1</td>\n      <td>0</td>\n      <td>1</td>\n    </tr>\n    <tr>\n      <th>3</th>\n      <td>4</td>\n      <td>5</td>\n      <td>2015-07-31</td>\n      <td>13995</td>\n      <td>1498</td>\n      <td>1</td>\n      <td>1</td>\n      <td>0</td>\n      <td>1</td>\n    </tr>\n    <tr>\n      <th>4</th>\n      <td>5</td>\n      <td>5</td>\n      <td>2015-07-31</td>\n      <td>4822</td>\n      <td>559</td>\n      <td>1</td>\n      <td>1</td>\n      <td>0</td>\n      <td>1</td>\n    </tr>\n    <tr>\n      <th>5</th>\n      <td>6</td>\n      <td>5</td>\n      <td>2015-07-31</td>\n      <td>5651</td>\n      <td>589</td>\n      <td>1</td>\n      <td>1</td>\n      <td>0</td>\n      <td>1</td>\n    </tr>\n    <tr>\n      <th>6</th>\n      <td>7</td>\n      <td>5</td>\n      <td>2015-07-31</td>\n      <td>15344</td>\n      <td>1414</td>\n      <td>1</td>\n      <td>1</td>\n      <td>0</td>\n      <td>1</td>\n    </tr>\n    <tr>\n      <th>7</th>\n      <td>8</td>\n      <td>5</td>\n      <td>2015-07-31</td>\n      <td>8492</td>\n      <td>833</td>\n      <td>1</td>\n      <td>1</td>\n      <td>0</td>\n      <td>1</td>\n    </tr>\n    <tr>\n      <th>8</th>\n      <td>9</td>\n      <td>5</td>\n      <td>2015-07-31</td>\n      <td>8565</td>\n      <td>687</td>\n      <td>1</td>\n      <td>1</td>\n      <td>0</td>\n      <td>1</td>\n    </tr>\n    <tr>\n      <th>9</th>\n      <td>10</td>\n      <td>5</td>\n      <td>2015-07-31</td>\n      <td>7185</td>\n      <td>681</td>\n      <td>1</td>\n      <td>1</td>\n      <td>0</td>\n      <td>1</td>\n    </tr>\n  </tbody>\n</table>\n</div>",
      "text/plain": "   Store  DayOfWeek        Date  Sales  Customers  Open  Promo StateHoliday  \\\n0      1          5  2015-07-31   5263        555     1      1            0   \n1      2          5  2015-07-31   6064        625     1      1            0   \n2      3          5  2015-07-31   8314        821     1      1            0   \n3      4          5  2015-07-31  13995       1498     1      1            0   \n4      5          5  2015-07-31   4822        559     1      1            0   \n5      6          5  2015-07-31   5651        589     1      1            0   \n6      7          5  2015-07-31  15344       1414     1      1            0   \n7      8          5  2015-07-31   8492        833     1      1            0   \n8      9          5  2015-07-31   8565        687     1      1            0   \n9     10          5  2015-07-31   7185        681     1      1            0   \n\n   SchoolHoliday  \n0              1  \n1              1  \n2              1  \n3              1  \n4              1  \n5              1  \n6              1  \n7              1  \n8              1  \n9              1  "
     },
     "execution_count": 90,
     "metadata": {},
     "output_type": "execute_result"
    }
   ],
   "source": [
    "# reading the sales training csv file\n",
    "train_df = csv_helper.read_csv(\"../data/train.csv\")\n",
    "train_df.head(10)"
   ]
  },
  {
   "cell_type": "markdown",
   "metadata": {},
   "source": [
    "## General Statistics"
   ]
  },
  {
   "cell_type": "markdown",
   "metadata": {},
   "source": [
    "### store_df"
   ]
  },
  {
   "cell_type": "code",
   "execution_count": 91,
   "metadata": {},
   "outputs": [
    {
     "data": {
      "text/plain": "11150"
     },
     "execution_count": 91,
     "metadata": {},
     "output_type": "execute_result"
    }
   ],
   "source": [
    "# number of elements in the store df\n",
    "store_df.size"
   ]
  },
  {
   "cell_type": "code",
   "execution_count": 92,
   "metadata": {},
   "outputs": [
    {
     "data": {
      "text/plain": "(1115, 10)"
     },
     "execution_count": 92,
     "metadata": {},
     "output_type": "execute_result"
    }
   ],
   "source": [
    "# rows and columns in the df\n",
    "store_df.shape"
   ]
  },
  {
   "cell_type": "code",
   "execution_count": 93,
   "metadata": {},
   "outputs": [
    {
     "name": "stdout",
     "output_type": "stream",
     "text": [
      "<class 'pandas.core.frame.DataFrame'>\n",
      "RangeIndex: 1115 entries, 0 to 1114\n",
      "Data columns (total 10 columns):\n",
      " #   Column                     Non-Null Count  Dtype  \n",
      "---  ------                     --------------  -----  \n",
      " 0   Store                      1115 non-null   int64  \n",
      " 1   StoreType                  1115 non-null   object \n",
      " 2   Assortment                 1115 non-null   object \n",
      " 3   CompetitionDistance        1112 non-null   float64\n",
      " 4   CompetitionOpenSinceMonth  761 non-null    float64\n",
      " 5   CompetitionOpenSinceYear   761 non-null    float64\n",
      " 6   Promo2                     1115 non-null   int64  \n",
      " 7   Promo2SinceWeek            571 non-null    float64\n",
      " 8   Promo2SinceYear            571 non-null    float64\n",
      " 9   PromoInterval              571 non-null    object \n",
      "dtypes: float64(5), int64(2), object(3)\n",
      "memory usage: 87.2+ KB\n"
     ]
    }
   ],
   "source": [
    "store_df.info()"
   ]
  },
  {
   "cell_type": "markdown",
   "metadata": {},
   "source": [
    "### train_df"
   ]
  },
  {
   "cell_type": "code",
   "execution_count": 94,
   "metadata": {},
   "outputs": [
    {
     "data": {
      "text/plain": "9154881"
     },
     "execution_count": 94,
     "metadata": {},
     "output_type": "execute_result"
    }
   ],
   "source": [
    "# number of elements in the train df\n",
    "train_df.size"
   ]
  },
  {
   "cell_type": "code",
   "execution_count": 95,
   "metadata": {},
   "outputs": [
    {
     "data": {
      "text/plain": "(1017209, 9)"
     },
     "execution_count": 95,
     "metadata": {},
     "output_type": "execute_result"
    }
   ],
   "source": [
    "# rows and columns in the df\n",
    "train_df.shape"
   ]
  },
  {
   "cell_type": "code",
   "execution_count": 96,
   "metadata": {},
   "outputs": [
    {
     "name": "stdout",
     "output_type": "stream",
     "text": [
      "<class 'pandas.core.frame.DataFrame'>\n",
      "RangeIndex: 1017209 entries, 0 to 1017208\n",
      "Data columns (total 9 columns):\n",
      " #   Column         Non-Null Count    Dtype \n",
      "---  ------         --------------    ----- \n",
      " 0   Store          1017209 non-null  int64 \n",
      " 1   DayOfWeek      1017209 non-null  int64 \n",
      " 2   Date           1017209 non-null  object\n",
      " 3   Sales          1017209 non-null  int64 \n",
      " 4   Customers      1017209 non-null  int64 \n",
      " 5   Open           1017209 non-null  int64 \n",
      " 6   Promo          1017209 non-null  int64 \n",
      " 7   StateHoliday   1017209 non-null  object\n",
      " 8   SchoolHoliday  1017209 non-null  int64 \n",
      "dtypes: int64(7), object(2)\n",
      "memory usage: 69.8+ MB\n"
     ]
    }
   ],
   "source": [
    "train_df.info()"
   ]
  },
  {
   "cell_type": "markdown",
   "metadata": {},
   "source": [
    "## Missing Values"
   ]
  },
  {
   "cell_type": "markdown",
   "metadata": {},
   "source": [
    "### store_df"
   ]
  },
  {
   "cell_type": "code",
   "execution_count": 97,
   "metadata": {},
   "outputs": [
    {
     "name": "stdout",
     "output_type": "stream",
     "text": [
      "The dataset contains 21.01 % missing values.\n"
     ]
    }
   ],
   "source": [
    "percent_missing_values(store_df)"
   ]
  },
  {
   "cell_type": "code",
   "execution_count": 98,
   "metadata": {},
   "outputs": [
    {
     "name": "stdout",
     "output_type": "stream",
     "text": [
      "Your selected dataframe has 10 columns.\n",
      "There are 6 columns that have missing values.\n"
     ]
    }
   ],
   "source": [
    "missing_df = missing_values_table(store_df)"
   ]
  },
  {
   "cell_type": "code",
   "execution_count": 99,
   "metadata": {},
   "outputs": [
    {
     "data": {
      "text/html": "<div>\n<style scoped>\n    .dataframe tbody tr th:only-of-type {\n        vertical-align: middle;\n    }\n\n    .dataframe tbody tr th {\n        vertical-align: top;\n    }\n\n    .dataframe thead th {\n        text-align: right;\n    }\n</style>\n<table border=\"1\" class=\"dataframe\">\n  <thead>\n    <tr style=\"text-align: right;\">\n      <th></th>\n      <th>Missing Values</th>\n      <th>% of Total Values</th>\n      <th>Dtype</th>\n    </tr>\n  </thead>\n  <tbody>\n    <tr>\n      <th>Promo2SinceWeek</th>\n      <td>544</td>\n      <td>48.79</td>\n      <td>float64</td>\n    </tr>\n    <tr>\n      <th>Promo2SinceYear</th>\n      <td>544</td>\n      <td>48.79</td>\n      <td>float64</td>\n    </tr>\n    <tr>\n      <th>PromoInterval</th>\n      <td>544</td>\n      <td>48.79</td>\n      <td>object</td>\n    </tr>\n    <tr>\n      <th>CompetitionOpenSinceMonth</th>\n      <td>354</td>\n      <td>31.75</td>\n      <td>float64</td>\n    </tr>\n    <tr>\n      <th>CompetitionOpenSinceYear</th>\n      <td>354</td>\n      <td>31.75</td>\n      <td>float64</td>\n    </tr>\n    <tr>\n      <th>CompetitionDistance</th>\n      <td>3</td>\n      <td>0.27</td>\n      <td>float64</td>\n    </tr>\n  </tbody>\n</table>\n</div>",
      "text/plain": "                           Missing Values  % of Total Values    Dtype\nPromo2SinceWeek                       544              48.79  float64\nPromo2SinceYear                       544              48.79  float64\nPromoInterval                         544              48.79   object\nCompetitionOpenSinceMonth             354              31.75  float64\nCompetitionOpenSinceYear              354              31.75  float64\nCompetitionDistance                     3               0.27  float64"
     },
     "execution_count": 99,
     "metadata": {},
     "output_type": "execute_result"
    }
   ],
   "source": [
    "missing_df"
   ]
  },
  {
   "cell_type": "markdown",
   "metadata": {},
   "source": [
    "From the missing table we can recognize two groups with a pattern, the first 3 columns and the next 2 columns. Columns in each group have the same number of missing values. This indicates that if we investigate deeper we might get some insight."
   ]
  },
  {
   "cell_type": "markdown",
   "metadata": {},
   "source": [
    "Let's see the row number of rows with missing values in general then in each group."
   ]
  },
  {
   "cell_type": "code",
   "execution_count": 100,
   "metadata": {},
   "outputs": [
    {
     "name": "stdout",
     "output_type": "stream",
     "text": [
      "750 rows(67.26%) contain atleast one missing value.\n"
     ]
    }
   ],
   "source": [
    "# number of rows with missing values for the whole dataset\n",
    "count_missing_rows(store_df)"
   ]
  },
  {
   "cell_type": "code",
   "execution_count": 101,
   "metadata": {},
   "outputs": [
    {
     "name": "stdout",
     "output_type": "stream",
     "text": [
      "544 rows(48.79%) contain atleast one missing value.\n"
     ]
    }
   ],
   "source": [
    "# number of rows with missing values for group 1 (Promo2SinceWeek, Promo2SinceYear, and PromoInterval)\n",
    "count_missing_rows(store_df[['Promo2SinceWeek', 'Promo2SinceYear', 'PromoInterval']])"
   ]
  },
  {
   "cell_type": "code",
   "execution_count": 102,
   "metadata": {},
   "outputs": [
    {
     "name": "stdout",
     "output_type": "stream",
     "text": [
      "354 rows(31.75%) contain atleast one missing value.\n"
     ]
    }
   ],
   "source": [
    "# number of rows with missing values for group 2 (CompetitionOpenSinceMonth, and CompetitionOpenSinceYear)\n",
    "count_missing_rows(store_df[['CompetitionOpenSinceMonth', 'CompetitionOpenSinceYear']])"
   ]
  },
  {
   "cell_type": "markdown",
   "metadata": {},
   "source": [
    "As guessed we have got an interesting insight. Each columuns in these groups have missing values in the same rows as their groupmates. These means the missing values in these groups appear at the same time as a cluster. From the column names and the data fields' description in the challange document we can understand that the values of the columns in each group share a common information. Let's investigate."
   ]
  },
  {
   "cell_type": "code",
   "execution_count": 103,
   "metadata": {},
   "outputs": [
    {
     "data": {
      "text/html": "<div>\n<style scoped>\n    .dataframe tbody tr th:only-of-type {\n        vertical-align: middle;\n    }\n\n    .dataframe tbody tr th {\n        vertical-align: top;\n    }\n\n    .dataframe thead th {\n        text-align: right;\n    }\n</style>\n<table border=\"1\" class=\"dataframe\">\n  <thead>\n    <tr style=\"text-align: right;\">\n      <th></th>\n      <th>Store</th>\n      <th>StoreType</th>\n      <th>Assortment</th>\n      <th>CompetitionDistance</th>\n      <th>CompetitionOpenSinceMonth</th>\n      <th>CompetitionOpenSinceYear</th>\n      <th>Promo2</th>\n      <th>Promo2SinceWeek</th>\n      <th>Promo2SinceYear</th>\n      <th>PromoInterval</th>\n    </tr>\n  </thead>\n  <tbody>\n    <tr>\n      <th>0</th>\n      <td>1</td>\n      <td>c</td>\n      <td>a</td>\n      <td>1270.0</td>\n      <td>9.0</td>\n      <td>2008.0</td>\n      <td>0</td>\n      <td>NaN</td>\n      <td>NaN</td>\n      <td>NaN</td>\n    </tr>\n    <tr>\n      <th>3</th>\n      <td>4</td>\n      <td>c</td>\n      <td>c</td>\n      <td>620.0</td>\n      <td>9.0</td>\n      <td>2009.0</td>\n      <td>0</td>\n      <td>NaN</td>\n      <td>NaN</td>\n      <td>NaN</td>\n    </tr>\n    <tr>\n      <th>4</th>\n      <td>5</td>\n      <td>a</td>\n      <td>a</td>\n      <td>29910.0</td>\n      <td>4.0</td>\n      <td>2015.0</td>\n      <td>0</td>\n      <td>NaN</td>\n      <td>NaN</td>\n      <td>NaN</td>\n    </tr>\n    <tr>\n      <th>5</th>\n      <td>6</td>\n      <td>a</td>\n      <td>a</td>\n      <td>310.0</td>\n      <td>12.0</td>\n      <td>2013.0</td>\n      <td>0</td>\n      <td>NaN</td>\n      <td>NaN</td>\n      <td>NaN</td>\n    </tr>\n    <tr>\n      <th>6</th>\n      <td>7</td>\n      <td>a</td>\n      <td>c</td>\n      <td>24000.0</td>\n      <td>4.0</td>\n      <td>2013.0</td>\n      <td>0</td>\n      <td>NaN</td>\n      <td>NaN</td>\n      <td>NaN</td>\n    </tr>\n    <tr>\n      <th>7</th>\n      <td>8</td>\n      <td>a</td>\n      <td>a</td>\n      <td>7520.0</td>\n      <td>10.0</td>\n      <td>2014.0</td>\n      <td>0</td>\n      <td>NaN</td>\n      <td>NaN</td>\n      <td>NaN</td>\n    </tr>\n    <tr>\n      <th>8</th>\n      <td>9</td>\n      <td>a</td>\n      <td>c</td>\n      <td>2030.0</td>\n      <td>8.0</td>\n      <td>2000.0</td>\n      <td>0</td>\n      <td>NaN</td>\n      <td>NaN</td>\n      <td>NaN</td>\n    </tr>\n    <tr>\n      <th>9</th>\n      <td>10</td>\n      <td>a</td>\n      <td>a</td>\n      <td>3160.0</td>\n      <td>9.0</td>\n      <td>2009.0</td>\n      <td>0</td>\n      <td>NaN</td>\n      <td>NaN</td>\n      <td>NaN</td>\n    </tr>\n    <tr>\n      <th>15</th>\n      <td>16</td>\n      <td>a</td>\n      <td>c</td>\n      <td>3270.0</td>\n      <td>NaN</td>\n      <td>NaN</td>\n      <td>0</td>\n      <td>NaN</td>\n      <td>NaN</td>\n      <td>NaN</td>\n    </tr>\n    <tr>\n      <th>22</th>\n      <td>23</td>\n      <td>d</td>\n      <td>a</td>\n      <td>4060.0</td>\n      <td>8.0</td>\n      <td>2005.0</td>\n      <td>0</td>\n      <td>NaN</td>\n      <td>NaN</td>\n      <td>NaN</td>\n    </tr>\n  </tbody>\n</table>\n</div>",
      "text/plain": "    Store StoreType Assortment  CompetitionDistance  \\\n0       1         c          a               1270.0   \n3       4         c          c                620.0   \n4       5         a          a              29910.0   \n5       6         a          a                310.0   \n6       7         a          c              24000.0   \n7       8         a          a               7520.0   \n8       9         a          c               2030.0   \n9      10         a          a               3160.0   \n15     16         a          c               3270.0   \n22     23         d          a               4060.0   \n\n    CompetitionOpenSinceMonth  CompetitionOpenSinceYear  Promo2  \\\n0                         9.0                    2008.0       0   \n3                         9.0                    2009.0       0   \n4                         4.0                    2015.0       0   \n5                        12.0                    2013.0       0   \n6                         4.0                    2013.0       0   \n7                        10.0                    2014.0       0   \n8                         8.0                    2000.0       0   \n9                         9.0                    2009.0       0   \n15                        NaN                       NaN       0   \n22                        8.0                    2005.0       0   \n\n    Promo2SinceWeek  Promo2SinceYear PromoInterval  \n0               NaN              NaN           NaN  \n3               NaN              NaN           NaN  \n4               NaN              NaN           NaN  \n5               NaN              NaN           NaN  \n6               NaN              NaN           NaN  \n7               NaN              NaN           NaN  \n8               NaN              NaN           NaN  \n9               NaN              NaN           NaN  \n15              NaN              NaN           NaN  \n22              NaN              NaN           NaN  "
     },
     "execution_count": 103,
     "metadata": {},
     "output_type": "execute_result"
    }
   ],
   "source": [
    "# dataframe containing the missing rows for columns in group 1\n",
    "group1_df = store_df[store_df['Promo2SinceWeek'].isna()]\n",
    "group1_df.head(10)"
   ]
  },
  {
   "cell_type": "markdown",
   "metadata": {},
   "source": [
    "We can see that the Promo2 column is 0 for the first 10 rows. From intution we can infer that if there is no promotion the values for the columns in gropu 1(Promo2SinceWeek, Promo2SinceYear, and PromoInterval) should be null. Let's prove it."
   ]
  },
  {
   "cell_type": "code",
   "execution_count": 104,
   "metadata": {},
   "outputs": [
    {
     "data": {
      "text/html": "<div>\n<style scoped>\n    .dataframe tbody tr th:only-of-type {\n        vertical-align: middle;\n    }\n\n    .dataframe tbody tr th {\n        vertical-align: top;\n    }\n\n    .dataframe thead th {\n        text-align: right;\n    }\n</style>\n<table border=\"1\" class=\"dataframe\">\n  <thead>\n    <tr style=\"text-align: right;\">\n      <th></th>\n      <th>Column</th>\n      <th>Unique values</th>\n    </tr>\n  </thead>\n  <tbody>\n    <tr>\n      <th>0</th>\n      <td>Store</td>\n      <td>[1024, 687, 672, 676, 679, 682, 683, 686, 689,...</td>\n    </tr>\n    <tr>\n      <th>1</th>\n      <td>StoreType</td>\n      <td>[a, d, c, b]</td>\n    </tr>\n    <tr>\n      <th>2</th>\n      <td>Assortment</td>\n      <td>[a, c, b]</td>\n    </tr>\n    <tr>\n      <th>3</th>\n      <td>CompetitionDistance</td>\n      <td>[50.0, 140.0, 250.0, 30.0, 720.0, 2640.0, 110....</td>\n    </tr>\n    <tr>\n      <th>4</th>\n      <td>CompetitionOpenSinceMonth</td>\n      <td>[9.0, 4.0, 11.0, 3.0, 10.0, 12.0, 7.0, 6.0, 2....</td>\n    </tr>\n    <tr>\n      <th>5</th>\n      <td>CompetitionOpenSinceYear</td>\n      <td>[2013.0, 2012.0, 2014.0, 2009.0, 2010.0, 2005....</td>\n    </tr>\n    <tr>\n      <th>6</th>\n      <td>Promo2</td>\n      <td>[0]</td>\n    </tr>\n    <tr>\n      <th>7</th>\n      <td>Promo2SinceWeek</td>\n      <td>[]</td>\n    </tr>\n    <tr>\n      <th>8</th>\n      <td>Promo2SinceYear</td>\n      <td>[]</td>\n    </tr>\n    <tr>\n      <th>9</th>\n      <td>PromoInterval</td>\n      <td>[]</td>\n    </tr>\n  </tbody>\n</table>\n</div>",
      "text/plain": "                      Column  \\\n0                      Store   \n1                  StoreType   \n2                 Assortment   \n3        CompetitionDistance   \n4  CompetitionOpenSinceMonth   \n5   CompetitionOpenSinceYear   \n6                     Promo2   \n7            Promo2SinceWeek   \n8            Promo2SinceYear   \n9              PromoInterval   \n\n                                       Unique values  \n0  [1024, 687, 672, 676, 679, 682, 683, 686, 689,...  \n1                                       [a, d, c, b]  \n2                                          [a, c, b]  \n3  [50.0, 140.0, 250.0, 30.0, 720.0, 2640.0, 110....  \n4  [9.0, 4.0, 11.0, 3.0, 10.0, 12.0, 7.0, 6.0, 2....  \n5  [2013.0, 2012.0, 2014.0, 2009.0, 2010.0, 2005....  \n6                                                [0]  \n7                                                 []  \n8                                                 []  \n9                                                 []  "
     },
     "execution_count": 104,
     "metadata": {},
     "output_type": "execute_result"
    }
   ],
   "source": [
    "# all unique values for each column\n",
    "unique_values_df(group1_df)"
   ]
  },
  {
   "cell_type": "code",
   "execution_count": 105,
   "metadata": {},
   "outputs": [
    {
     "data": {
      "text/plain": "0    544\nName: Promo2, dtype: int64"
     },
     "execution_count": 105,
     "metadata": {},
     "output_type": "execute_result"
    }
   ],
   "source": [
    "group1_df['Promo2'].value_counts()"
   ]
  },
  {
   "cell_type": "markdown",
   "metadata": {},
   "source": [
    "All 544 values are 0. Now let's check the count of 0 in the Promo2 column for the whole store dataset."
   ]
  },
  {
   "cell_type": "code",
   "execution_count": 106,
   "metadata": {},
   "outputs": [
    {
     "data": {
      "text/plain": "1    571\n0    544\nName: Promo2, dtype: int64"
     },
     "execution_count": 106,
     "metadata": {},
     "output_type": "execute_result"
    }
   ],
   "source": [
    "store_df['Promo2'].value_counts()"
   ]
  },
  {
   "cell_type": "markdown",
   "metadata": {},
   "source": [
    "Yes, we are right. All rows with 0 value in their Promo2 columns have null values in the columns Promo2SinceWeek, Promo2SinceYear, and PromoInterval."
   ]
  },
  {
   "cell_type": "markdown",
   "metadata": {},
   "source": [
    "Now let's impute the missing values in the columns Promo2SinceWeek and Promo2SinceYear with 0 to convey the meaning of absence since year and week can't be 0. For PromoInterval we should dig deeper what kind of data it holds since its data type is object."
   ]
  },
  {
   "cell_type": "code",
   "execution_count": 107,
   "metadata": {},
   "outputs": [
    {
     "data": {
      "text/plain": "'string'"
     },
     "execution_count": 107,
     "metadata": {},
     "output_type": "execute_result"
    }
   ],
   "source": [
    "# check the exact data type of the object\n",
    "pd.api.types.infer_dtype(store_df['PromoInterval'])"
   ]
  },
  {
   "cell_type": "code",
   "execution_count": 108,
   "metadata": {},
   "outputs": [
    {
     "data": {
      "text/plain": "Jan,Apr,Jul,Oct     335\nFeb,May,Aug,Nov     130\nMar,Jun,Sept,Dec    106\nName: PromoInterval, dtype: int64"
     },
     "execution_count": 108,
     "metadata": {},
     "output_type": "execute_result"
    }
   ],
   "source": [
    "# all the unique values \n",
    "store_df['PromoInterval'].value_counts()"
   ]
  },
  {
   "cell_type": "markdown",
   "metadata": {},
   "source": [
    "For the column PromoInterval, we will impute it with '0,0,0,0' as the other values follow list-type format containing four months. So inorder to impute these columns we should first investigate if the values we will insert exist in each column as this will oppose our intention."
   ]
  },
  {
   "cell_type": "code",
   "execution_count": 109,
   "metadata": {},
   "outputs": [
    {
     "data": {
      "text/plain": "(0, 10)"
     },
     "execution_count": 109,
     "metadata": {},
     "output_type": "execute_result"
    }
   ],
   "source": [
    "store_df[store_df['Promo2SinceWeek'] == 0].shape"
   ]
  },
  {
   "cell_type": "code",
   "execution_count": 110,
   "metadata": {},
   "outputs": [
    {
     "data": {
      "text/plain": "(0, 10)"
     },
     "execution_count": 110,
     "metadata": {},
     "output_type": "execute_result"
    }
   ],
   "source": [
    "store_df[store_df['Promo2SinceYear'] == 0].shape"
   ]
  },
  {
   "cell_type": "code",
   "execution_count": 111,
   "metadata": {},
   "outputs": [
    {
     "data": {
      "text/plain": "(0, 10)"
     },
     "execution_count": 111,
     "metadata": {},
     "output_type": "execute_result"
    }
   ],
   "source": [
    "store_df[store_df['PromoInterval'] == '0,0,0,0'].shape"
   ]
  },
  {
   "cell_type": "markdown",
   "metadata": {},
   "source": [
    "Since the values don't appear in these columns, let's fill the missing values by them."
   ]
  },
  {
   "cell_type": "code",
   "execution_count": 112,
   "metadata": {},
   "outputs": [
    {
     "name": "stdout",
     "output_type": "stream",
     "text": [
      "544 missing values in the column Promo2SinceWeek have been replaced by 0.\n",
      "544 missing values in the column Promo2SinceYear have been replaced by 0.\n"
     ]
    }
   ],
   "source": [
    "fix_missing_value(store_df, ['Promo2SinceWeek', 'Promo2SinceYear'], 0)"
   ]
  },
  {
   "cell_type": "code",
   "execution_count": 113,
   "metadata": {},
   "outputs": [
    {
     "name": "stdout",
     "output_type": "stream",
     "text": [
      "544 missing values in the column PromoInterval have been replaced by 0,0,0,0.\n"
     ]
    }
   ],
   "source": [
    "fix_missing_value(store_df, ['PromoInterval'], '0,0,0,0')"
   ]
  },
  {
   "cell_type": "markdown",
   "metadata": {},
   "source": [
    "Now it's time for the second group (i.e CompetitionOpenSinceMonth and CompetitionOpenSinceYear)."
   ]
  },
  {
   "cell_type": "code",
   "execution_count": 114,
   "metadata": {},
   "outputs": [
    {
     "data": {
      "text/html": "<div>\n<style scoped>\n    .dataframe tbody tr th:only-of-type {\n        vertical-align: middle;\n    }\n\n    .dataframe tbody tr th {\n        vertical-align: top;\n    }\n\n    .dataframe thead th {\n        text-align: right;\n    }\n</style>\n<table border=\"1\" class=\"dataframe\">\n  <thead>\n    <tr style=\"text-align: right;\">\n      <th></th>\n      <th>Store</th>\n      <th>StoreType</th>\n      <th>Assortment</th>\n      <th>CompetitionDistance</th>\n      <th>CompetitionOpenSinceMonth</th>\n      <th>CompetitionOpenSinceYear</th>\n      <th>Promo2</th>\n      <th>Promo2SinceWeek</th>\n      <th>Promo2SinceYear</th>\n      <th>PromoInterval</th>\n    </tr>\n  </thead>\n  <tbody>\n    <tr>\n      <th>11</th>\n      <td>12</td>\n      <td>a</td>\n      <td>c</td>\n      <td>1070.0</td>\n      <td>NaN</td>\n      <td>NaN</td>\n      <td>1</td>\n      <td>13.0</td>\n      <td>2010.0</td>\n      <td>Jan,Apr,Jul,Oct</td>\n    </tr>\n    <tr>\n      <th>12</th>\n      <td>13</td>\n      <td>d</td>\n      <td>a</td>\n      <td>310.0</td>\n      <td>NaN</td>\n      <td>NaN</td>\n      <td>1</td>\n      <td>45.0</td>\n      <td>2009.0</td>\n      <td>Feb,May,Aug,Nov</td>\n    </tr>\n    <tr>\n      <th>15</th>\n      <td>16</td>\n      <td>a</td>\n      <td>c</td>\n      <td>3270.0</td>\n      <td>NaN</td>\n      <td>NaN</td>\n      <td>0</td>\n      <td>0.0</td>\n      <td>0.0</td>\n      <td>0,0,0,0</td>\n    </tr>\n    <tr>\n      <th>18</th>\n      <td>19</td>\n      <td>a</td>\n      <td>c</td>\n      <td>3240.0</td>\n      <td>NaN</td>\n      <td>NaN</td>\n      <td>1</td>\n      <td>22.0</td>\n      <td>2011.0</td>\n      <td>Mar,Jun,Sept,Dec</td>\n    </tr>\n    <tr>\n      <th>21</th>\n      <td>22</td>\n      <td>a</td>\n      <td>a</td>\n      <td>1040.0</td>\n      <td>NaN</td>\n      <td>NaN</td>\n      <td>1</td>\n      <td>22.0</td>\n      <td>2012.0</td>\n      <td>Jan,Apr,Jul,Oct</td>\n    </tr>\n    <tr>\n      <th>25</th>\n      <td>26</td>\n      <td>d</td>\n      <td>a</td>\n      <td>2300.0</td>\n      <td>NaN</td>\n      <td>NaN</td>\n      <td>0</td>\n      <td>0.0</td>\n      <td>0.0</td>\n      <td>0,0,0,0</td>\n    </tr>\n    <tr>\n      <th>28</th>\n      <td>29</td>\n      <td>d</td>\n      <td>c</td>\n      <td>2170.0</td>\n      <td>NaN</td>\n      <td>NaN</td>\n      <td>0</td>\n      <td>0.0</td>\n      <td>0.0</td>\n      <td>0,0,0,0</td>\n    </tr>\n    <tr>\n      <th>31</th>\n      <td>32</td>\n      <td>a</td>\n      <td>a</td>\n      <td>2910.0</td>\n      <td>NaN</td>\n      <td>NaN</td>\n      <td>1</td>\n      <td>45.0</td>\n      <td>2009.0</td>\n      <td>Feb,May,Aug,Nov</td>\n    </tr>\n    <tr>\n      <th>39</th>\n      <td>40</td>\n      <td>a</td>\n      <td>a</td>\n      <td>180.0</td>\n      <td>NaN</td>\n      <td>NaN</td>\n      <td>1</td>\n      <td>45.0</td>\n      <td>2009.0</td>\n      <td>Feb,May,Aug,Nov</td>\n    </tr>\n    <tr>\n      <th>40</th>\n      <td>41</td>\n      <td>d</td>\n      <td>c</td>\n      <td>1180.0</td>\n      <td>NaN</td>\n      <td>NaN</td>\n      <td>1</td>\n      <td>31.0</td>\n      <td>2013.0</td>\n      <td>Jan,Apr,Jul,Oct</td>\n    </tr>\n  </tbody>\n</table>\n</div>",
      "text/plain": "    Store StoreType Assortment  CompetitionDistance  \\\n11     12         a          c               1070.0   \n12     13         d          a                310.0   \n15     16         a          c               3270.0   \n18     19         a          c               3240.0   \n21     22         a          a               1040.0   \n25     26         d          a               2300.0   \n28     29         d          c               2170.0   \n31     32         a          a               2910.0   \n39     40         a          a                180.0   \n40     41         d          c               1180.0   \n\n    CompetitionOpenSinceMonth  CompetitionOpenSinceYear  Promo2  \\\n11                        NaN                       NaN       1   \n12                        NaN                       NaN       1   \n15                        NaN                       NaN       0   \n18                        NaN                       NaN       1   \n21                        NaN                       NaN       1   \n25                        NaN                       NaN       0   \n28                        NaN                       NaN       0   \n31                        NaN                       NaN       1   \n39                        NaN                       NaN       1   \n40                        NaN                       NaN       1   \n\n    Promo2SinceWeek  Promo2SinceYear     PromoInterval  \n11             13.0           2010.0   Jan,Apr,Jul,Oct  \n12             45.0           2009.0   Feb,May,Aug,Nov  \n15              0.0              0.0           0,0,0,0  \n18             22.0           2011.0  Mar,Jun,Sept,Dec  \n21             22.0           2012.0   Jan,Apr,Jul,Oct  \n25              0.0              0.0           0,0,0,0  \n28              0.0              0.0           0,0,0,0  \n31             45.0           2009.0   Feb,May,Aug,Nov  \n39             45.0           2009.0   Feb,May,Aug,Nov  \n40             31.0           2013.0   Jan,Apr,Jul,Oct  "
     },
     "execution_count": 114,
     "metadata": {},
     "output_type": "execute_result"
    }
   ],
   "source": [
    "# dataframe containing the missing rows for columns in group 1\n",
    "group2_df = store_df[store_df['CompetitionOpenSinceMonth'].isna()]\n",
    "group2_df.head(10)"
   ]
  },
  {
   "cell_type": "code",
   "execution_count": 115,
   "metadata": {},
   "outputs": [
    {
     "data": {
      "text/html": "<div>\n<style scoped>\n    .dataframe tbody tr th:only-of-type {\n        vertical-align: middle;\n    }\n\n    .dataframe tbody tr th {\n        vertical-align: top;\n    }\n\n    .dataframe thead th {\n        text-align: right;\n    }\n</style>\n<table border=\"1\" class=\"dataframe\">\n  <thead>\n    <tr style=\"text-align: right;\">\n      <th></th>\n      <th>Column</th>\n      <th>Unique values</th>\n    </tr>\n  </thead>\n  <tbody>\n    <tr>\n      <th>0</th>\n      <td>Store</td>\n      <td>[512, 392, 855, 353, 352, 350, 617, 348, 346, ...</td>\n    </tr>\n    <tr>\n      <th>1</th>\n      <td>StoreType</td>\n      <td>[a, d, c, b]</td>\n    </tr>\n    <tr>\n      <th>2</th>\n      <td>Assortment</td>\n      <td>[c, a, b]</td>\n    </tr>\n    <tr>\n      <th>3</th>\n      <td>CompetitionDistance</td>\n      <td>[250.0, 50.0, 2410.0, 350.0, 130.0, 90.0, 220....</td>\n    </tr>\n    <tr>\n      <th>4</th>\n      <td>CompetitionOpenSinceMonth</td>\n      <td>[]</td>\n    </tr>\n    <tr>\n      <th>5</th>\n      <td>CompetitionOpenSinceYear</td>\n      <td>[]</td>\n    </tr>\n    <tr>\n      <th>6</th>\n      <td>Promo2</td>\n      <td>[1, 0]</td>\n    </tr>\n    <tr>\n      <th>7</th>\n      <td>Promo2SinceWeek</td>\n      <td>[0.0, 40.0, 14.0, 45.0, 31.0, 22.0, 5.0, 35.0,...</td>\n    </tr>\n    <tr>\n      <th>8</th>\n      <td>Promo2SinceYear</td>\n      <td>[0.0, 2013.0, 2011.0, 2009.0, 2012.0, 2014.0, ...</td>\n    </tr>\n    <tr>\n      <th>9</th>\n      <td>PromoInterval</td>\n      <td>[0,0,0,0, Jan,Apr,Jul,Oct, Feb,May,Aug,Nov, Ma...</td>\n    </tr>\n  </tbody>\n</table>\n</div>",
      "text/plain": "                      Column  \\\n0                      Store   \n1                  StoreType   \n2                 Assortment   \n3        CompetitionDistance   \n4  CompetitionOpenSinceMonth   \n5   CompetitionOpenSinceYear   \n6                     Promo2   \n7            Promo2SinceWeek   \n8            Promo2SinceYear   \n9              PromoInterval   \n\n                                       Unique values  \n0  [512, 392, 855, 353, 352, 350, 617, 348, 346, ...  \n1                                       [a, d, c, b]  \n2                                          [c, a, b]  \n3  [250.0, 50.0, 2410.0, 350.0, 130.0, 90.0, 220....  \n4                                                 []  \n5                                                 []  \n6                                             [1, 0]  \n7  [0.0, 40.0, 14.0, 45.0, 31.0, 22.0, 5.0, 35.0,...  \n8  [0.0, 2013.0, 2011.0, 2009.0, 2012.0, 2014.0, ...  \n9  [0,0,0,0, Jan,Apr,Jul,Oct, Feb,May,Aug,Nov, Ma...  "
     },
     "execution_count": 115,
     "metadata": {},
     "output_type": "execute_result"
    }
   ],
   "source": [
    "# all unique values for each column in the dataframe\n",
    "unique_values_df(group2_df)"
   ]
  },
  {
   "cell_type": "markdown",
   "metadata": {},
   "source": [
    "I can't see any pattern with the other columns. But from the column names and the data fields' description in the challange document we can understand that if CompetitionOpenSinceMonth and CompetitionOpenSinceYear are null it means there was already a competition when the store was opened. So we need impute the missing values in a meaningful way. Before doing that we will hold this meaning of an already existing competition in a separate column named CompetitionBeforeStoreOpened so that we can make use of this information in our analysis and prediction. This column will hold values of 0 and 1, 0 indicating the absence of competition at the time the store was opened and 1 indicating the presence of competition at the time the store was opened."
   ]
  },
  {
   "cell_type": "code",
   "execution_count": 116,
   "metadata": {},
   "outputs": [
    {
     "data": {
      "text/html": "<div>\n<style scoped>\n    .dataframe tbody tr th:only-of-type {\n        vertical-align: middle;\n    }\n\n    .dataframe tbody tr th {\n        vertical-align: top;\n    }\n\n    .dataframe thead th {\n        text-align: right;\n    }\n</style>\n<table border=\"1\" class=\"dataframe\">\n  <thead>\n    <tr style=\"text-align: right;\">\n      <th></th>\n      <th>Store</th>\n      <th>StoreType</th>\n      <th>Assortment</th>\n      <th>CompetitionDistance</th>\n      <th>CompetitionOpenSinceMonth</th>\n      <th>CompetitionOpenSinceYear</th>\n      <th>Promo2</th>\n      <th>Promo2SinceWeek</th>\n      <th>Promo2SinceYear</th>\n      <th>PromoInterval</th>\n      <th>CompetitionBeforeStoreOpened</th>\n    </tr>\n  </thead>\n  <tbody>\n    <tr>\n      <th>0</th>\n      <td>1</td>\n      <td>c</td>\n      <td>a</td>\n      <td>1270.0</td>\n      <td>9.0</td>\n      <td>2008.0</td>\n      <td>0</td>\n      <td>0.0</td>\n      <td>0.0</td>\n      <td>0,0,0,0</td>\n      <td>0</td>\n    </tr>\n    <tr>\n      <th>1</th>\n      <td>2</td>\n      <td>a</td>\n      <td>a</td>\n      <td>570.0</td>\n      <td>11.0</td>\n      <td>2007.0</td>\n      <td>1</td>\n      <td>13.0</td>\n      <td>2010.0</td>\n      <td>Jan,Apr,Jul,Oct</td>\n      <td>0</td>\n    </tr>\n    <tr>\n      <th>2</th>\n      <td>3</td>\n      <td>a</td>\n      <td>a</td>\n      <td>14130.0</td>\n      <td>12.0</td>\n      <td>2006.0</td>\n      <td>1</td>\n      <td>14.0</td>\n      <td>2011.0</td>\n      <td>Jan,Apr,Jul,Oct</td>\n      <td>0</td>\n    </tr>\n    <tr>\n      <th>3</th>\n      <td>4</td>\n      <td>c</td>\n      <td>c</td>\n      <td>620.0</td>\n      <td>9.0</td>\n      <td>2009.0</td>\n      <td>0</td>\n      <td>0.0</td>\n      <td>0.0</td>\n      <td>0,0,0,0</td>\n      <td>0</td>\n    </tr>\n    <tr>\n      <th>4</th>\n      <td>5</td>\n      <td>a</td>\n      <td>a</td>\n      <td>29910.0</td>\n      <td>4.0</td>\n      <td>2015.0</td>\n      <td>0</td>\n      <td>0.0</td>\n      <td>0.0</td>\n      <td>0,0,0,0</td>\n      <td>0</td>\n    </tr>\n    <tr>\n      <th>...</th>\n      <td>...</td>\n      <td>...</td>\n      <td>...</td>\n      <td>...</td>\n      <td>...</td>\n      <td>...</td>\n      <td>...</td>\n      <td>...</td>\n      <td>...</td>\n      <td>...</td>\n      <td>...</td>\n    </tr>\n    <tr>\n      <th>1110</th>\n      <td>1111</td>\n      <td>a</td>\n      <td>a</td>\n      <td>1900.0</td>\n      <td>6.0</td>\n      <td>2014.0</td>\n      <td>1</td>\n      <td>31.0</td>\n      <td>2013.0</td>\n      <td>Jan,Apr,Jul,Oct</td>\n      <td>0</td>\n    </tr>\n    <tr>\n      <th>1111</th>\n      <td>1112</td>\n      <td>c</td>\n      <td>c</td>\n      <td>1880.0</td>\n      <td>4.0</td>\n      <td>2006.0</td>\n      <td>0</td>\n      <td>0.0</td>\n      <td>0.0</td>\n      <td>0,0,0,0</td>\n      <td>0</td>\n    </tr>\n    <tr>\n      <th>1112</th>\n      <td>1113</td>\n      <td>a</td>\n      <td>c</td>\n      <td>9260.0</td>\n      <td>NaN</td>\n      <td>NaN</td>\n      <td>0</td>\n      <td>0.0</td>\n      <td>0.0</td>\n      <td>0,0,0,0</td>\n      <td>1</td>\n    </tr>\n    <tr>\n      <th>1113</th>\n      <td>1114</td>\n      <td>a</td>\n      <td>c</td>\n      <td>870.0</td>\n      <td>NaN</td>\n      <td>NaN</td>\n      <td>0</td>\n      <td>0.0</td>\n      <td>0.0</td>\n      <td>0,0,0,0</td>\n      <td>1</td>\n    </tr>\n    <tr>\n      <th>1114</th>\n      <td>1115</td>\n      <td>d</td>\n      <td>c</td>\n      <td>5350.0</td>\n      <td>NaN</td>\n      <td>NaN</td>\n      <td>1</td>\n      <td>22.0</td>\n      <td>2012.0</td>\n      <td>Mar,Jun,Sept,Dec</td>\n      <td>1</td>\n    </tr>\n  </tbody>\n</table>\n<p>1115 rows × 11 columns</p>\n</div>",
      "text/plain": "      Store StoreType Assortment  CompetitionDistance  \\\n0         1         c          a               1270.0   \n1         2         a          a                570.0   \n2         3         a          a              14130.0   \n3         4         c          c                620.0   \n4         5         a          a              29910.0   \n...     ...       ...        ...                  ...   \n1110   1111         a          a               1900.0   \n1111   1112         c          c               1880.0   \n1112   1113         a          c               9260.0   \n1113   1114         a          c                870.0   \n1114   1115         d          c               5350.0   \n\n      CompetitionOpenSinceMonth  CompetitionOpenSinceYear  Promo2  \\\n0                           9.0                    2008.0       0   \n1                          11.0                    2007.0       1   \n2                          12.0                    2006.0       1   \n3                           9.0                    2009.0       0   \n4                           4.0                    2015.0       0   \n...                         ...                       ...     ...   \n1110                        6.0                    2014.0       1   \n1111                        4.0                    2006.0       0   \n1112                        NaN                       NaN       0   \n1113                        NaN                       NaN       0   \n1114                        NaN                       NaN       1   \n\n      Promo2SinceWeek  Promo2SinceYear     PromoInterval  \\\n0                 0.0              0.0           0,0,0,0   \n1                13.0           2010.0   Jan,Apr,Jul,Oct   \n2                14.0           2011.0   Jan,Apr,Jul,Oct   \n3                 0.0              0.0           0,0,0,0   \n4                 0.0              0.0           0,0,0,0   \n...               ...              ...               ...   \n1110             31.0           2013.0   Jan,Apr,Jul,Oct   \n1111              0.0              0.0           0,0,0,0   \n1112              0.0              0.0           0,0,0,0   \n1113              0.0              0.0           0,0,0,0   \n1114             22.0           2012.0  Mar,Jun,Sept,Dec   \n\n      CompetitionBeforeStoreOpened  \n0                                0  \n1                                0  \n2                                0  \n3                                0  \n4                                0  \n...                            ...  \n1110                             0  \n1111                             0  \n1112                             1  \n1113                             1  \n1114                             1  \n\n[1115 rows x 11 columns]"
     },
     "execution_count": 116,
     "metadata": {},
     "output_type": "execute_result"
    }
   ],
   "source": [
    "# deriving new column\n",
    "store_df['CompetitionBeforeStoreOpened'] = store_df['CompetitionOpenSinceYear'].apply(lambda x: 1 if np.isnan(x) else 0)\n",
    "store_df"
   ]
  },
  {
   "cell_type": "markdown",
   "metadata": {},
   "source": [
    "Now we can impute the columns CompetitionOpenSinceMonth and CompetitionOpenSinceYear. So we will impute missing values in the column CompetitionOpenSinceYear and CompetitionOpenSinceMonth with its minimun value and 1 respectively. This kind of imputing assumes that the stores with missing values in these columns were opened after the first month of the minimum year value in the column CompetitionOpenSinceYear."
   ]
  },
  {
   "cell_type": "markdown",
   "metadata": {},
   "source": [
    "Let's find the minimum year value for CompetitionOpenSinceYear and impute the missing values."
   ]
  },
  {
   "cell_type": "code",
   "execution_count": 117,
   "metadata": {},
   "outputs": [
    {
     "data": {
      "text/plain": "1900.0"
     },
     "execution_count": 117,
     "metadata": {},
     "output_type": "execute_result"
    }
   ],
   "source": [
    "min_year = store_df['CompetitionOpenSinceYear'].min()\n",
    "min_year"
   ]
  },
  {
   "cell_type": "code",
   "execution_count": 118,
   "metadata": {},
   "outputs": [
    {
     "name": "stdout",
     "output_type": "stream",
     "text": [
      "354 missing values in the column CompetitionOpenSinceYear have been replaced by 1900.0.\n",
      "354 missing values in the column CompetitionOpenSinceMonth have been replaced by 1.\n"
     ]
    }
   ],
   "source": [
    "# impute the column CompetitionOpenSinceYear with 1900 and the column CompetitionOpenSinceMonth with 1\n",
    "fix_missing_value(store_df, ['CompetitionOpenSinceYear'], min_year)\n",
    "fix_missing_value(store_df, ['CompetitionOpenSinceMonth'], 1)"
   ]
  },
  {
   "cell_type": "code",
   "execution_count": 119,
   "metadata": {},
   "outputs": [
    {
     "data": {
      "text/html": "<div>\n<style scoped>\n    .dataframe tbody tr th:only-of-type {\n        vertical-align: middle;\n    }\n\n    .dataframe tbody tr th {\n        vertical-align: top;\n    }\n\n    .dataframe thead th {\n        text-align: right;\n    }\n</style>\n<table border=\"1\" class=\"dataframe\">\n  <thead>\n    <tr style=\"text-align: right;\">\n      <th></th>\n      <th>Store</th>\n      <th>StoreType</th>\n      <th>Assortment</th>\n      <th>CompetitionDistance</th>\n      <th>CompetitionOpenSinceMonth</th>\n      <th>CompetitionOpenSinceYear</th>\n      <th>Promo2</th>\n      <th>Promo2SinceWeek</th>\n      <th>Promo2SinceYear</th>\n      <th>PromoInterval</th>\n      <th>CompetitionBeforeStoreOpened</th>\n    </tr>\n  </thead>\n  <tbody>\n    <tr>\n      <th>0</th>\n      <td>1</td>\n      <td>c</td>\n      <td>a</td>\n      <td>1270.0</td>\n      <td>9.0</td>\n      <td>2008.0</td>\n      <td>0</td>\n      <td>0.0</td>\n      <td>0.0</td>\n      <td>0,0,0,0</td>\n      <td>0</td>\n    </tr>\n    <tr>\n      <th>1</th>\n      <td>2</td>\n      <td>a</td>\n      <td>a</td>\n      <td>570.0</td>\n      <td>11.0</td>\n      <td>2007.0</td>\n      <td>1</td>\n      <td>13.0</td>\n      <td>2010.0</td>\n      <td>Jan,Apr,Jul,Oct</td>\n      <td>0</td>\n    </tr>\n    <tr>\n      <th>2</th>\n      <td>3</td>\n      <td>a</td>\n      <td>a</td>\n      <td>14130.0</td>\n      <td>12.0</td>\n      <td>2006.0</td>\n      <td>1</td>\n      <td>14.0</td>\n      <td>2011.0</td>\n      <td>Jan,Apr,Jul,Oct</td>\n      <td>0</td>\n    </tr>\n    <tr>\n      <th>3</th>\n      <td>4</td>\n      <td>c</td>\n      <td>c</td>\n      <td>620.0</td>\n      <td>9.0</td>\n      <td>2009.0</td>\n      <td>0</td>\n      <td>0.0</td>\n      <td>0.0</td>\n      <td>0,0,0,0</td>\n      <td>0</td>\n    </tr>\n    <tr>\n      <th>4</th>\n      <td>5</td>\n      <td>a</td>\n      <td>a</td>\n      <td>29910.0</td>\n      <td>4.0</td>\n      <td>2015.0</td>\n      <td>0</td>\n      <td>0.0</td>\n      <td>0.0</td>\n      <td>0,0,0,0</td>\n      <td>0</td>\n    </tr>\n    <tr>\n      <th>...</th>\n      <td>...</td>\n      <td>...</td>\n      <td>...</td>\n      <td>...</td>\n      <td>...</td>\n      <td>...</td>\n      <td>...</td>\n      <td>...</td>\n      <td>...</td>\n      <td>...</td>\n      <td>...</td>\n    </tr>\n    <tr>\n      <th>1110</th>\n      <td>1111</td>\n      <td>a</td>\n      <td>a</td>\n      <td>1900.0</td>\n      <td>6.0</td>\n      <td>2014.0</td>\n      <td>1</td>\n      <td>31.0</td>\n      <td>2013.0</td>\n      <td>Jan,Apr,Jul,Oct</td>\n      <td>0</td>\n    </tr>\n    <tr>\n      <th>1111</th>\n      <td>1112</td>\n      <td>c</td>\n      <td>c</td>\n      <td>1880.0</td>\n      <td>4.0</td>\n      <td>2006.0</td>\n      <td>0</td>\n      <td>0.0</td>\n      <td>0.0</td>\n      <td>0,0,0,0</td>\n      <td>0</td>\n    </tr>\n    <tr>\n      <th>1112</th>\n      <td>1113</td>\n      <td>a</td>\n      <td>c</td>\n      <td>9260.0</td>\n      <td>1.0</td>\n      <td>1900.0</td>\n      <td>0</td>\n      <td>0.0</td>\n      <td>0.0</td>\n      <td>0,0,0,0</td>\n      <td>1</td>\n    </tr>\n    <tr>\n      <th>1113</th>\n      <td>1114</td>\n      <td>a</td>\n      <td>c</td>\n      <td>870.0</td>\n      <td>1.0</td>\n      <td>1900.0</td>\n      <td>0</td>\n      <td>0.0</td>\n      <td>0.0</td>\n      <td>0,0,0,0</td>\n      <td>1</td>\n    </tr>\n    <tr>\n      <th>1114</th>\n      <td>1115</td>\n      <td>d</td>\n      <td>c</td>\n      <td>5350.0</td>\n      <td>1.0</td>\n      <td>1900.0</td>\n      <td>1</td>\n      <td>22.0</td>\n      <td>2012.0</td>\n      <td>Mar,Jun,Sept,Dec</td>\n      <td>1</td>\n    </tr>\n  </tbody>\n</table>\n<p>1115 rows × 11 columns</p>\n</div>",
      "text/plain": "      Store StoreType Assortment  CompetitionDistance  \\\n0         1         c          a               1270.0   \n1         2         a          a                570.0   \n2         3         a          a              14130.0   \n3         4         c          c                620.0   \n4         5         a          a              29910.0   \n...     ...       ...        ...                  ...   \n1110   1111         a          a               1900.0   \n1111   1112         c          c               1880.0   \n1112   1113         a          c               9260.0   \n1113   1114         a          c                870.0   \n1114   1115         d          c               5350.0   \n\n      CompetitionOpenSinceMonth  CompetitionOpenSinceYear  Promo2  \\\n0                           9.0                    2008.0       0   \n1                          11.0                    2007.0       1   \n2                          12.0                    2006.0       1   \n3                           9.0                    2009.0       0   \n4                           4.0                    2015.0       0   \n...                         ...                       ...     ...   \n1110                        6.0                    2014.0       1   \n1111                        4.0                    2006.0       0   \n1112                        1.0                    1900.0       0   \n1113                        1.0                    1900.0       0   \n1114                        1.0                    1900.0       1   \n\n      Promo2SinceWeek  Promo2SinceYear     PromoInterval  \\\n0                 0.0              0.0           0,0,0,0   \n1                13.0           2010.0   Jan,Apr,Jul,Oct   \n2                14.0           2011.0   Jan,Apr,Jul,Oct   \n3                 0.0              0.0           0,0,0,0   \n4                 0.0              0.0           0,0,0,0   \n...               ...              ...               ...   \n1110             31.0           2013.0   Jan,Apr,Jul,Oct   \n1111              0.0              0.0           0,0,0,0   \n1112              0.0              0.0           0,0,0,0   \n1113              0.0              0.0           0,0,0,0   \n1114             22.0           2012.0  Mar,Jun,Sept,Dec   \n\n      CompetitionBeforeStoreOpened  \n0                                0  \n1                                0  \n2                                0  \n3                                0  \n4                                0  \n...                            ...  \n1110                             0  \n1111                             0  \n1112                             1  \n1113                             1  \n1114                             1  \n\n[1115 rows x 11 columns]"
     },
     "execution_count": 119,
     "metadata": {},
     "output_type": "execute_result"
    }
   ],
   "source": [
    "store_df"
   ]
  },
  {
   "cell_type": "markdown",
   "metadata": {},
   "source": [
    "Now we are left with missing values in the column CompetitionDistance. Let's see the rows containing these missing values."
   ]
  },
  {
   "cell_type": "code",
   "execution_count": 120,
   "metadata": {},
   "outputs": [
    {
     "data": {
      "text/html": "<div>\n<style scoped>\n    .dataframe tbody tr th:only-of-type {\n        vertical-align: middle;\n    }\n\n    .dataframe tbody tr th {\n        vertical-align: top;\n    }\n\n    .dataframe thead th {\n        text-align: right;\n    }\n</style>\n<table border=\"1\" class=\"dataframe\">\n  <thead>\n    <tr style=\"text-align: right;\">\n      <th></th>\n      <th>Store</th>\n      <th>StoreType</th>\n      <th>Assortment</th>\n      <th>CompetitionDistance</th>\n      <th>CompetitionOpenSinceMonth</th>\n      <th>CompetitionOpenSinceYear</th>\n      <th>Promo2</th>\n      <th>Promo2SinceWeek</th>\n      <th>Promo2SinceYear</th>\n      <th>PromoInterval</th>\n      <th>CompetitionBeforeStoreOpened</th>\n    </tr>\n  </thead>\n  <tbody>\n    <tr>\n      <th>290</th>\n      <td>291</td>\n      <td>d</td>\n      <td>a</td>\n      <td>NaN</td>\n      <td>1.0</td>\n      <td>1900.0</td>\n      <td>0</td>\n      <td>0.0</td>\n      <td>0.0</td>\n      <td>0,0,0,0</td>\n      <td>1</td>\n    </tr>\n    <tr>\n      <th>621</th>\n      <td>622</td>\n      <td>a</td>\n      <td>c</td>\n      <td>NaN</td>\n      <td>1.0</td>\n      <td>1900.0</td>\n      <td>0</td>\n      <td>0.0</td>\n      <td>0.0</td>\n      <td>0,0,0,0</td>\n      <td>1</td>\n    </tr>\n    <tr>\n      <th>878</th>\n      <td>879</td>\n      <td>d</td>\n      <td>a</td>\n      <td>NaN</td>\n      <td>1.0</td>\n      <td>1900.0</td>\n      <td>1</td>\n      <td>5.0</td>\n      <td>2013.0</td>\n      <td>Feb,May,Aug,Nov</td>\n      <td>1</td>\n    </tr>\n  </tbody>\n</table>\n</div>",
      "text/plain": "     Store StoreType Assortment  CompetitionDistance  \\\n290    291         d          a                  NaN   \n621    622         a          c                  NaN   \n878    879         d          a                  NaN   \n\n     CompetitionOpenSinceMonth  CompetitionOpenSinceYear  Promo2  \\\n290                        1.0                    1900.0       0   \n621                        1.0                    1900.0       0   \n878                        1.0                    1900.0       1   \n\n     Promo2SinceWeek  Promo2SinceYear    PromoInterval  \\\n290              0.0              0.0          0,0,0,0   \n621              0.0              0.0          0,0,0,0   \n878              5.0           2013.0  Feb,May,Aug,Nov   \n\n     CompetitionBeforeStoreOpened  \n290                             1  \n621                             1  \n878                             1  "
     },
     "execution_count": 120,
     "metadata": {},
     "output_type": "execute_result"
    }
   ],
   "source": [
    "temp_df = store_df[store_df['CompetitionDistance'].isna()]\n",
    "temp_df"
   ]
  },
  {
   "cell_type": "code",
   "execution_count": 121,
   "metadata": {},
   "outputs": [
    {
     "data": {
      "text/html": "<div>\n<style scoped>\n    .dataframe tbody tr th:only-of-type {\n        vertical-align: middle;\n    }\n\n    .dataframe tbody tr th {\n        vertical-align: top;\n    }\n\n    .dataframe thead th {\n        text-align: right;\n    }\n</style>\n<table border=\"1\" class=\"dataframe\">\n  <thead>\n    <tr style=\"text-align: right;\">\n      <th></th>\n      <th>Column</th>\n      <th>Unique values</th>\n    </tr>\n  </thead>\n  <tbody>\n    <tr>\n      <th>0</th>\n      <td>Store</td>\n      <td>[879, 622, 291]</td>\n    </tr>\n    <tr>\n      <th>1</th>\n      <td>StoreType</td>\n      <td>[d, a]</td>\n    </tr>\n    <tr>\n      <th>2</th>\n      <td>Assortment</td>\n      <td>[a, c]</td>\n    </tr>\n    <tr>\n      <th>3</th>\n      <td>CompetitionDistance</td>\n      <td>[]</td>\n    </tr>\n    <tr>\n      <th>4</th>\n      <td>CompetitionOpenSinceMonth</td>\n      <td>[1.0]</td>\n    </tr>\n    <tr>\n      <th>5</th>\n      <td>CompetitionOpenSinceYear</td>\n      <td>[1900.0]</td>\n    </tr>\n    <tr>\n      <th>6</th>\n      <td>Promo2</td>\n      <td>[0, 1]</td>\n    </tr>\n    <tr>\n      <th>7</th>\n      <td>Promo2SinceWeek</td>\n      <td>[0.0, 5.0]</td>\n    </tr>\n    <tr>\n      <th>8</th>\n      <td>Promo2SinceYear</td>\n      <td>[0.0, 2013.0]</td>\n    </tr>\n    <tr>\n      <th>9</th>\n      <td>PromoInterval</td>\n      <td>[0,0,0,0, Feb,May,Aug,Nov]</td>\n    </tr>\n    <tr>\n      <th>10</th>\n      <td>CompetitionBeforeStoreOpened</td>\n      <td>[1]</td>\n    </tr>\n  </tbody>\n</table>\n</div>",
      "text/plain": "                          Column               Unique values\n0                          Store             [879, 622, 291]\n1                      StoreType                      [d, a]\n2                     Assortment                      [a, c]\n3            CompetitionDistance                          []\n4      CompetitionOpenSinceMonth                       [1.0]\n5       CompetitionOpenSinceYear                    [1900.0]\n6                         Promo2                      [0, 1]\n7                Promo2SinceWeek                  [0.0, 5.0]\n8                Promo2SinceYear               [0.0, 2013.0]\n9                  PromoInterval  [0,0,0,0, Feb,May,Aug,Nov]\n10  CompetitionBeforeStoreOpened                         [1]"
     },
     "execution_count": 121,
     "metadata": {},
     "output_type": "execute_result"
    }
   ],
   "source": [
    "unique_values_df(temp_df)"
   ]
  },
  {
   "cell_type": "markdown",
   "metadata": {},
   "source": [
    "All rows with missing values in the column CompetitionDistance has a value of 1 in the column CompetitionBeforeStoreOpened. But this doesn't give us much information why the CompetitionDistance is null. But from common sense I guess this is because the competitions for these stores are very far away and have almost no impact on these stores that they weren't measured when collecting the data. For this reason, I will impute this values with the maximum competition distance."
   ]
  },
  {
   "cell_type": "code",
   "execution_count": 122,
   "metadata": {},
   "outputs": [
    {
     "data": {
      "text/plain": "75860.0"
     },
     "execution_count": 122,
     "metadata": {},
     "output_type": "execute_result"
    }
   ],
   "source": [
    "max_dist = store_df['CompetitionDistance'].max()\n",
    "max_dist"
   ]
  },
  {
   "cell_type": "code",
   "execution_count": 123,
   "metadata": {},
   "outputs": [
    {
     "name": "stdout",
     "output_type": "stream",
     "text": [
      "3 missing values in the column CompetitionDistance have been replaced by 75860.0.\n"
     ]
    }
   ],
   "source": [
    "fix_missing_value(store_df, ['CompetitionDistance'], max_dist)"
   ]
  },
  {
   "cell_type": "code",
   "execution_count": 124,
   "metadata": {},
   "outputs": [
    {
     "name": "stdout",
     "output_type": "stream",
     "text": [
      "The dataset contains 0.0 % missing values.\n"
     ]
    }
   ],
   "source": [
    "# final check for missing values\n",
    "percent_missing_values(store_df)"
   ]
  },
  {
   "cell_type": "markdown",
   "metadata": {},
   "source": [
    "### train_df"
   ]
  },
  {
   "cell_type": "code",
   "execution_count": 125,
   "metadata": {},
   "outputs": [
    {
     "name": "stdout",
     "output_type": "stream",
     "text": [
      "The dataset contains 0.0 % missing values.\n"
     ]
    }
   ],
   "source": [
    "percent_missing_values(train_df)"
   ]
  },
  {
   "cell_type": "markdown",
   "metadata": {},
   "source": [
    "We are lucky to have no missing values in this dataset as it contains more than a million rows. This is a rare thing to happen in the real world."
   ]
  },
  {
   "cell_type": "markdown",
   "metadata": {},
   "source": [
    "## Data Types"
   ]
  },
  {
   "cell_type": "markdown",
   "metadata": {},
   "source": [
    "### store_df"
   ]
  },
  {
   "cell_type": "markdown",
   "metadata": {},
   "source": [
    "Let's check if there are columns with mixed data types."
   ]
  },
  {
   "cell_type": "code",
   "execution_count": 126,
   "metadata": {},
   "outputs": [
    {
     "name": "stdout",
     "output_type": "stream",
     "text": [
      "None of the columns contain mixed types.\n"
     ]
    }
   ],
   "source": [
    "show_cols_mixed_dtypes(store_df)"
   ]
  },
  {
   "cell_type": "code",
   "execution_count": 127,
   "metadata": {},
   "outputs": [
    {
     "data": {
      "text/plain": "Store                             int64\nStoreType                        object\nAssortment                       object\nCompetitionDistance             float64\nCompetitionOpenSinceMonth       float64\nCompetitionOpenSinceYear        float64\nPromo2                            int64\nPromo2SinceWeek                 float64\nPromo2SinceYear                 float64\nPromoInterval                    object\nCompetitionBeforeStoreOpened      int64\ndtype: object"
     },
     "execution_count": 127,
     "metadata": {},
     "output_type": "execute_result"
    }
   ],
   "source": [
    "store_df.dtypes"
   ]
  },
  {
   "cell_type": "code",
   "execution_count": 128,
   "metadata": {},
   "outputs": [
    {
     "data": {
      "text/html": "<div>\n<style scoped>\n    .dataframe tbody tr th:only-of-type {\n        vertical-align: middle;\n    }\n\n    .dataframe tbody tr th {\n        vertical-align: top;\n    }\n\n    .dataframe thead th {\n        text-align: right;\n    }\n</style>\n<table border=\"1\" class=\"dataframe\">\n  <thead>\n    <tr style=\"text-align: right;\">\n      <th></th>\n      <th>Store</th>\n      <th>StoreType</th>\n      <th>Assortment</th>\n      <th>CompetitionDistance</th>\n      <th>CompetitionOpenSinceMonth</th>\n      <th>CompetitionOpenSinceYear</th>\n      <th>Promo2</th>\n      <th>Promo2SinceWeek</th>\n      <th>Promo2SinceYear</th>\n      <th>PromoInterval</th>\n      <th>CompetitionBeforeStoreOpened</th>\n    </tr>\n  </thead>\n  <tbody>\n    <tr>\n      <th>0</th>\n      <td>1</td>\n      <td>c</td>\n      <td>a</td>\n      <td>1270.0</td>\n      <td>9.0</td>\n      <td>2008.0</td>\n      <td>0</td>\n      <td>0.0</td>\n      <td>0.0</td>\n      <td>0,0,0,0</td>\n      <td>0</td>\n    </tr>\n    <tr>\n      <th>1</th>\n      <td>2</td>\n      <td>a</td>\n      <td>a</td>\n      <td>570.0</td>\n      <td>11.0</td>\n      <td>2007.0</td>\n      <td>1</td>\n      <td>13.0</td>\n      <td>2010.0</td>\n      <td>Jan,Apr,Jul,Oct</td>\n      <td>0</td>\n    </tr>\n    <tr>\n      <th>2</th>\n      <td>3</td>\n      <td>a</td>\n      <td>a</td>\n      <td>14130.0</td>\n      <td>12.0</td>\n      <td>2006.0</td>\n      <td>1</td>\n      <td>14.0</td>\n      <td>2011.0</td>\n      <td>Jan,Apr,Jul,Oct</td>\n      <td>0</td>\n    </tr>\n    <tr>\n      <th>3</th>\n      <td>4</td>\n      <td>c</td>\n      <td>c</td>\n      <td>620.0</td>\n      <td>9.0</td>\n      <td>2009.0</td>\n      <td>0</td>\n      <td>0.0</td>\n      <td>0.0</td>\n      <td>0,0,0,0</td>\n      <td>0</td>\n    </tr>\n    <tr>\n      <th>4</th>\n      <td>5</td>\n      <td>a</td>\n      <td>a</td>\n      <td>29910.0</td>\n      <td>4.0</td>\n      <td>2015.0</td>\n      <td>0</td>\n      <td>0.0</td>\n      <td>0.0</td>\n      <td>0,0,0,0</td>\n      <td>0</td>\n    </tr>\n  </tbody>\n</table>\n</div>",
      "text/plain": "   Store StoreType Assortment  CompetitionDistance  CompetitionOpenSinceMonth  \\\n0      1         c          a               1270.0                        9.0   \n1      2         a          a                570.0                       11.0   \n2      3         a          a              14130.0                       12.0   \n3      4         c          c                620.0                        9.0   \n4      5         a          a              29910.0                        4.0   \n\n   CompetitionOpenSinceYear  Promo2  Promo2SinceWeek  Promo2SinceYear  \\\n0                    2008.0       0              0.0              0.0   \n1                    2007.0       1             13.0           2010.0   \n2                    2006.0       1             14.0           2011.0   \n3                    2009.0       0              0.0              0.0   \n4                    2015.0       0              0.0              0.0   \n\n     PromoInterval  CompetitionBeforeStoreOpened  \n0          0,0,0,0                             0  \n1  Jan,Apr,Jul,Oct                             0  \n2  Jan,Apr,Jul,Oct                             0  \n3          0,0,0,0                             0  \n4          0,0,0,0                             0  "
     },
     "execution_count": 128,
     "metadata": {},
     "output_type": "execute_result"
    }
   ],
   "source": [
    "store_df.head()"
   ]
  },
  {
   "cell_type": "markdown",
   "metadata": {},
   "source": [
    "As we can see from the dataframe above StoreType, Assortment and PromoInterval hold string values. Note that even though PromoInterval holds list values, the are enclosed in string literals. We will convert the data types of these three columns to string. Converting PromoInterval to string is convenient for further processing elements in each value."
   ]
  },
  {
   "cell_type": "code",
   "execution_count": 129,
   "metadata": {},
   "outputs": [
    {
     "data": {
      "text/plain": "['StoreType', 'Assortment', 'PromoInterval']"
     },
     "execution_count": 129,
     "metadata": {},
     "output_type": "execute_result"
    }
   ],
   "source": [
    "# get the columns with object data type\n",
    "string_columns = store_df.select_dtypes(include='object').columns.tolist()\n",
    "string_columns"
   ]
  },
  {
   "cell_type": "code",
   "execution_count": 130,
   "metadata": {},
   "outputs": [],
   "source": [
    "convert_to_string(store_df, string_columns)"
   ]
  },
  {
   "cell_type": "markdown",
   "metadata": {},
   "source": [
    "We also know that the columns CompetitionOpenSinceMonth, CompetitionOpenSinceYear, Promo2SinceWeek, and Promo2SinceYear contain week, month and year information which can't be float. So we will change the data type of these columns to int64."
   ]
  },
  {
   "cell_type": "code",
   "execution_count": 131,
   "metadata": {},
   "outputs": [],
   "source": [
    "convert_to_int(store_df, ['CompetitionOpenSinceMonth',  'CompetitionOpenSinceYear',\n",
    "        'Promo2SinceWeek', 'Promo2SinceYear'])"
   ]
  },
  {
   "cell_type": "code",
   "execution_count": 132,
   "metadata": {},
   "outputs": [
    {
     "data": {
      "text/plain": "Store                             int64\nStoreType                        string\nAssortment                       string\nCompetitionDistance             float64\nCompetitionOpenSinceMonth         int64\nCompetitionOpenSinceYear          int64\nPromo2                            int64\nPromo2SinceWeek                   int64\nPromo2SinceYear                   int64\nPromoInterval                    string\nCompetitionBeforeStoreOpened      int64\ndtype: object"
     },
     "execution_count": 132,
     "metadata": {},
     "output_type": "execute_result"
    }
   ],
   "source": [
    "store_df.dtypes"
   ]
  },
  {
   "cell_type": "code",
   "execution_count": 133,
   "metadata": {},
   "outputs": [
    {
     "data": {
      "text/html": "<div>\n<style scoped>\n    .dataframe tbody tr th:only-of-type {\n        vertical-align: middle;\n    }\n\n    .dataframe tbody tr th {\n        vertical-align: top;\n    }\n\n    .dataframe thead th {\n        text-align: right;\n    }\n</style>\n<table border=\"1\" class=\"dataframe\">\n  <thead>\n    <tr style=\"text-align: right;\">\n      <th></th>\n      <th>Store</th>\n      <th>StoreType</th>\n      <th>Assortment</th>\n      <th>CompetitionDistance</th>\n      <th>CompetitionOpenSinceMonth</th>\n      <th>CompetitionOpenSinceYear</th>\n      <th>Promo2</th>\n      <th>Promo2SinceWeek</th>\n      <th>Promo2SinceYear</th>\n      <th>PromoInterval</th>\n      <th>CompetitionBeforeStoreOpened</th>\n    </tr>\n  </thead>\n  <tbody>\n    <tr>\n      <th>0</th>\n      <td>1</td>\n      <td>c</td>\n      <td>a</td>\n      <td>1270.0</td>\n      <td>9</td>\n      <td>2008</td>\n      <td>0</td>\n      <td>0</td>\n      <td>0</td>\n      <td>0,0,0,0</td>\n      <td>0</td>\n    </tr>\n    <tr>\n      <th>1</th>\n      <td>2</td>\n      <td>a</td>\n      <td>a</td>\n      <td>570.0</td>\n      <td>11</td>\n      <td>2007</td>\n      <td>1</td>\n      <td>13</td>\n      <td>2010</td>\n      <td>Jan,Apr,Jul,Oct</td>\n      <td>0</td>\n    </tr>\n    <tr>\n      <th>2</th>\n      <td>3</td>\n      <td>a</td>\n      <td>a</td>\n      <td>14130.0</td>\n      <td>12</td>\n      <td>2006</td>\n      <td>1</td>\n      <td>14</td>\n      <td>2011</td>\n      <td>Jan,Apr,Jul,Oct</td>\n      <td>0</td>\n    </tr>\n    <tr>\n      <th>3</th>\n      <td>4</td>\n      <td>c</td>\n      <td>c</td>\n      <td>620.0</td>\n      <td>9</td>\n      <td>2009</td>\n      <td>0</td>\n      <td>0</td>\n      <td>0</td>\n      <td>0,0,0,0</td>\n      <td>0</td>\n    </tr>\n    <tr>\n      <th>4</th>\n      <td>5</td>\n      <td>a</td>\n      <td>a</td>\n      <td>29910.0</td>\n      <td>4</td>\n      <td>2015</td>\n      <td>0</td>\n      <td>0</td>\n      <td>0</td>\n      <td>0,0,0,0</td>\n      <td>0</td>\n    </tr>\n  </tbody>\n</table>\n</div>",
      "text/plain": "   Store StoreType Assortment  CompetitionDistance  CompetitionOpenSinceMonth  \\\n0      1         c          a               1270.0                          9   \n1      2         a          a                570.0                         11   \n2      3         a          a              14130.0                         12   \n3      4         c          c                620.0                          9   \n4      5         a          a              29910.0                          4   \n\n   CompetitionOpenSinceYear  Promo2  Promo2SinceWeek  Promo2SinceYear  \\\n0                      2008       0                0                0   \n1                      2007       1               13             2010   \n2                      2006       1               14             2011   \n3                      2009       0                0                0   \n4                      2015       0                0                0   \n\n     PromoInterval  CompetitionBeforeStoreOpened  \n0          0,0,0,0                             0  \n1  Jan,Apr,Jul,Oct                             0  \n2  Jan,Apr,Jul,Oct                             0  \n3          0,0,0,0                             0  \n4          0,0,0,0                             0  "
     },
     "execution_count": 133,
     "metadata": {},
     "output_type": "execute_result"
    }
   ],
   "source": [
    "store_df.head()"
   ]
  },
  {
   "cell_type": "markdown",
   "metadata": {},
   "source": [
    "### train_df"
   ]
  },
  {
   "cell_type": "markdown",
   "metadata": {},
   "source": [
    "Let's check if there are columns with mixed data types."
   ]
  },
  {
   "cell_type": "code",
   "execution_count": 134,
   "metadata": {},
   "outputs": [
    {
     "name": "stdout",
     "output_type": "stream",
     "text": [
      "         Column      Data type\n",
      "0  StateHoliday  mixed-integer\n"
     ]
    }
   ],
   "source": [
    "show_cols_mixed_dtypes(train_df)"
   ]
  },
  {
   "cell_type": "markdown",
   "metadata": {},
   "source": [
    "So StateHoliday needs more investigation of the datatypes it contain. Let's look at the unique values."
   ]
  },
  {
   "cell_type": "code",
   "execution_count": 135,
   "metadata": {},
   "outputs": [
    {
     "data": {
      "text/plain": "0    855087\n0    131072\na     20260\nb      6690\nc      4100\nName: StateHoliday, dtype: int64"
     },
     "execution_count": 135,
     "metadata": {},
     "output_type": "execute_result"
    }
   ],
   "source": [
    "train_df['StateHoliday'].value_counts()"
   ]
  },
  {
   "cell_type": "code",
   "execution_count": 136,
   "metadata": {},
   "outputs": [
    {
     "data": {
      "text/plain": "Index(['0', 0, 'a', 'b', 'c'], dtype='object')"
     },
     "execution_count": 136,
     "metadata": {},
     "output_type": "execute_result"
    }
   ],
   "source": [
    "train_df['StateHoliday'].value_counts().index"
   ]
  },
  {
   "cell_type": "markdown",
   "metadata": {},
   "source": [
    "Here 0 is represented as an integer and a string. Since there are other string values we will convert the  StateHoliday column into string."
   ]
  },
  {
   "cell_type": "code",
   "execution_count": 137,
   "metadata": {},
   "outputs": [],
   "source": [
    "convert_to_string(train_df, ['StateHoliday'])"
   ]
  },
  {
   "cell_type": "code",
   "execution_count": 138,
   "metadata": {},
   "outputs": [
    {
     "data": {
      "text/plain": "Store             int64\nDayOfWeek         int64\nDate             object\nSales             int64\nCustomers         int64\nOpen              int64\nPromo             int64\nStateHoliday     string\nSchoolHoliday     int64\ndtype: object"
     },
     "execution_count": 138,
     "metadata": {},
     "output_type": "execute_result"
    }
   ],
   "source": [
    "train_df.dtypes"
   ]
  },
  {
   "cell_type": "code",
   "execution_count": 139,
   "metadata": {},
   "outputs": [
    {
     "data": {
      "text/html": "<div>\n<style scoped>\n    .dataframe tbody tr th:only-of-type {\n        vertical-align: middle;\n    }\n\n    .dataframe tbody tr th {\n        vertical-align: top;\n    }\n\n    .dataframe thead th {\n        text-align: right;\n    }\n</style>\n<table border=\"1\" class=\"dataframe\">\n  <thead>\n    <tr style=\"text-align: right;\">\n      <th></th>\n      <th>Store</th>\n      <th>DayOfWeek</th>\n      <th>Date</th>\n      <th>Sales</th>\n      <th>Customers</th>\n      <th>Open</th>\n      <th>Promo</th>\n      <th>StateHoliday</th>\n      <th>SchoolHoliday</th>\n    </tr>\n  </thead>\n  <tbody>\n    <tr>\n      <th>0</th>\n      <td>1</td>\n      <td>5</td>\n      <td>2015-07-31</td>\n      <td>5263</td>\n      <td>555</td>\n      <td>1</td>\n      <td>1</td>\n      <td>0</td>\n      <td>1</td>\n    </tr>\n    <tr>\n      <th>1</th>\n      <td>2</td>\n      <td>5</td>\n      <td>2015-07-31</td>\n      <td>6064</td>\n      <td>625</td>\n      <td>1</td>\n      <td>1</td>\n      <td>0</td>\n      <td>1</td>\n    </tr>\n    <tr>\n      <th>2</th>\n      <td>3</td>\n      <td>5</td>\n      <td>2015-07-31</td>\n      <td>8314</td>\n      <td>821</td>\n      <td>1</td>\n      <td>1</td>\n      <td>0</td>\n      <td>1</td>\n    </tr>\n    <tr>\n      <th>3</th>\n      <td>4</td>\n      <td>5</td>\n      <td>2015-07-31</td>\n      <td>13995</td>\n      <td>1498</td>\n      <td>1</td>\n      <td>1</td>\n      <td>0</td>\n      <td>1</td>\n    </tr>\n    <tr>\n      <th>4</th>\n      <td>5</td>\n      <td>5</td>\n      <td>2015-07-31</td>\n      <td>4822</td>\n      <td>559</td>\n      <td>1</td>\n      <td>1</td>\n      <td>0</td>\n      <td>1</td>\n    </tr>\n  </tbody>\n</table>\n</div>",
      "text/plain": "   Store  DayOfWeek        Date  Sales  Customers  Open  Promo StateHoliday  \\\n0      1          5  2015-07-31   5263        555     1      1            0   \n1      2          5  2015-07-31   6064        625     1      1            0   \n2      3          5  2015-07-31   8314        821     1      1            0   \n3      4          5  2015-07-31  13995       1498     1      1            0   \n4      5          5  2015-07-31   4822        559     1      1            0   \n\n   SchoolHoliday  \n0              1  \n1              1  \n2              1  \n3              1  \n4              1  "
     },
     "execution_count": 139,
     "metadata": {},
     "output_type": "execute_result"
    }
   ],
   "source": [
    "train_df.head()"
   ]
  },
  {
   "cell_type": "markdown",
   "metadata": {},
   "source": [
    "By observing the columns we can realize that the Date column actually contain datetime values even though its data type is object. So we will convert it to datetime data type."
   ]
  },
  {
   "cell_type": "code",
   "execution_count": 140,
   "metadata": {},
   "outputs": [],
   "source": [
    "convert_to_datetime(train_df, ['Date'])"
   ]
  },
  {
   "cell_type": "code",
   "execution_count": 141,
   "metadata": {},
   "outputs": [
    {
     "data": {
      "text/plain": "Store                     int64\nDayOfWeek                 int64\nDate             datetime64[ns]\nSales                     int64\nCustomers                 int64\nOpen                      int64\nPromo                     int64\nStateHoliday             string\nSchoolHoliday             int64\ndtype: object"
     },
     "execution_count": 141,
     "metadata": {},
     "output_type": "execute_result"
    }
   ],
   "source": [
    "train_df.dtypes"
   ]
  },
  {
   "cell_type": "markdown",
   "metadata": {},
   "source": [
    "## Duplicates"
   ]
  },
  {
   "cell_type": "markdown",
   "metadata": {},
   "source": [
    "### store_df"
   ]
  },
  {
   "cell_type": "code",
   "execution_count": 142,
   "metadata": {},
   "outputs": [
    {
     "name": "stdout",
     "output_type": "stream",
     "text": [
      "No duplicate rows were found.\n"
     ]
    }
   ],
   "source": [
    "# search for duplicate rows and drop them\n",
    "drop_duplicates(store_df)"
   ]
  },
  {
   "cell_type": "markdown",
   "metadata": {},
   "source": [
    "Since store is the id that uniquely identifies each record, there should be no duplicates. Let's check that."
   ]
  },
  {
   "cell_type": "code",
   "execution_count": 143,
   "metadata": {},
   "outputs": [
    {
     "data": {
      "text/plain": "False"
     },
     "execution_count": 143,
     "metadata": {},
     "output_type": "execute_result"
    }
   ],
   "source": [
    "store_df.duplicated(subset=['Store']).all()"
   ]
  },
  {
   "cell_type": "markdown",
   "metadata": {},
   "source": [
    "We are safe. No two rows in our dataset contain the same Store value."
   ]
  },
  {
   "cell_type": "markdown",
   "metadata": {},
   "source": [
    "### train_df"
   ]
  },
  {
   "cell_type": "code",
   "execution_count": 144,
   "metadata": {},
   "outputs": [
    {
     "name": "stdout",
     "output_type": "stream",
     "text": [
      "No duplicate rows were found.\n"
     ]
    }
   ],
   "source": [
    "# search for duplicate rows and drop them\n",
    "drop_duplicates(train_df)"
   ]
  },
  {
   "cell_type": "markdown",
   "metadata": {},
   "source": [
    "Since Store and Date are the columns that uniquely identify each record, there should be no duplicates. We can't have duplicate data for a store with the same date. Let's check whether such cases exist."
   ]
  },
  {
   "cell_type": "code",
   "execution_count": 145,
   "metadata": {},
   "outputs": [
    {
     "data": {
      "text/plain": "False"
     },
     "execution_count": 145,
     "metadata": {},
     "output_type": "execute_result"
    }
   ],
   "source": [
    "train_df.duplicated(subset=['Store', 'Date']).all()"
   ]
  },
  {
   "cell_type": "markdown",
   "metadata": {},
   "source": [
    "We are safe. No two rows in our dataset contain the same combination of Store and Date values."
   ]
  },
  {
   "cell_type": "markdown",
   "metadata": {},
   "source": [
    "## Feature Engineering"
   ]
  },
  {
   "cell_type": "markdown",
   "metadata": {},
   "source": [
    "### train_df"
   ]
  },
  {
   "cell_type": "markdown",
   "metadata": {},
   "source": [
    "Even though we have a date column it will be complex to query our data based on week, month, year, etc. So inorder tp gain complex insights easily, I have derived the following features."
   ]
  },
  {
   "cell_type": "code",
   "execution_count": 146,
   "metadata": {},
   "outputs": [],
   "source": [
    "train_df['Year'] = train_df['Date'].apply(lambda x: x.year)\n",
    "train_df['Month'] = train_df['Date'].apply(lambda x: x.month)\n",
    "train_df['DayOfMonth'] = train_df['Date'].apply(lambda x: x.day)\n",
    "train_df['WeekOfYear'] = train_df['Date'].apply(lambda x: x.weekofyear)\n",
    "train_df['weekday'] = train_df['DayOfWeek'].apply(lambda x: 0 if (x in [6, 7]) else 1)"
   ]
  },
  {
   "cell_type": "code",
   "execution_count": 147,
   "metadata": {},
   "outputs": [
    {
     "name": "stdout",
     "output_type": "stream",
     "text": [
      "<class 'pandas.core.frame.DataFrame'>\n",
      "Int64Index: 1017209 entries, 0 to 1017208\n",
      "Data columns (total 14 columns):\n",
      " #   Column         Non-Null Count    Dtype         \n",
      "---  ------         --------------    -----         \n",
      " 0   Store          1017209 non-null  int64         \n",
      " 1   DayOfWeek      1017209 non-null  int64         \n",
      " 2   Date           1017209 non-null  datetime64[ns]\n",
      " 3   Sales          1017209 non-null  int64         \n",
      " 4   Customers      1017209 non-null  int64         \n",
      " 5   Open           1017209 non-null  int64         \n",
      " 6   Promo          1017209 non-null  int64         \n",
      " 7   StateHoliday   1017209 non-null  string        \n",
      " 8   SchoolHoliday  1017209 non-null  int64         \n",
      " 9   Year           1017209 non-null  int64         \n",
      " 10  Month          1017209 non-null  int64         \n",
      " 11  DayOfMonth     1017209 non-null  int64         \n",
      " 12  WeekOfYear     1017209 non-null  int64         \n",
      " 13  weekday        1017209 non-null  int64         \n",
      "dtypes: datetime64[ns](1), int64(12), string(1)\n",
      "memory usage: 116.4 MB\n"
     ]
    }
   ],
   "source": [
    "train_df.info()"
   ]
  },
  {
   "cell_type": "code",
   "execution_count": 148,
   "metadata": {},
   "outputs": [
    {
     "data": {
      "text/html": "<div>\n<style scoped>\n    .dataframe tbody tr th:only-of-type {\n        vertical-align: middle;\n    }\n\n    .dataframe tbody tr th {\n        vertical-align: top;\n    }\n\n    .dataframe thead th {\n        text-align: right;\n    }\n</style>\n<table border=\"1\" class=\"dataframe\">\n  <thead>\n    <tr style=\"text-align: right;\">\n      <th></th>\n      <th>Store</th>\n      <th>DayOfWeek</th>\n      <th>Date</th>\n      <th>Sales</th>\n      <th>Customers</th>\n      <th>Open</th>\n      <th>Promo</th>\n      <th>StateHoliday</th>\n      <th>SchoolHoliday</th>\n      <th>Year</th>\n      <th>Month</th>\n      <th>DayOfMonth</th>\n      <th>WeekOfYear</th>\n      <th>weekday</th>\n    </tr>\n  </thead>\n  <tbody>\n    <tr>\n      <th>849397</th>\n      <td>553</td>\n      <td>5</td>\n      <td>2013-05-31</td>\n      <td>11890</td>\n      <td>976</td>\n      <td>1</td>\n      <td>1</td>\n      <td>0</td>\n      <td>1</td>\n      <td>2013</td>\n      <td>5</td>\n      <td>31</td>\n      <td>22</td>\n      <td>1</td>\n    </tr>\n    <tr>\n      <th>597166</th>\n      <td>312</td>\n      <td>7</td>\n      <td>2014-01-12</td>\n      <td>0</td>\n      <td>0</td>\n      <td>0</td>\n      <td>0</td>\n      <td>0</td>\n      <td>0</td>\n      <td>2014</td>\n      <td>1</td>\n      <td>12</td>\n      <td>2</td>\n      <td>0</td>\n    </tr>\n    <tr>\n      <th>529011</th>\n      <td>172</td>\n      <td>5</td>\n      <td>2014-03-14</td>\n      <td>5683</td>\n      <td>768</td>\n      <td>1</td>\n      <td>0</td>\n      <td>0</td>\n      <td>0</td>\n      <td>2014</td>\n      <td>3</td>\n      <td>14</td>\n      <td>11</td>\n      <td>1</td>\n    </tr>\n    <tr>\n      <th>202282</th>\n      <td>468</td>\n      <td>6</td>\n      <td>2015-01-31</td>\n      <td>8754</td>\n      <td>1041</td>\n      <td>1</td>\n      <td>0</td>\n      <td>0</td>\n      <td>0</td>\n      <td>2015</td>\n      <td>1</td>\n      <td>31</td>\n      <td>5</td>\n      <td>0</td>\n    </tr>\n    <tr>\n      <th>99150</th>\n      <td>1031</td>\n      <td>1</td>\n      <td>2015-05-04</td>\n      <td>6101</td>\n      <td>459</td>\n      <td>1</td>\n      <td>1</td>\n      <td>0</td>\n      <td>0</td>\n      <td>2015</td>\n      <td>5</td>\n      <td>4</td>\n      <td>19</td>\n      <td>1</td>\n    </tr>\n    <tr>\n      <th>762176</th>\n      <td>302</td>\n      <td>6</td>\n      <td>2013-08-17</td>\n      <td>3520</td>\n      <td>331</td>\n      <td>1</td>\n      <td>0</td>\n      <td>0</td>\n      <td>0</td>\n      <td>2013</td>\n      <td>8</td>\n      <td>17</td>\n      <td>33</td>\n      <td>0</td>\n    </tr>\n    <tr>\n      <th>648748</th>\n      <td>604</td>\n      <td>3</td>\n      <td>2013-11-27</td>\n      <td>6601</td>\n      <td>522</td>\n      <td>1</td>\n      <td>0</td>\n      <td>0</td>\n      <td>0</td>\n      <td>2013</td>\n      <td>11</td>\n      <td>27</td>\n      <td>48</td>\n      <td>1</td>\n    </tr>\n    <tr>\n      <th>623202</th>\n      <td>703</td>\n      <td>5</td>\n      <td>2013-12-20</td>\n      <td>5360</td>\n      <td>559</td>\n      <td>1</td>\n      <td>1</td>\n      <td>0</td>\n      <td>0</td>\n      <td>2013</td>\n      <td>12</td>\n      <td>20</td>\n      <td>51</td>\n      <td>1</td>\n    </tr>\n    <tr>\n      <th>388577</th>\n      <td>871</td>\n      <td>2</td>\n      <td>2014-07-22</td>\n      <td>4937</td>\n      <td>399</td>\n      <td>1</td>\n      <td>0</td>\n      <td>0</td>\n      <td>0</td>\n      <td>2014</td>\n      <td>7</td>\n      <td>22</td>\n      <td>30</td>\n      <td>1</td>\n    </tr>\n    <tr>\n      <th>877029</th>\n      <td>310</td>\n      <td>1</td>\n      <td>2013-05-06</td>\n      <td>7139</td>\n      <td>726</td>\n      <td>1</td>\n      <td>0</td>\n      <td>0</td>\n      <td>0</td>\n      <td>2013</td>\n      <td>5</td>\n      <td>6</td>\n      <td>19</td>\n      <td>1</td>\n    </tr>\n  </tbody>\n</table>\n</div>",
      "text/plain": "        Store  DayOfWeek       Date  Sales  Customers  Open  Promo  \\\n849397    553          5 2013-05-31  11890        976     1      1   \n597166    312          7 2014-01-12      0          0     0      0   \n529011    172          5 2014-03-14   5683        768     1      0   \n202282    468          6 2015-01-31   8754       1041     1      0   \n99150    1031          1 2015-05-04   6101        459     1      1   \n762176    302          6 2013-08-17   3520        331     1      0   \n648748    604          3 2013-11-27   6601        522     1      0   \n623202    703          5 2013-12-20   5360        559     1      1   \n388577    871          2 2014-07-22   4937        399     1      0   \n877029    310          1 2013-05-06   7139        726     1      0   \n\n       StateHoliday  SchoolHoliday  Year  Month  DayOfMonth  WeekOfYear  \\\n849397            0              1  2013      5          31          22   \n597166            0              0  2014      1          12           2   \n529011            0              0  2014      3          14          11   \n202282            0              0  2015      1          31           5   \n99150             0              0  2015      5           4          19   \n762176            0              0  2013      8          17          33   \n648748            0              0  2013     11          27          48   \n623202            0              0  2013     12          20          51   \n388577            0              0  2014      7          22          30   \n877029            0              0  2013      5           6          19   \n\n        weekday  \n849397        1  \n597166        0  \n529011        1  \n202282        0  \n99150         1  \n762176        0  \n648748        1  \n623202        1  \n388577        1  \n877029        1  "
     },
     "execution_count": 148,
     "metadata": {},
     "output_type": "execute_result"
    }
   ],
   "source": [
    "train_df.sample(10)"
   ]
  },
  {
   "cell_type": "markdown",
   "metadata": {},
   "source": [
    "## Merging the train_df and store_df"
   ]
  },
  {
   "cell_type": "code",
   "execution_count": 149,
   "metadata": {},
   "outputs": [
    {
     "data": {
      "text/plain": "(1017209, 24)"
     },
     "execution_count": 149,
     "metadata": {},
     "output_type": "execute_result"
    }
   ],
   "source": [
    "df = pd.merge(train_df, store_df, how='inner', on='Store')\n",
    "df.shape"
   ]
  },
  {
   "cell_type": "markdown",
   "metadata": {},
   "source": [
    "## Saving Data"
   ]
  },
  {
   "cell_type": "code",
   "execution_count": 150,
   "metadata": {},
   "outputs": [],
   "source": [
    "# save the clean dataframe to a csv file\n",
    "csv_helper.to_csv(train_df, '../data/clean_train.csv')\n",
    "csv_helper.to_csv(store_df, '../data/clean_store.csv')\n",
    "csv_helper.to_csv(df, '../data/merged.csv')"
   ]
  },
  {
   "cell_type": "markdown",
   "metadata": {},
   "source": [
    "## Univariate Analysis"
   ]
  },
  {
   "cell_type": "markdown",
   "metadata": {},
   "source": [
    "### Non-Graphical Univariate Analysis"
   ]
  },
  {
   "cell_type": "code",
   "execution_count": 151,
   "metadata": {},
   "outputs": [
    {
     "data": {
      "text/html": "<div>\n<style scoped>\n    .dataframe tbody tr th:only-of-type {\n        vertical-align: middle;\n    }\n\n    .dataframe tbody tr th {\n        vertical-align: top;\n    }\n\n    .dataframe thead th {\n        text-align: right;\n    }\n</style>\n<table border=\"1\" class=\"dataframe\">\n  <thead>\n    <tr style=\"text-align: right;\">\n      <th></th>\n      <th>count</th>\n      <th>mean</th>\n      <th>std</th>\n      <th>min</th>\n      <th>25%</th>\n      <th>50%</th>\n      <th>75%</th>\n      <th>max</th>\n    </tr>\n  </thead>\n  <tbody>\n    <tr>\n      <th>Store</th>\n      <td>1017209.0</td>\n      <td>558.429727</td>\n      <td>321.908651</td>\n      <td>1.0</td>\n      <td>280.0</td>\n      <td>558.0</td>\n      <td>838.0</td>\n      <td>1115.0</td>\n    </tr>\n    <tr>\n      <th>DayOfWeek</th>\n      <td>1017209.0</td>\n      <td>3.998341</td>\n      <td>1.997391</td>\n      <td>1.0</td>\n      <td>2.0</td>\n      <td>4.0</td>\n      <td>6.0</td>\n      <td>7.0</td>\n    </tr>\n    <tr>\n      <th>Sales</th>\n      <td>1017209.0</td>\n      <td>5773.818972</td>\n      <td>3849.926175</td>\n      <td>0.0</td>\n      <td>3727.0</td>\n      <td>5744.0</td>\n      <td>7856.0</td>\n      <td>41551.0</td>\n    </tr>\n    <tr>\n      <th>Customers</th>\n      <td>1017209.0</td>\n      <td>633.145946</td>\n      <td>464.411734</td>\n      <td>0.0</td>\n      <td>405.0</td>\n      <td>609.0</td>\n      <td>837.0</td>\n      <td>7388.0</td>\n    </tr>\n    <tr>\n      <th>Open</th>\n      <td>1017209.0</td>\n      <td>0.830107</td>\n      <td>0.375539</td>\n      <td>0.0</td>\n      <td>1.0</td>\n      <td>1.0</td>\n      <td>1.0</td>\n      <td>1.0</td>\n    </tr>\n    <tr>\n      <th>Promo</th>\n      <td>1017209.0</td>\n      <td>0.381515</td>\n      <td>0.485759</td>\n      <td>0.0</td>\n      <td>0.0</td>\n      <td>0.0</td>\n      <td>1.0</td>\n      <td>1.0</td>\n    </tr>\n    <tr>\n      <th>SchoolHoliday</th>\n      <td>1017209.0</td>\n      <td>0.178647</td>\n      <td>0.383056</td>\n      <td>0.0</td>\n      <td>0.0</td>\n      <td>0.0</td>\n      <td>0.0</td>\n      <td>1.0</td>\n    </tr>\n    <tr>\n      <th>Year</th>\n      <td>1017209.0</td>\n      <td>2013.832292</td>\n      <td>0.777396</td>\n      <td>2013.0</td>\n      <td>2013.0</td>\n      <td>2014.0</td>\n      <td>2014.0</td>\n      <td>2015.0</td>\n    </tr>\n    <tr>\n      <th>Month</th>\n      <td>1017209.0</td>\n      <td>5.846762</td>\n      <td>3.326097</td>\n      <td>1.0</td>\n      <td>3.0</td>\n      <td>6.0</td>\n      <td>8.0</td>\n      <td>12.0</td>\n    </tr>\n    <tr>\n      <th>DayOfMonth</th>\n      <td>1017209.0</td>\n      <td>15.702790</td>\n      <td>8.787638</td>\n      <td>1.0</td>\n      <td>8.0</td>\n      <td>16.0</td>\n      <td>23.0</td>\n      <td>31.0</td>\n    </tr>\n    <tr>\n      <th>WeekOfYear</th>\n      <td>1017209.0</td>\n      <td>23.615515</td>\n      <td>14.433381</td>\n      <td>1.0</td>\n      <td>11.0</td>\n      <td>22.0</td>\n      <td>35.0</td>\n      <td>52.0</td>\n    </tr>\n    <tr>\n      <th>weekday</th>\n      <td>1017209.0</td>\n      <td>0.715437</td>\n      <td>0.451206</td>\n      <td>0.0</td>\n      <td>0.0</td>\n      <td>1.0</td>\n      <td>1.0</td>\n      <td>1.0</td>\n    </tr>\n    <tr>\n      <th>CompetitionDistance</th>\n      <td>1017209.0</td>\n      <td>5613.013481</td>\n      <td>8498.338271</td>\n      <td>20.0</td>\n      <td>710.0</td>\n      <td>2330.0</td>\n      <td>6910.0</td>\n      <td>75860.0</td>\n    </tr>\n    <tr>\n      <th>CompetitionOpenSinceMonth</th>\n      <td>1017209.0</td>\n      <td>5.244756</td>\n      <td>3.928522</td>\n      <td>1.0</td>\n      <td>1.0</td>\n      <td>4.0</td>\n      <td>9.0</td>\n      <td>12.0</td>\n    </tr>\n    <tr>\n      <th>CompetitionOpenSinceYear</th>\n      <td>1017209.0</td>\n      <td>1974.140034</td>\n      <td>50.853233</td>\n      <td>1900.0</td>\n      <td>1900.0</td>\n      <td>2006.0</td>\n      <td>2011.0</td>\n      <td>2015.0</td>\n    </tr>\n    <tr>\n      <th>Promo2</th>\n      <td>1017209.0</td>\n      <td>0.500564</td>\n      <td>0.500000</td>\n      <td>0.0</td>\n      <td>0.0</td>\n      <td>1.0</td>\n      <td>1.0</td>\n      <td>1.0</td>\n    </tr>\n    <tr>\n      <th>Promo2SinceWeek</th>\n      <td>1017209.0</td>\n      <td>11.647665</td>\n      <td>15.323928</td>\n      <td>0.0</td>\n      <td>0.0</td>\n      <td>1.0</td>\n      <td>22.0</td>\n      <td>50.0</td>\n    </tr>\n    <tr>\n      <th>Promo2SinceYear</th>\n      <td>1017209.0</td>\n      <td>1007.010608</td>\n      <td>1005.876930</td>\n      <td>0.0</td>\n      <td>0.0</td>\n      <td>2009.0</td>\n      <td>2012.0</td>\n      <td>2015.0</td>\n    </tr>\n    <tr>\n      <th>CompetitionBeforeStoreOpened</th>\n      <td>1017209.0</td>\n      <td>0.317878</td>\n      <td>0.465652</td>\n      <td>0.0</td>\n      <td>0.0</td>\n      <td>0.0</td>\n      <td>1.0</td>\n      <td>1.0</td>\n    </tr>\n  </tbody>\n</table>\n</div>",
      "text/plain": "                                  count         mean          std     min  \\\nStore                         1017209.0   558.429727   321.908651     1.0   \nDayOfWeek                     1017209.0     3.998341     1.997391     1.0   \nSales                         1017209.0  5773.818972  3849.926175     0.0   \nCustomers                     1017209.0   633.145946   464.411734     0.0   \nOpen                          1017209.0     0.830107     0.375539     0.0   \nPromo                         1017209.0     0.381515     0.485759     0.0   \nSchoolHoliday                 1017209.0     0.178647     0.383056     0.0   \nYear                          1017209.0  2013.832292     0.777396  2013.0   \nMonth                         1017209.0     5.846762     3.326097     1.0   \nDayOfMonth                    1017209.0    15.702790     8.787638     1.0   \nWeekOfYear                    1017209.0    23.615515    14.433381     1.0   \nweekday                       1017209.0     0.715437     0.451206     0.0   \nCompetitionDistance           1017209.0  5613.013481  8498.338271    20.0   \nCompetitionOpenSinceMonth     1017209.0     5.244756     3.928522     1.0   \nCompetitionOpenSinceYear      1017209.0  1974.140034    50.853233  1900.0   \nPromo2                        1017209.0     0.500564     0.500000     0.0   \nPromo2SinceWeek               1017209.0    11.647665    15.323928     0.0   \nPromo2SinceYear               1017209.0  1007.010608  1005.876930     0.0   \nCompetitionBeforeStoreOpened  1017209.0     0.317878     0.465652     0.0   \n\n                                 25%     50%     75%      max  \nStore                          280.0   558.0   838.0   1115.0  \nDayOfWeek                        2.0     4.0     6.0      7.0  \nSales                         3727.0  5744.0  7856.0  41551.0  \nCustomers                      405.0   609.0   837.0   7388.0  \nOpen                             1.0     1.0     1.0      1.0  \nPromo                            0.0     0.0     1.0      1.0  \nSchoolHoliday                    0.0     0.0     0.0      1.0  \nYear                          2013.0  2014.0  2014.0   2015.0  \nMonth                            3.0     6.0     8.0     12.0  \nDayOfMonth                       8.0    16.0    23.0     31.0  \nWeekOfYear                      11.0    22.0    35.0     52.0  \nweekday                          0.0     1.0     1.0      1.0  \nCompetitionDistance            710.0  2330.0  6910.0  75860.0  \nCompetitionOpenSinceMonth        1.0     4.0     9.0     12.0  \nCompetitionOpenSinceYear      1900.0  2006.0  2011.0   2015.0  \nPromo2                           0.0     1.0     1.0      1.0  \nPromo2SinceWeek                  0.0     1.0    22.0     50.0  \nPromo2SinceYear                  0.0  2009.0  2012.0   2015.0  \nCompetitionBeforeStoreOpened     0.0     0.0     1.0      1.0  "
     },
     "execution_count": 151,
     "metadata": {},
     "output_type": "execute_result"
    }
   ],
   "source": [
    "df.describe().transpose()"
   ]
  },
  {
   "cell_type": "markdown",
   "metadata": {},
   "source": [
    "### StoreType"
   ]
  },
  {
   "cell_type": "code",
   "execution_count": 152,
   "metadata": {},
   "outputs": [
    {
     "data": {
      "text/plain": "a    602\nd    348\nc    148\nb     17\nName: StoreType, dtype: Int64"
     },
     "execution_count": 152,
     "metadata": {},
     "output_type": "execute_result"
    }
   ],
   "source": [
    "# unique value counts\n",
    "counts_df = store_df['StoreType'].value_counts()\n",
    "counts_df"
   ]
  },
  {
   "cell_type": "code",
   "execution_count": 153,
   "metadata": {},
   "outputs": [
    {
     "data": {
      "application/vnd.plotly.v1+json": {
       "config": {
        "plotlyServerURL": "https://plot.ly"
       },
       "data": [
        {
         "domain": {
          "x": [
           0,
           1
          ],
          "y": [
           0,
           1
          ]
         },
         "hovertemplate": "StoreType=%{label}<br>count=%{value}<extra></extra>",
         "labels": [
          "a",
          "d",
          "c",
          "b"
         ],
         "legendgroup": "",
         "name": "",
         "showlegend": true,
         "type": "pie",
         "values": [
          602,
          348,
          148,
          17
         ]
        }
       ],
       "layout": {
        "height": 500,
        "legend": {
         "tracegroupgap": 0
        },
        "template": {
         "data": {
          "bar": [
           {
            "error_x": {
             "color": "#2a3f5f"
            },
            "error_y": {
             "color": "#2a3f5f"
            },
            "marker": {
             "line": {
              "color": "#E5ECF6",
              "width": 0.5
             },
             "pattern": {
              "fillmode": "overlay",
              "size": 10,
              "solidity": 0.2
             }
            },
            "type": "bar"
           }
          ],
          "barpolar": [
           {
            "marker": {
             "line": {
              "color": "#E5ECF6",
              "width": 0.5
             },
             "pattern": {
              "fillmode": "overlay",
              "size": 10,
              "solidity": 0.2
             }
            },
            "type": "barpolar"
           }
          ],
          "carpet": [
           {
            "aaxis": {
             "endlinecolor": "#2a3f5f",
             "gridcolor": "white",
             "linecolor": "white",
             "minorgridcolor": "white",
             "startlinecolor": "#2a3f5f"
            },
            "baxis": {
             "endlinecolor": "#2a3f5f",
             "gridcolor": "white",
             "linecolor": "white",
             "minorgridcolor": "white",
             "startlinecolor": "#2a3f5f"
            },
            "type": "carpet"
           }
          ],
          "choropleth": [
           {
            "colorbar": {
             "outlinewidth": 0,
             "ticks": ""
            },
            "type": "choropleth"
           }
          ],
          "contour": [
           {
            "colorbar": {
             "outlinewidth": 0,
             "ticks": ""
            },
            "colorscale": [
             [
              0,
              "#0d0887"
             ],
             [
              0.1111111111111111,
              "#46039f"
             ],
             [
              0.2222222222222222,
              "#7201a8"
             ],
             [
              0.3333333333333333,
              "#9c179e"
             ],
             [
              0.4444444444444444,
              "#bd3786"
             ],
             [
              0.5555555555555556,
              "#d8576b"
             ],
             [
              0.6666666666666666,
              "#ed7953"
             ],
             [
              0.7777777777777778,
              "#fb9f3a"
             ],
             [
              0.8888888888888888,
              "#fdca26"
             ],
             [
              1,
              "#f0f921"
             ]
            ],
            "type": "contour"
           }
          ],
          "contourcarpet": [
           {
            "colorbar": {
             "outlinewidth": 0,
             "ticks": ""
            },
            "type": "contourcarpet"
           }
          ],
          "heatmap": [
           {
            "colorbar": {
             "outlinewidth": 0,
             "ticks": ""
            },
            "colorscale": [
             [
              0,
              "#0d0887"
             ],
             [
              0.1111111111111111,
              "#46039f"
             ],
             [
              0.2222222222222222,
              "#7201a8"
             ],
             [
              0.3333333333333333,
              "#9c179e"
             ],
             [
              0.4444444444444444,
              "#bd3786"
             ],
             [
              0.5555555555555556,
              "#d8576b"
             ],
             [
              0.6666666666666666,
              "#ed7953"
             ],
             [
              0.7777777777777778,
              "#fb9f3a"
             ],
             [
              0.8888888888888888,
              "#fdca26"
             ],
             [
              1,
              "#f0f921"
             ]
            ],
            "type": "heatmap"
           }
          ],
          "heatmapgl": [
           {
            "colorbar": {
             "outlinewidth": 0,
             "ticks": ""
            },
            "colorscale": [
             [
              0,
              "#0d0887"
             ],
             [
              0.1111111111111111,
              "#46039f"
             ],
             [
              0.2222222222222222,
              "#7201a8"
             ],
             [
              0.3333333333333333,
              "#9c179e"
             ],
             [
              0.4444444444444444,
              "#bd3786"
             ],
             [
              0.5555555555555556,
              "#d8576b"
             ],
             [
              0.6666666666666666,
              "#ed7953"
             ],
             [
              0.7777777777777778,
              "#fb9f3a"
             ],
             [
              0.8888888888888888,
              "#fdca26"
             ],
             [
              1,
              "#f0f921"
             ]
            ],
            "type": "heatmapgl"
           }
          ],
          "histogram": [
           {
            "marker": {
             "pattern": {
              "fillmode": "overlay",
              "size": 10,
              "solidity": 0.2
             }
            },
            "type": "histogram"
           }
          ],
          "histogram2d": [
           {
            "colorbar": {
             "outlinewidth": 0,
             "ticks": ""
            },
            "colorscale": [
             [
              0,
              "#0d0887"
             ],
             [
              0.1111111111111111,
              "#46039f"
             ],
             [
              0.2222222222222222,
              "#7201a8"
             ],
             [
              0.3333333333333333,
              "#9c179e"
             ],
             [
              0.4444444444444444,
              "#bd3786"
             ],
             [
              0.5555555555555556,
              "#d8576b"
             ],
             [
              0.6666666666666666,
              "#ed7953"
             ],
             [
              0.7777777777777778,
              "#fb9f3a"
             ],
             [
              0.8888888888888888,
              "#fdca26"
             ],
             [
              1,
              "#f0f921"
             ]
            ],
            "type": "histogram2d"
           }
          ],
          "histogram2dcontour": [
           {
            "colorbar": {
             "outlinewidth": 0,
             "ticks": ""
            },
            "colorscale": [
             [
              0,
              "#0d0887"
             ],
             [
              0.1111111111111111,
              "#46039f"
             ],
             [
              0.2222222222222222,
              "#7201a8"
             ],
             [
              0.3333333333333333,
              "#9c179e"
             ],
             [
              0.4444444444444444,
              "#bd3786"
             ],
             [
              0.5555555555555556,
              "#d8576b"
             ],
             [
              0.6666666666666666,
              "#ed7953"
             ],
             [
              0.7777777777777778,
              "#fb9f3a"
             ],
             [
              0.8888888888888888,
              "#fdca26"
             ],
             [
              1,
              "#f0f921"
             ]
            ],
            "type": "histogram2dcontour"
           }
          ],
          "mesh3d": [
           {
            "colorbar": {
             "outlinewidth": 0,
             "ticks": ""
            },
            "type": "mesh3d"
           }
          ],
          "parcoords": [
           {
            "line": {
             "colorbar": {
              "outlinewidth": 0,
              "ticks": ""
             }
            },
            "type": "parcoords"
           }
          ],
          "pie": [
           {
            "automargin": true,
            "type": "pie"
           }
          ],
          "scatter": [
           {
            "marker": {
             "colorbar": {
              "outlinewidth": 0,
              "ticks": ""
             }
            },
            "type": "scatter"
           }
          ],
          "scatter3d": [
           {
            "line": {
             "colorbar": {
              "outlinewidth": 0,
              "ticks": ""
             }
            },
            "marker": {
             "colorbar": {
              "outlinewidth": 0,
              "ticks": ""
             }
            },
            "type": "scatter3d"
           }
          ],
          "scattercarpet": [
           {
            "marker": {
             "colorbar": {
              "outlinewidth": 0,
              "ticks": ""
             }
            },
            "type": "scattercarpet"
           }
          ],
          "scattergeo": [
           {
            "marker": {
             "colorbar": {
              "outlinewidth": 0,
              "ticks": ""
             }
            },
            "type": "scattergeo"
           }
          ],
          "scattergl": [
           {
            "marker": {
             "colorbar": {
              "outlinewidth": 0,
              "ticks": ""
             }
            },
            "type": "scattergl"
           }
          ],
          "scattermapbox": [
           {
            "marker": {
             "colorbar": {
              "outlinewidth": 0,
              "ticks": ""
             }
            },
            "type": "scattermapbox"
           }
          ],
          "scatterpolar": [
           {
            "marker": {
             "colorbar": {
              "outlinewidth": 0,
              "ticks": ""
             }
            },
            "type": "scatterpolar"
           }
          ],
          "scatterpolargl": [
           {
            "marker": {
             "colorbar": {
              "outlinewidth": 0,
              "ticks": ""
             }
            },
            "type": "scatterpolargl"
           }
          ],
          "scatterternary": [
           {
            "marker": {
             "colorbar": {
              "outlinewidth": 0,
              "ticks": ""
             }
            },
            "type": "scatterternary"
           }
          ],
          "surface": [
           {
            "colorbar": {
             "outlinewidth": 0,
             "ticks": ""
            },
            "colorscale": [
             [
              0,
              "#0d0887"
             ],
             [
              0.1111111111111111,
              "#46039f"
             ],
             [
              0.2222222222222222,
              "#7201a8"
             ],
             [
              0.3333333333333333,
              "#9c179e"
             ],
             [
              0.4444444444444444,
              "#bd3786"
             ],
             [
              0.5555555555555556,
              "#d8576b"
             ],
             [
              0.6666666666666666,
              "#ed7953"
             ],
             [
              0.7777777777777778,
              "#fb9f3a"
             ],
             [
              0.8888888888888888,
              "#fdca26"
             ],
             [
              1,
              "#f0f921"
             ]
            ],
            "type": "surface"
           }
          ],
          "table": [
           {
            "cells": {
             "fill": {
              "color": "#EBF0F8"
             },
             "line": {
              "color": "white"
             }
            },
            "header": {
             "fill": {
              "color": "#C8D4E3"
             },
             "line": {
              "color": "white"
             }
            },
            "type": "table"
           }
          ]
         },
         "layout": {
          "annotationdefaults": {
           "arrowcolor": "#2a3f5f",
           "arrowhead": 0,
           "arrowwidth": 1
          },
          "autotypenumbers": "strict",
          "coloraxis": {
           "colorbar": {
            "outlinewidth": 0,
            "ticks": ""
           }
          },
          "colorscale": {
           "diverging": [
            [
             0,
             "#8e0152"
            ],
            [
             0.1,
             "#c51b7d"
            ],
            [
             0.2,
             "#de77ae"
            ],
            [
             0.3,
             "#f1b6da"
            ],
            [
             0.4,
             "#fde0ef"
            ],
            [
             0.5,
             "#f7f7f7"
            ],
            [
             0.6,
             "#e6f5d0"
            ],
            [
             0.7,
             "#b8e186"
            ],
            [
             0.8,
             "#7fbc41"
            ],
            [
             0.9,
             "#4d9221"
            ],
            [
             1,
             "#276419"
            ]
           ],
           "sequential": [
            [
             0,
             "#0d0887"
            ],
            [
             0.1111111111111111,
             "#46039f"
            ],
            [
             0.2222222222222222,
             "#7201a8"
            ],
            [
             0.3333333333333333,
             "#9c179e"
            ],
            [
             0.4444444444444444,
             "#bd3786"
            ],
            [
             0.5555555555555556,
             "#d8576b"
            ],
            [
             0.6666666666666666,
             "#ed7953"
            ],
            [
             0.7777777777777778,
             "#fb9f3a"
            ],
            [
             0.8888888888888888,
             "#fdca26"
            ],
            [
             1,
             "#f0f921"
            ]
           ],
           "sequentialminus": [
            [
             0,
             "#0d0887"
            ],
            [
             0.1111111111111111,
             "#46039f"
            ],
            [
             0.2222222222222222,
             "#7201a8"
            ],
            [
             0.3333333333333333,
             "#9c179e"
            ],
            [
             0.4444444444444444,
             "#bd3786"
            ],
            [
             0.5555555555555556,
             "#d8576b"
            ],
            [
             0.6666666666666666,
             "#ed7953"
            ],
            [
             0.7777777777777778,
             "#fb9f3a"
            ],
            [
             0.8888888888888888,
             "#fdca26"
            ],
            [
             1,
             "#f0f921"
            ]
           ]
          },
          "colorway": [
           "#636efa",
           "#EF553B",
           "#00cc96",
           "#ab63fa",
           "#FFA15A",
           "#19d3f3",
           "#FF6692",
           "#B6E880",
           "#FF97FF",
           "#FECB52"
          ],
          "font": {
           "color": "#2a3f5f"
          },
          "geo": {
           "bgcolor": "white",
           "lakecolor": "white",
           "landcolor": "#E5ECF6",
           "showlakes": true,
           "showland": true,
           "subunitcolor": "white"
          },
          "hoverlabel": {
           "align": "left"
          },
          "hovermode": "closest",
          "mapbox": {
           "style": "light"
          },
          "paper_bgcolor": "white",
          "plot_bgcolor": "#E5ECF6",
          "polar": {
           "angularaxis": {
            "gridcolor": "white",
            "linecolor": "white",
            "ticks": ""
           },
           "bgcolor": "#E5ECF6",
           "radialaxis": {
            "gridcolor": "white",
            "linecolor": "white",
            "ticks": ""
           }
          },
          "scene": {
           "xaxis": {
            "backgroundcolor": "#E5ECF6",
            "gridcolor": "white",
            "gridwidth": 2,
            "linecolor": "white",
            "showbackground": true,
            "ticks": "",
            "zerolinecolor": "white"
           },
           "yaxis": {
            "backgroundcolor": "#E5ECF6",
            "gridcolor": "white",
            "gridwidth": 2,
            "linecolor": "white",
            "showbackground": true,
            "ticks": "",
            "zerolinecolor": "white"
           },
           "zaxis": {
            "backgroundcolor": "#E5ECF6",
            "gridcolor": "white",
            "gridwidth": 2,
            "linecolor": "white",
            "showbackground": true,
            "ticks": "",
            "zerolinecolor": "white"
           }
          },
          "shapedefaults": {
           "line": {
            "color": "#2a3f5f"
           }
          },
          "ternary": {
           "aaxis": {
            "gridcolor": "white",
            "linecolor": "white",
            "ticks": ""
           },
           "baxis": {
            "gridcolor": "white",
            "linecolor": "white",
            "ticks": ""
           },
           "bgcolor": "#E5ECF6",
           "caxis": {
            "gridcolor": "white",
            "linecolor": "white",
            "ticks": ""
           }
          },
          "title": {
           "x": 0.05
          },
          "xaxis": {
           "automargin": true,
           "gridcolor": "white",
           "linecolor": "white",
           "ticks": "",
           "title": {
            "standoff": 15
           },
           "zerolinecolor": "white",
           "zerolinewidth": 2
          },
          "yaxis": {
           "automargin": true,
           "gridcolor": "white",
           "linecolor": "white",
           "ticks": "",
           "title": {
            "standoff": 15
           },
           "zerolinecolor": "white",
           "zerolinewidth": 2
          }
         }
        },
        "title": {
         "text": "Distribution of StoreType"
        },
        "width": 800
       }
      }
     },
     "metadata": {},
     "output_type": "display_data"
    }
   ],
   "source": [
    "plotly_plot_pie(store_df, 'StoreType')"
   ]
  },
  {
   "cell_type": "markdown",
   "metadata": {},
   "source": [
    "### Assortment"
   ]
  },
  {
   "cell_type": "code",
   "execution_count": 154,
   "metadata": {},
   "outputs": [
    {
     "data": {
      "text/plain": "a    593\nc    513\nb      9\nName: Assortment, dtype: Int64"
     },
     "execution_count": 154,
     "metadata": {},
     "output_type": "execute_result"
    }
   ],
   "source": [
    "# unique value counts\n",
    "counts_df = store_df['Assortment'].value_counts()\n",
    "counts_df"
   ]
  },
  {
   "cell_type": "code",
   "execution_count": 155,
   "metadata": {},
   "outputs": [
    {
     "data": {
      "application/vnd.plotly.v1+json": {
       "config": {
        "plotlyServerURL": "https://plot.ly"
       },
       "data": [
        {
         "domain": {
          "x": [
           0,
           1
          ],
          "y": [
           0,
           1
          ]
         },
         "hovertemplate": "Assortment=%{label}<br>count=%{value}<extra></extra>",
         "labels": [
          "a",
          "c",
          "b"
         ],
         "legendgroup": "",
         "name": "",
         "showlegend": true,
         "type": "pie",
         "values": [
          593,
          513,
          9
         ]
        }
       ],
       "layout": {
        "height": 500,
        "legend": {
         "tracegroupgap": 0
        },
        "template": {
         "data": {
          "bar": [
           {
            "error_x": {
             "color": "#2a3f5f"
            },
            "error_y": {
             "color": "#2a3f5f"
            },
            "marker": {
             "line": {
              "color": "#E5ECF6",
              "width": 0.5
             },
             "pattern": {
              "fillmode": "overlay",
              "size": 10,
              "solidity": 0.2
             }
            },
            "type": "bar"
           }
          ],
          "barpolar": [
           {
            "marker": {
             "line": {
              "color": "#E5ECF6",
              "width": 0.5
             },
             "pattern": {
              "fillmode": "overlay",
              "size": 10,
              "solidity": 0.2
             }
            },
            "type": "barpolar"
           }
          ],
          "carpet": [
           {
            "aaxis": {
             "endlinecolor": "#2a3f5f",
             "gridcolor": "white",
             "linecolor": "white",
             "minorgridcolor": "white",
             "startlinecolor": "#2a3f5f"
            },
            "baxis": {
             "endlinecolor": "#2a3f5f",
             "gridcolor": "white",
             "linecolor": "white",
             "minorgridcolor": "white",
             "startlinecolor": "#2a3f5f"
            },
            "type": "carpet"
           }
          ],
          "choropleth": [
           {
            "colorbar": {
             "outlinewidth": 0,
             "ticks": ""
            },
            "type": "choropleth"
           }
          ],
          "contour": [
           {
            "colorbar": {
             "outlinewidth": 0,
             "ticks": ""
            },
            "colorscale": [
             [
              0,
              "#0d0887"
             ],
             [
              0.1111111111111111,
              "#46039f"
             ],
             [
              0.2222222222222222,
              "#7201a8"
             ],
             [
              0.3333333333333333,
              "#9c179e"
             ],
             [
              0.4444444444444444,
              "#bd3786"
             ],
             [
              0.5555555555555556,
              "#d8576b"
             ],
             [
              0.6666666666666666,
              "#ed7953"
             ],
             [
              0.7777777777777778,
              "#fb9f3a"
             ],
             [
              0.8888888888888888,
              "#fdca26"
             ],
             [
              1,
              "#f0f921"
             ]
            ],
            "type": "contour"
           }
          ],
          "contourcarpet": [
           {
            "colorbar": {
             "outlinewidth": 0,
             "ticks": ""
            },
            "type": "contourcarpet"
           }
          ],
          "heatmap": [
           {
            "colorbar": {
             "outlinewidth": 0,
             "ticks": ""
            },
            "colorscale": [
             [
              0,
              "#0d0887"
             ],
             [
              0.1111111111111111,
              "#46039f"
             ],
             [
              0.2222222222222222,
              "#7201a8"
             ],
             [
              0.3333333333333333,
              "#9c179e"
             ],
             [
              0.4444444444444444,
              "#bd3786"
             ],
             [
              0.5555555555555556,
              "#d8576b"
             ],
             [
              0.6666666666666666,
              "#ed7953"
             ],
             [
              0.7777777777777778,
              "#fb9f3a"
             ],
             [
              0.8888888888888888,
              "#fdca26"
             ],
             [
              1,
              "#f0f921"
             ]
            ],
            "type": "heatmap"
           }
          ],
          "heatmapgl": [
           {
            "colorbar": {
             "outlinewidth": 0,
             "ticks": ""
            },
            "colorscale": [
             [
              0,
              "#0d0887"
             ],
             [
              0.1111111111111111,
              "#46039f"
             ],
             [
              0.2222222222222222,
              "#7201a8"
             ],
             [
              0.3333333333333333,
              "#9c179e"
             ],
             [
              0.4444444444444444,
              "#bd3786"
             ],
             [
              0.5555555555555556,
              "#d8576b"
             ],
             [
              0.6666666666666666,
              "#ed7953"
             ],
             [
              0.7777777777777778,
              "#fb9f3a"
             ],
             [
              0.8888888888888888,
              "#fdca26"
             ],
             [
              1,
              "#f0f921"
             ]
            ],
            "type": "heatmapgl"
           }
          ],
          "histogram": [
           {
            "marker": {
             "pattern": {
              "fillmode": "overlay",
              "size": 10,
              "solidity": 0.2
             }
            },
            "type": "histogram"
           }
          ],
          "histogram2d": [
           {
            "colorbar": {
             "outlinewidth": 0,
             "ticks": ""
            },
            "colorscale": [
             [
              0,
              "#0d0887"
             ],
             [
              0.1111111111111111,
              "#46039f"
             ],
             [
              0.2222222222222222,
              "#7201a8"
             ],
             [
              0.3333333333333333,
              "#9c179e"
             ],
             [
              0.4444444444444444,
              "#bd3786"
             ],
             [
              0.5555555555555556,
              "#d8576b"
             ],
             [
              0.6666666666666666,
              "#ed7953"
             ],
             [
              0.7777777777777778,
              "#fb9f3a"
             ],
             [
              0.8888888888888888,
              "#fdca26"
             ],
             [
              1,
              "#f0f921"
             ]
            ],
            "type": "histogram2d"
           }
          ],
          "histogram2dcontour": [
           {
            "colorbar": {
             "outlinewidth": 0,
             "ticks": ""
            },
            "colorscale": [
             [
              0,
              "#0d0887"
             ],
             [
              0.1111111111111111,
              "#46039f"
             ],
             [
              0.2222222222222222,
              "#7201a8"
             ],
             [
              0.3333333333333333,
              "#9c179e"
             ],
             [
              0.4444444444444444,
              "#bd3786"
             ],
             [
              0.5555555555555556,
              "#d8576b"
             ],
             [
              0.6666666666666666,
              "#ed7953"
             ],
             [
              0.7777777777777778,
              "#fb9f3a"
             ],
             [
              0.8888888888888888,
              "#fdca26"
             ],
             [
              1,
              "#f0f921"
             ]
            ],
            "type": "histogram2dcontour"
           }
          ],
          "mesh3d": [
           {
            "colorbar": {
             "outlinewidth": 0,
             "ticks": ""
            },
            "type": "mesh3d"
           }
          ],
          "parcoords": [
           {
            "line": {
             "colorbar": {
              "outlinewidth": 0,
              "ticks": ""
             }
            },
            "type": "parcoords"
           }
          ],
          "pie": [
           {
            "automargin": true,
            "type": "pie"
           }
          ],
          "scatter": [
           {
            "marker": {
             "colorbar": {
              "outlinewidth": 0,
              "ticks": ""
             }
            },
            "type": "scatter"
           }
          ],
          "scatter3d": [
           {
            "line": {
             "colorbar": {
              "outlinewidth": 0,
              "ticks": ""
             }
            },
            "marker": {
             "colorbar": {
              "outlinewidth": 0,
              "ticks": ""
             }
            },
            "type": "scatter3d"
           }
          ],
          "scattercarpet": [
           {
            "marker": {
             "colorbar": {
              "outlinewidth": 0,
              "ticks": ""
             }
            },
            "type": "scattercarpet"
           }
          ],
          "scattergeo": [
           {
            "marker": {
             "colorbar": {
              "outlinewidth": 0,
              "ticks": ""
             }
            },
            "type": "scattergeo"
           }
          ],
          "scattergl": [
           {
            "marker": {
             "colorbar": {
              "outlinewidth": 0,
              "ticks": ""
             }
            },
            "type": "scattergl"
           }
          ],
          "scattermapbox": [
           {
            "marker": {
             "colorbar": {
              "outlinewidth": 0,
              "ticks": ""
             }
            },
            "type": "scattermapbox"
           }
          ],
          "scatterpolar": [
           {
            "marker": {
             "colorbar": {
              "outlinewidth": 0,
              "ticks": ""
             }
            },
            "type": "scatterpolar"
           }
          ],
          "scatterpolargl": [
           {
            "marker": {
             "colorbar": {
              "outlinewidth": 0,
              "ticks": ""
             }
            },
            "type": "scatterpolargl"
           }
          ],
          "scatterternary": [
           {
            "marker": {
             "colorbar": {
              "outlinewidth": 0,
              "ticks": ""
             }
            },
            "type": "scatterternary"
           }
          ],
          "surface": [
           {
            "colorbar": {
             "outlinewidth": 0,
             "ticks": ""
            },
            "colorscale": [
             [
              0,
              "#0d0887"
             ],
             [
              0.1111111111111111,
              "#46039f"
             ],
             [
              0.2222222222222222,
              "#7201a8"
             ],
             [
              0.3333333333333333,
              "#9c179e"
             ],
             [
              0.4444444444444444,
              "#bd3786"
             ],
             [
              0.5555555555555556,
              "#d8576b"
             ],
             [
              0.6666666666666666,
              "#ed7953"
             ],
             [
              0.7777777777777778,
              "#fb9f3a"
             ],
             [
              0.8888888888888888,
              "#fdca26"
             ],
             [
              1,
              "#f0f921"
             ]
            ],
            "type": "surface"
           }
          ],
          "table": [
           {
            "cells": {
             "fill": {
              "color": "#EBF0F8"
             },
             "line": {
              "color": "white"
             }
            },
            "header": {
             "fill": {
              "color": "#C8D4E3"
             },
             "line": {
              "color": "white"
             }
            },
            "type": "table"
           }
          ]
         },
         "layout": {
          "annotationdefaults": {
           "arrowcolor": "#2a3f5f",
           "arrowhead": 0,
           "arrowwidth": 1
          },
          "autotypenumbers": "strict",
          "coloraxis": {
           "colorbar": {
            "outlinewidth": 0,
            "ticks": ""
           }
          },
          "colorscale": {
           "diverging": [
            [
             0,
             "#8e0152"
            ],
            [
             0.1,
             "#c51b7d"
            ],
            [
             0.2,
             "#de77ae"
            ],
            [
             0.3,
             "#f1b6da"
            ],
            [
             0.4,
             "#fde0ef"
            ],
            [
             0.5,
             "#f7f7f7"
            ],
            [
             0.6,
             "#e6f5d0"
            ],
            [
             0.7,
             "#b8e186"
            ],
            [
             0.8,
             "#7fbc41"
            ],
            [
             0.9,
             "#4d9221"
            ],
            [
             1,
             "#276419"
            ]
           ],
           "sequential": [
            [
             0,
             "#0d0887"
            ],
            [
             0.1111111111111111,
             "#46039f"
            ],
            [
             0.2222222222222222,
             "#7201a8"
            ],
            [
             0.3333333333333333,
             "#9c179e"
            ],
            [
             0.4444444444444444,
             "#bd3786"
            ],
            [
             0.5555555555555556,
             "#d8576b"
            ],
            [
             0.6666666666666666,
             "#ed7953"
            ],
            [
             0.7777777777777778,
             "#fb9f3a"
            ],
            [
             0.8888888888888888,
             "#fdca26"
            ],
            [
             1,
             "#f0f921"
            ]
           ],
           "sequentialminus": [
            [
             0,
             "#0d0887"
            ],
            [
             0.1111111111111111,
             "#46039f"
            ],
            [
             0.2222222222222222,
             "#7201a8"
            ],
            [
             0.3333333333333333,
             "#9c179e"
            ],
            [
             0.4444444444444444,
             "#bd3786"
            ],
            [
             0.5555555555555556,
             "#d8576b"
            ],
            [
             0.6666666666666666,
             "#ed7953"
            ],
            [
             0.7777777777777778,
             "#fb9f3a"
            ],
            [
             0.8888888888888888,
             "#fdca26"
            ],
            [
             1,
             "#f0f921"
            ]
           ]
          },
          "colorway": [
           "#636efa",
           "#EF553B",
           "#00cc96",
           "#ab63fa",
           "#FFA15A",
           "#19d3f3",
           "#FF6692",
           "#B6E880",
           "#FF97FF",
           "#FECB52"
          ],
          "font": {
           "color": "#2a3f5f"
          },
          "geo": {
           "bgcolor": "white",
           "lakecolor": "white",
           "landcolor": "#E5ECF6",
           "showlakes": true,
           "showland": true,
           "subunitcolor": "white"
          },
          "hoverlabel": {
           "align": "left"
          },
          "hovermode": "closest",
          "mapbox": {
           "style": "light"
          },
          "paper_bgcolor": "white",
          "plot_bgcolor": "#E5ECF6",
          "polar": {
           "angularaxis": {
            "gridcolor": "white",
            "linecolor": "white",
            "ticks": ""
           },
           "bgcolor": "#E5ECF6",
           "radialaxis": {
            "gridcolor": "white",
            "linecolor": "white",
            "ticks": ""
           }
          },
          "scene": {
           "xaxis": {
            "backgroundcolor": "#E5ECF6",
            "gridcolor": "white",
            "gridwidth": 2,
            "linecolor": "white",
            "showbackground": true,
            "ticks": "",
            "zerolinecolor": "white"
           },
           "yaxis": {
            "backgroundcolor": "#E5ECF6",
            "gridcolor": "white",
            "gridwidth": 2,
            "linecolor": "white",
            "showbackground": true,
            "ticks": "",
            "zerolinecolor": "white"
           },
           "zaxis": {
            "backgroundcolor": "#E5ECF6",
            "gridcolor": "white",
            "gridwidth": 2,
            "linecolor": "white",
            "showbackground": true,
            "ticks": "",
            "zerolinecolor": "white"
           }
          },
          "shapedefaults": {
           "line": {
            "color": "#2a3f5f"
           }
          },
          "ternary": {
           "aaxis": {
            "gridcolor": "white",
            "linecolor": "white",
            "ticks": ""
           },
           "baxis": {
            "gridcolor": "white",
            "linecolor": "white",
            "ticks": ""
           },
           "bgcolor": "#E5ECF6",
           "caxis": {
            "gridcolor": "white",
            "linecolor": "white",
            "ticks": ""
           }
          },
          "title": {
           "x": 0.05
          },
          "xaxis": {
           "automargin": true,
           "gridcolor": "white",
           "linecolor": "white",
           "ticks": "",
           "title": {
            "standoff": 15
           },
           "zerolinecolor": "white",
           "zerolinewidth": 2
          },
          "yaxis": {
           "automargin": true,
           "gridcolor": "white",
           "linecolor": "white",
           "ticks": "",
           "title": {
            "standoff": 15
           },
           "zerolinecolor": "white",
           "zerolinewidth": 2
          }
         }
        },
        "title": {
         "text": "Distribution of Assortment"
        },
        "width": 800
       }
      }
     },
     "metadata": {},
     "output_type": "display_data"
    }
   ],
   "source": [
    "plotly_plot_pie(store_df, 'Assortment')"
   ]
  },
  {
   "cell_type": "markdown",
   "metadata": {},
   "source": [
    "### CompetitionDistance"
   ]
  },
  {
   "cell_type": "code",
   "execution_count": null,
   "metadata": {},
   "outputs": [
    {
     "data": {
      "application/vnd.plotly.v1+json": {
       "config": {
        "plotlyServerURL": "https://plot.ly"
       },
       "data": [
        {
         "alignmentgroup": "True",
         "bingroup": "x",
         "hovertemplate": "CompetitionDistance=%{x}<br>count=%{y}<extra></extra>",
         "legendgroup": "",
         "marker": {
          "color": "cornflowerblue",
          "pattern": {
           "shape": ""
          }
         },
         "name": "",
         "offsetgroup": "",
         "orientation": "v",
         "showlegend": false,
         "type": "histogram",
         "x": [
          1270,
          570,
          14130,
          620,
          29910,
          310,
          24000,
          7520,
          2030,
          3160,
          960,
          1070,
          310,
          1300,
          4110,
          3270,
          50,
          13840,
          3240,
          2340,
          550,
          1040,
          4060,
          4590,
          430,
          2300,
          60,
          1200,
          2170,
          40,
          9800,
          2910,
          1320,
          2240,
          7660,
          540,
          4230,
          1090,
          260,
          180,
          1180,
          290,
          4880,
          540,
          9710,
          1200,
          270,
          1060,
          18010,
          6260,
          10570,
          450,
          30360,
          7170,
          720,
          6620,
          420,
          7340,
          2840,
          5540,
          350,
          2050,
          3700,
          22560,
          13840,
          7660,
          410,
          250,
          1130,
          4840,
          17500,
          2200,
          1650,
          330,
          22440,
          19960,
          1090,
          3510,
          3320,
          7910,
          2370,
          22390,
          2710,
          11810,
          1870,
          480,
          560,
          10690,
          2380,
          330,
          2410,
          240,
          16690,
          14620,
          1890,
          8780,
          8980,
          15140,
          2030,
          17930,
          2440,
          150,
          5210,
          390,
          6190,
          1390,
          1930,
          2190,
          3300,
          46590,
          7890,
          1630,
          20930,
          4510,
          5740,
          680,
          3450,
          3580,
          2100,
          2290,
          3570,
          58260,
          16760,
          1410,
          760,
          3370,
          1350,
          2000,
          2460,
          900,
          920,
          1040,
          270,
          1200,
          5190,
          2200,
          1730,
          25360,
          1700,
          1090,
          1540,
          1090,
          2930,
          16570,
          280,
          8050,
          8540,
          2090,
          2610,
          31830,
          4360,
          1780,
          16240,
          16420,
          3050,
          2020,
          2950,
          11840,
          8530,
          17110,
          2970,
          5340,
          1480,
          1160,
          3720,
          100,
          140,
          12540,
          980,
          1070,
          2640,
          110,
          350,
          13090,
          4130,
          3770,
          1250,
          1710,
          480,
          5800,
          12610,
          1390,
          9670,
          3560,
          1860,
          290,
          19360,
          850,
          5760,
          1470,
          1100,
          2770,
          520,
          16970,
          220,
          3850,
          4210,
          290,
          6360,
          1650,
          20260,
          5140,
          490,
          5630,
          110,
          380,
          6870,
          300,
          11680,
          970,
          350,
          15050,
          4030,
          8650,
          150,
          190,
          3150,
          640,
          1640,
          1000,
          13530,
          2170,
          2920,
          7930,
          10180,
          450,
          2370,
          10800,
          17410,
          6680,
          3840,
          13570,
          1890,
          4370,
          5710,
          1000,
          1420,
          320,
          610,
          1110,
          780,
          6880,
          310,
          710,
          1310,
          4660,
          70,
          340,
          18010,
          3520,
          340,
          22330,
          250,
          330,
          4630,
          80,
          420,
          27190,
          210,
          540,
          15340,
          1180,
          1140,
          180,
          4580,
          360,
          2460,
          4520,
          60,
          1450,
          420,
          16180,
          8480,
          3640,
          300,
          2960,
          7840,
          9260,
          2320,
          18640,
          6970,
          1220,
          2260,
          1290,
          2410,
          1460,
          2740,
          800,
          6540,
          4150,
          75860,
          1100,
          140,
          3150,
          210,
          9580,
          2300,
          19840,
          38630,
          120,
          4510,
          2190,
          15430,
          1950,
          2470,
          5100,
          18660,
          1070,
          8740,
          2290,
          680,
          11300,
          14160,
          3560,
          38710,
          9000,
          3140,
          32330,
          570,
          210,
          8140,
          17500,
          8400,
          13140,
          350,
          10070,
          1390,
          3130,
          1310,
          370,
          670,
          1840,
          3720,
          4040,
          90,
          190,
          10600,
          1590,
          2280,
          8080,
          190,
          15770,
          18650,
          300,
          120,
          8090,
          9360,
          16490,
          1490,
          8880,
          5290,
          6360,
          900,
          1500,
          9720,
          8970,
          2060,
          2890,
          4370,
          2040,
          4490,
          340,
          250,
          13620,
          2410,
          6470,
          2640,
          1450,
          5870,
          8250,
          1970,
          4880,
          11120,
          1150,
          15710,
          160,
          100,
          2140,
          6630,
          2240,
          1800,
          26130,
          350,
          130,
          4580,
          1460,
          210,
          2260,
          6690,
          1600,
          460,
          2120,
          4820,
          10850,
          3620,
          23130,
          130,
          1540,
          5360,
          70,
          9200,
          5830,
          4970,
          1420,
          1080,
          8240,
          5890,
          1560,
          840,
          40,
          8460,
          4460,
          760,
          6210,
          6910,
          4650,
          840,
          1060,
          1620,
          250,
          3530,
          2880,
          1270,
          1250,
          1460,
          250,
          70,
          2960,
          16350,
          12870,
          4520,
          810,
          30030,
          13020,
          910,
          2300,
          430,
          1110,
          1350,
          3900,
          2530,
          500,
          11400,
          1700,
          240,
          340,
          1510,
          3970,
          120,
          5780,
          2460,
          1850,
          75860,
          26450,
          7660,
          140,
          13140,
          3390,
          250,
          34050,
          1790,
          44320,
          4160,
          520,
          10890,
          3110,
          20390,
          5260,
          710,
          50,
          5300,
          5030,
          50,
          14810,
          140,
          8300,
          770,
          1940,
          320,
          300,
          7470,
          2550,
          2310,
          14300,
          3270,
          2320,
          2180,
          2890,
          14960,
          660,
          4680,
          1740,
          1150,
          1260,
          5470,
          2780,
          1610,
          990,
          450,
          10690,
          1620,
          220,
          13080,
          820,
          350,
          1850,
          9070,
          1280,
          4740,
          8260,
          2060,
          590,
          400,
          1200,
          11260,
          20,
          22490,
          3330,
          2510,
          6900,
          18610,
          7160,
          50,
          40860,
          1870,
          120,
          5830,
          20620,
          12920,
          18160,
          4030,
          1070,
          5950,
          1200,
          3570,
          4700,
          600,
          990,
          770,
          810,
          650,
          7280,
          1080,
          250,
          5020,
          580,
          8990,
          3760,
          2330,
          50,
          2190,
          4260,
          3040,
          1200,
          1560,
          1140,
          250,
          3000,
          3910,
          1910,
          14300,
          1210,
          700,
          6540,
          160,
          3620,
          1010,
          4270,
          1340,
          180,
          2110,
          9230,
          1190,
          4400,
          960,
          50,
          2270,
          12700,
          20970,
          170,
          7250,
          120,
          2640,
          1360,
          440,
          250,
          330,
          15720,
          360,
          4520,
          3340,
          2540,
          33060,
          1790,
          1130,
          290,
          150,
          550,
          580,
          17340,
          8220,
          2710,
          340,
          10950,
          10310,
          2260,
          350,
          18370,
          2070,
          660,
          8080,
          2490,
          250,
          1160,
          730,
          3040,
          8940,
          9910,
          1600,
          5440,
          30,
          75860,
          4080,
          6920,
          1170,
          10740,
          3970,
          2180,
          510,
          1690,
          2870,
          3350,
          11640,
          18610,
          27530,
          720,
          9790,
          10170,
          7780,
          8040,
          610,
          530,
          230,
          4030,
          90,
          620,
          7420,
          2130,
          14570,
          1420,
          200,
          20390,
          7520,
          6930,
          960,
          410,
          80,
          520,
          1590,
          1200,
          2140,
          1070,
          7860,
          1680,
          90,
          2700,
          2870,
          1270,
          17080,
          2060,
          2070,
          240,
          15170,
          2640,
          2100,
          1410,
          1740,
          3250,
          4140,
          170,
          620,
          150,
          2850,
          680,
          650,
          20050,
          2770,
          18760,
          15040,
          100,
          3030,
          40,
          450,
          460,
          550,
          430,
          3780,
          1790,
          180,
          830,
          1450,
          8550,
          80,
          1910,
          4140,
          7830,
          2900,
          11470,
          500,
          1500,
          17110,
          4870,
          220,
          12070,
          14810,
          3200,
          310,
          1100,
          8190,
          15320,
          3590,
          50,
          5650,
          5900,
          17540,
          40540,
          2050,
          13990,
          8980,
          1190,
          15270,
          35280,
          860,
          220,
          1920,
          1650,
          100,
          5980,
          2770,
          6400,
          11900,
          4380,
          6710,
          1370,
          17650,
          4330,
          45740,
          2380,
          3410,
          8670,
          650,
          970,
          540,
          380,
          13130,
          50,
          3450,
          19780,
          110,
          560,
          2390,
          1280,
          32240,
          26490,
          25430,
          9820,
          13080,
          2630,
          840,
          100,
          20640,
          1850,
          200,
          640,
          6970,
          700,
          8250,
          340,
          16990,
          18160,
          630,
          5390,
          15490,
          560,
          970,
          290,
          3210,
          1530,
          9770,
          9070,
          5950,
          17280,
          2710,
          5090,
          510,
          7180,
          2090,
          9560,
          2700,
          2020,
          48330,
          910,
          1760,
          2100,
          24770,
          260,
          3870,
          18620,
          12770,
          9640,
          410,
          2590,
          1560,
          24530,
          590,
          460,
          140,
          490,
          720,
          1650,
          1700,
          410,
          16210,
          17570,
          380,
          7980,
          250,
          3290,
          110,
          6320,
          800,
          5070,
          3290,
          3470,
          2890,
          2720,
          14600,
          6890,
          240,
          1070,
          27650,
          1200,
          60,
          2030,
          7860,
          8860,
          190,
          370,
          5000,
          1120,
          2330,
          940,
          14040,
          4770,
          3440,
          3020,
          6270,
          3370,
          21770,
          5980,
          740,
          2840,
          21370,
          1020,
          2640,
          9680,
          21810,
          1360,
          230,
          780,
          10620,
          3860,
          2040,
          3210,
          5070,
          21790,
          29190,
          1100,
          75860,
          4570,
          180,
          30,
          3200,
          7550,
          480,
          12430,
          19700,
          4450,
          18670,
          4450,
          350,
          19370,
          130,
          190,
          4150,
          170,
          3290,
          18540,
          2590,
          3920,
          3170,
          310,
          7290,
          570,
          90,
          90,
          250,
          1980,
          1680,
          12480,
          16490,
          3100,
          280,
          2640,
          650,
          90,
          7240,
          18710,
          2620,
          850,
          840,
          2110,
          280,
          6420,
          470,
          5150,
          480,
          1090,
          4820,
          70,
          1480,
          15700,
          6270,
          5460,
          22350,
          580,
          2810,
          2820,
          1340,
          6470,
          1200,
          6860,
          18020,
          1670,
          12480,
          2220,
          460,
          1430,
          870,
          8460,
          710,
          6300,
          19830,
          390,
          1690,
          2330,
          1420,
          440,
          1060,
          8990,
          9430,
          260,
          23620,
          270,
          110,
          760,
          3560,
          1190,
          600,
          910,
          1140,
          14960,
          330,
          150,
          9630,
          4180,
          520,
          3890,
          2270,
          4420,
          2620,
          21930,
          40,
          440,
          490,
          620,
          1690,
          30,
          1640,
          20930,
          1010,
          2480,
          3460,
          2290,
          6560,
          2870,
          5840,
          780,
          15140,
          2230,
          19640,
          1130,
          170,
          970,
          6480,
          3890,
          4180,
          30,
          230,
          4610,
          490,
          6330,
          630,
          210,
          9910,
          550,
          110,
          140,
          2740,
          40,
          1080,
          1520,
          3740,
          1990,
          720,
          450,
          190,
          150,
          1590,
          36410,
          590,
          270,
          7680,
          13750,
          27150,
          9560,
          150,
          17290,
          70,
          4030,
          1600,
          3440,
          420,
          240,
          26990,
          29070,
          3750,
          1860,
          370,
          13170,
          200,
          5080,
          1710,
          13190,
          1980,
          5350,
          3230,
          180,
          3380,
          3430,
          8110,
          190,
          6250,
          420,
          1290,
          3350,
          12020,
          5010,
          18050,
          400,
          820,
          5380,
          1710,
          3330,
          1410,
          90,
          3750,
          670,
          16680,
          2410,
          400,
          440,
          11540,
          190,
          4030,
          180,
          2210,
          4300,
          5220,
          330,
          9990,
          300,
          10450,
          2380,
          690,
          1130,
          720,
          1830,
          200,
          540,
          4060,
          850,
          1340,
          260,
          330,
          5330,
          1400,
          540,
          3490,
          900,
          1900,
          1880,
          9260,
          870,
          5350
         ],
         "xaxis": "x",
         "yaxis": "y"
        },
        {
         "alignmentgroup": "True",
         "hovertemplate": "CompetitionDistance=%{x}<extra></extra>",
         "legendgroup": "",
         "marker": {
          "color": "cornflowerblue"
         },
         "name": "",
         "notched": true,
         "offsetgroup": "",
         "showlegend": false,
         "type": "box",
         "x": [
          1270,
          570,
          14130,
          620,
          29910,
          310,
          24000,
          7520,
          2030,
          3160,
          960,
          1070,
          310,
          1300,
          4110,
          3270,
          50,
          13840,
          3240,
          2340,
          550,
          1040,
          4060,
          4590,
          430,
          2300,
          60,
          1200,
          2170,
          40,
          9800,
          2910,
          1320,
          2240,
          7660,
          540,
          4230,
          1090,
          260,
          180,
          1180,
          290,
          4880,
          540,
          9710,
          1200,
          270,
          1060,
          18010,
          6260,
          10570,
          450,
          30360,
          7170,
          720,
          6620,
          420,
          7340,
          2840,
          5540,
          350,
          2050,
          3700,
          22560,
          13840,
          7660,
          410,
          250,
          1130,
          4840,
          17500,
          2200,
          1650,
          330,
          22440,
          19960,
          1090,
          3510,
          3320,
          7910,
          2370,
          22390,
          2710,
          11810,
          1870,
          480,
          560,
          10690,
          2380,
          330,
          2410,
          240,
          16690,
          14620,
          1890,
          8780,
          8980,
          15140,
          2030,
          17930,
          2440,
          150,
          5210,
          390,
          6190,
          1390,
          1930,
          2190,
          3300,
          46590,
          7890,
          1630,
          20930,
          4510,
          5740,
          680,
          3450,
          3580,
          2100,
          2290,
          3570,
          58260,
          16760,
          1410,
          760,
          3370,
          1350,
          2000,
          2460,
          900,
          920,
          1040,
          270,
          1200,
          5190,
          2200,
          1730,
          25360,
          1700,
          1090,
          1540,
          1090,
          2930,
          16570,
          280,
          8050,
          8540,
          2090,
          2610,
          31830,
          4360,
          1780,
          16240,
          16420,
          3050,
          2020,
          2950,
          11840,
          8530,
          17110,
          2970,
          5340,
          1480,
          1160,
          3720,
          100,
          140,
          12540,
          980,
          1070,
          2640,
          110,
          350,
          13090,
          4130,
          3770,
          1250,
          1710,
          480,
          5800,
          12610,
          1390,
          9670,
          3560,
          1860,
          290,
          19360,
          850,
          5760,
          1470,
          1100,
          2770,
          520,
          16970,
          220,
          3850,
          4210,
          290,
          6360,
          1650,
          20260,
          5140,
          490,
          5630,
          110,
          380,
          6870,
          300,
          11680,
          970,
          350,
          15050,
          4030,
          8650,
          150,
          190,
          3150,
          640,
          1640,
          1000,
          13530,
          2170,
          2920,
          7930,
          10180,
          450,
          2370,
          10800,
          17410,
          6680,
          3840,
          13570,
          1890,
          4370,
          5710,
          1000,
          1420,
          320,
          610,
          1110,
          780,
          6880,
          310,
          710,
          1310,
          4660,
          70,
          340,
          18010,
          3520,
          340,
          22330,
          250,
          330,
          4630,
          80,
          420,
          27190,
          210,
          540,
          15340,
          1180,
          1140,
          180,
          4580,
          360,
          2460,
          4520,
          60,
          1450,
          420,
          16180,
          8480,
          3640,
          300,
          2960,
          7840,
          9260,
          2320,
          18640,
          6970,
          1220,
          2260,
          1290,
          2410,
          1460,
          2740,
          800,
          6540,
          4150,
          75860,
          1100,
          140,
          3150,
          210,
          9580,
          2300,
          19840,
          38630,
          120,
          4510,
          2190,
          15430,
          1950,
          2470,
          5100,
          18660,
          1070,
          8740,
          2290,
          680,
          11300,
          14160,
          3560,
          38710,
          9000,
          3140,
          32330,
          570,
          210,
          8140,
          17500,
          8400,
          13140,
          350,
          10070,
          1390,
          3130,
          1310,
          370,
          670,
          1840,
          3720,
          4040,
          90,
          190,
          10600,
          1590,
          2280,
          8080,
          190,
          15770,
          18650,
          300,
          120,
          8090,
          9360,
          16490,
          1490,
          8880,
          5290,
          6360,
          900,
          1500,
          9720,
          8970,
          2060,
          2890,
          4370,
          2040,
          4490,
          340,
          250,
          13620,
          2410,
          6470,
          2640,
          1450,
          5870,
          8250,
          1970,
          4880,
          11120,
          1150,
          15710,
          160,
          100,
          2140,
          6630,
          2240,
          1800,
          26130,
          350,
          130,
          4580,
          1460,
          210,
          2260,
          6690,
          1600,
          460,
          2120,
          4820,
          10850,
          3620,
          23130,
          130,
          1540,
          5360,
          70,
          9200,
          5830,
          4970,
          1420,
          1080,
          8240,
          5890,
          1560,
          840,
          40,
          8460,
          4460,
          760,
          6210,
          6910,
          4650,
          840,
          1060,
          1620,
          250,
          3530,
          2880,
          1270,
          1250,
          1460,
          250,
          70,
          2960,
          16350,
          12870,
          4520,
          810,
          30030,
          13020,
          910,
          2300,
          430,
          1110,
          1350,
          3900,
          2530,
          500,
          11400,
          1700,
          240,
          340,
          1510,
          3970,
          120,
          5780,
          2460,
          1850,
          75860,
          26450,
          7660,
          140,
          13140,
          3390,
          250,
          34050,
          1790,
          44320,
          4160,
          520,
          10890,
          3110,
          20390,
          5260,
          710,
          50,
          5300,
          5030,
          50,
          14810,
          140,
          8300,
          770,
          1940,
          320,
          300,
          7470,
          2550,
          2310,
          14300,
          3270,
          2320,
          2180,
          2890,
          14960,
          660,
          4680,
          1740,
          1150,
          1260,
          5470,
          2780,
          1610,
          990,
          450,
          10690,
          1620,
          220,
          13080,
          820,
          350,
          1850,
          9070,
          1280,
          4740,
          8260,
          2060,
          590,
          400,
          1200,
          11260,
          20,
          22490,
          3330,
          2510,
          6900,
          18610,
          7160,
          50,
          40860,
          1870,
          120,
          5830,
          20620,
          12920,
          18160,
          4030,
          1070,
          5950,
          1200,
          3570,
          4700,
          600,
          990,
          770,
          810,
          650,
          7280,
          1080,
          250,
          5020,
          580,
          8990,
          3760,
          2330,
          50,
          2190,
          4260,
          3040,
          1200,
          1560,
          1140,
          250,
          3000,
          3910,
          1910,
          14300,
          1210,
          700,
          6540,
          160,
          3620,
          1010,
          4270,
          1340,
          180,
          2110,
          9230,
          1190,
          4400,
          960,
          50,
          2270,
          12700,
          20970,
          170,
          7250,
          120,
          2640,
          1360,
          440,
          250,
          330,
          15720,
          360,
          4520,
          3340,
          2540,
          33060,
          1790,
          1130,
          290,
          150,
          550,
          580,
          17340,
          8220,
          2710,
          340,
          10950,
          10310,
          2260,
          350,
          18370,
          2070,
          660,
          8080,
          2490,
          250,
          1160,
          730,
          3040,
          8940,
          9910,
          1600,
          5440,
          30,
          75860,
          4080,
          6920,
          1170,
          10740,
          3970,
          2180,
          510,
          1690,
          2870,
          3350,
          11640,
          18610,
          27530,
          720,
          9790,
          10170,
          7780,
          8040,
          610,
          530,
          230,
          4030,
          90,
          620,
          7420,
          2130,
          14570,
          1420,
          200,
          20390,
          7520,
          6930,
          960,
          410,
          80,
          520,
          1590,
          1200,
          2140,
          1070,
          7860,
          1680,
          90,
          2700,
          2870,
          1270,
          17080,
          2060,
          2070,
          240,
          15170,
          2640,
          2100,
          1410,
          1740,
          3250,
          4140,
          170,
          620,
          150,
          2850,
          680,
          650,
          20050,
          2770,
          18760,
          15040,
          100,
          3030,
          40,
          450,
          460,
          550,
          430,
          3780,
          1790,
          180,
          830,
          1450,
          8550,
          80,
          1910,
          4140,
          7830,
          2900,
          11470,
          500,
          1500,
          17110,
          4870,
          220,
          12070,
          14810,
          3200,
          310,
          1100,
          8190,
          15320,
          3590,
          50,
          5650,
          5900,
          17540,
          40540,
          2050,
          13990,
          8980,
          1190,
          15270,
          35280,
          860,
          220,
          1920,
          1650,
          100,
          5980,
          2770,
          6400,
          11900,
          4380,
          6710,
          1370,
          17650,
          4330,
          45740,
          2380,
          3410,
          8670,
          650,
          970,
          540,
          380,
          13130,
          50,
          3450,
          19780,
          110,
          560,
          2390,
          1280,
          32240,
          26490,
          25430,
          9820,
          13080,
          2630,
          840,
          100,
          20640,
          1850,
          200,
          640,
          6970,
          700,
          8250,
          340,
          16990,
          18160,
          630,
          5390,
          15490,
          560,
          970,
          290,
          3210,
          1530,
          9770,
          9070,
          5950,
          17280,
          2710,
          5090,
          510,
          7180,
          2090,
          9560,
          2700,
          2020,
          48330,
          910,
          1760,
          2100,
          24770,
          260,
          3870,
          18620,
          12770,
          9640,
          410,
          2590,
          1560,
          24530,
          590,
          460,
          140,
          490,
          720,
          1650,
          1700,
          410,
          16210,
          17570,
          380,
          7980,
          250,
          3290,
          110,
          6320,
          800,
          5070,
          3290,
          3470,
          2890,
          2720,
          14600,
          6890,
          240,
          1070,
          27650,
          1200,
          60,
          2030,
          7860,
          8860,
          190,
          370,
          5000,
          1120,
          2330,
          940,
          14040,
          4770,
          3440,
          3020,
          6270,
          3370,
          21770,
          5980,
          740,
          2840,
          21370,
          1020,
          2640,
          9680,
          21810,
          1360,
          230,
          780,
          10620,
          3860,
          2040,
          3210,
          5070,
          21790,
          29190,
          1100,
          75860,
          4570,
          180,
          30,
          3200,
          7550,
          480,
          12430,
          19700,
          4450,
          18670,
          4450,
          350,
          19370,
          130,
          190,
          4150,
          170,
          3290,
          18540,
          2590,
          3920,
          3170,
          310,
          7290,
          570,
          90,
          90,
          250,
          1980,
          1680,
          12480,
          16490,
          3100,
          280,
          2640,
          650,
          90,
          7240,
          18710,
          2620,
          850,
          840,
          2110,
          280,
          6420,
          470,
          5150,
          480,
          1090,
          4820,
          70,
          1480,
          15700,
          6270,
          5460,
          22350,
          580,
          2810,
          2820,
          1340,
          6470,
          1200,
          6860,
          18020,
          1670,
          12480,
          2220,
          460,
          1430,
          870,
          8460,
          710,
          6300,
          19830,
          390,
          1690,
          2330,
          1420,
          440,
          1060,
          8990,
          9430,
          260,
          23620,
          270,
          110,
          760,
          3560,
          1190,
          600,
          910,
          1140,
          14960,
          330,
          150,
          9630,
          4180,
          520,
          3890,
          2270,
          4420,
          2620,
          21930,
          40,
          440,
          490,
          620,
          1690,
          30,
          1640,
          20930,
          1010,
          2480,
          3460,
          2290,
          6560,
          2870,
          5840,
          780,
          15140,
          2230,
          19640,
          1130,
          170,
          970,
          6480,
          3890,
          4180,
          30,
          230,
          4610,
          490,
          6330,
          630,
          210,
          9910,
          550,
          110,
          140,
          2740,
          40,
          1080,
          1520,
          3740,
          1990,
          720,
          450,
          190,
          150,
          1590,
          36410,
          590,
          270,
          7680,
          13750,
          27150,
          9560,
          150,
          17290,
          70,
          4030,
          1600,
          3440,
          420,
          240,
          26990,
          29070,
          3750,
          1860,
          370,
          13170,
          200,
          5080,
          1710,
          13190,
          1980,
          5350,
          3230,
          180,
          3380,
          3430,
          8110,
          190,
          6250,
          420,
          1290,
          3350,
          12020,
          5010,
          18050,
          400,
          820,
          5380,
          1710,
          3330,
          1410,
          90,
          3750,
          670,
          16680,
          2410,
          400,
          440,
          11540,
          190,
          4030,
          180,
          2210,
          4300,
          5220,
          330,
          9990,
          300,
          10450,
          2380,
          690,
          1130,
          720,
          1830,
          200,
          540,
          4060,
          850,
          1340,
          260,
          330,
          5330,
          1400,
          540,
          3490,
          900,
          1900,
          1880,
          9260,
          870,
          5350
         ],
         "xaxis": "x2",
         "yaxis": "y2"
        }
       ],
       "layout": {
        "bargap": 0.01,
        "barmode": "relative",
        "legend": {
         "tracegroupgap": 0
        },
        "template": {
         "data": {
          "bar": [
           {
            "error_x": {
             "color": "#2a3f5f"
            },
            "error_y": {
             "color": "#2a3f5f"
            },
            "marker": {
             "line": {
              "color": "#E5ECF6",
              "width": 0.5
             },
             "pattern": {
              "fillmode": "overlay",
              "size": 10,
              "solidity": 0.2
             }
            },
            "type": "bar"
           }
          ],
          "barpolar": [
           {
            "marker": {
             "line": {
              "color": "#E5ECF6",
              "width": 0.5
             },
             "pattern": {
              "fillmode": "overlay",
              "size": 10,
              "solidity": 0.2
             }
            },
            "type": "barpolar"
           }
          ],
          "carpet": [
           {
            "aaxis": {
             "endlinecolor": "#2a3f5f",
             "gridcolor": "white",
             "linecolor": "white",
             "minorgridcolor": "white",
             "startlinecolor": "#2a3f5f"
            },
            "baxis": {
             "endlinecolor": "#2a3f5f",
             "gridcolor": "white",
             "linecolor": "white",
             "minorgridcolor": "white",
             "startlinecolor": "#2a3f5f"
            },
            "type": "carpet"
           }
          ],
          "choropleth": [
           {
            "colorbar": {
             "outlinewidth": 0,
             "ticks": ""
            },
            "type": "choropleth"
           }
          ],
          "contour": [
           {
            "colorbar": {
             "outlinewidth": 0,
             "ticks": ""
            },
            "colorscale": [
             [
              0,
              "#0d0887"
             ],
             [
              0.1111111111111111,
              "#46039f"
             ],
             [
              0.2222222222222222,
              "#7201a8"
             ],
             [
              0.3333333333333333,
              "#9c179e"
             ],
             [
              0.4444444444444444,
              "#bd3786"
             ],
             [
              0.5555555555555556,
              "#d8576b"
             ],
             [
              0.6666666666666666,
              "#ed7953"
             ],
             [
              0.7777777777777778,
              "#fb9f3a"
             ],
             [
              0.8888888888888888,
              "#fdca26"
             ],
             [
              1,
              "#f0f921"
             ]
            ],
            "type": "contour"
           }
          ],
          "contourcarpet": [
           {
            "colorbar": {
             "outlinewidth": 0,
             "ticks": ""
            },
            "type": "contourcarpet"
           }
          ],
          "heatmap": [
           {
            "colorbar": {
             "outlinewidth": 0,
             "ticks": ""
            },
            "colorscale": [
             [
              0,
              "#0d0887"
             ],
             [
              0.1111111111111111,
              "#46039f"
             ],
             [
              0.2222222222222222,
              "#7201a8"
             ],
             [
              0.3333333333333333,
              "#9c179e"
             ],
             [
              0.4444444444444444,
              "#bd3786"
             ],
             [
              0.5555555555555556,
              "#d8576b"
             ],
             [
              0.6666666666666666,
              "#ed7953"
             ],
             [
              0.7777777777777778,
              "#fb9f3a"
             ],
             [
              0.8888888888888888,
              "#fdca26"
             ],
             [
              1,
              "#f0f921"
             ]
            ],
            "type": "heatmap"
           }
          ],
          "heatmapgl": [
           {
            "colorbar": {
             "outlinewidth": 0,
             "ticks": ""
            },
            "colorscale": [
             [
              0,
              "#0d0887"
             ],
             [
              0.1111111111111111,
              "#46039f"
             ],
             [
              0.2222222222222222,
              "#7201a8"
             ],
             [
              0.3333333333333333,
              "#9c179e"
             ],
             [
              0.4444444444444444,
              "#bd3786"
             ],
             [
              0.5555555555555556,
              "#d8576b"
             ],
             [
              0.6666666666666666,
              "#ed7953"
             ],
             [
              0.7777777777777778,
              "#fb9f3a"
             ],
             [
              0.8888888888888888,
              "#fdca26"
             ],
             [
              1,
              "#f0f921"
             ]
            ],
            "type": "heatmapgl"
           }
          ],
          "histogram": [
           {
            "marker": {
             "pattern": {
              "fillmode": "overlay",
              "size": 10,
              "solidity": 0.2
             }
            },
            "type": "histogram"
           }
          ],
          "histogram2d": [
           {
            "colorbar": {
             "outlinewidth": 0,
             "ticks": ""
            },
            "colorscale": [
             [
              0,
              "#0d0887"
             ],
             [
              0.1111111111111111,
              "#46039f"
             ],
             [
              0.2222222222222222,
              "#7201a8"
             ],
             [
              0.3333333333333333,
              "#9c179e"
             ],
             [
              0.4444444444444444,
              "#bd3786"
             ],
             [
              0.5555555555555556,
              "#d8576b"
             ],
             [
              0.6666666666666666,
              "#ed7953"
             ],
             [
              0.7777777777777778,
              "#fb9f3a"
             ],
             [
              0.8888888888888888,
              "#fdca26"
             ],
             [
              1,
              "#f0f921"
             ]
            ],
            "type": "histogram2d"
           }
          ],
          "histogram2dcontour": [
           {
            "colorbar": {
             "outlinewidth": 0,
             "ticks": ""
            },
            "colorscale": [
             [
              0,
              "#0d0887"
             ],
             [
              0.1111111111111111,
              "#46039f"
             ],
             [
              0.2222222222222222,
              "#7201a8"
             ],
             [
              0.3333333333333333,
              "#9c179e"
             ],
             [
              0.4444444444444444,
              "#bd3786"
             ],
             [
              0.5555555555555556,
              "#d8576b"
             ],
             [
              0.6666666666666666,
              "#ed7953"
             ],
             [
              0.7777777777777778,
              "#fb9f3a"
             ],
             [
              0.8888888888888888,
              "#fdca26"
             ],
             [
              1,
              "#f0f921"
             ]
            ],
            "type": "histogram2dcontour"
           }
          ],
          "mesh3d": [
           {
            "colorbar": {
             "outlinewidth": 0,
             "ticks": ""
            },
            "type": "mesh3d"
           }
          ],
          "parcoords": [
           {
            "line": {
             "colorbar": {
              "outlinewidth": 0,
              "ticks": ""
             }
            },
            "type": "parcoords"
           }
          ],
          "pie": [
           {
            "automargin": true,
            "type": "pie"
           }
          ],
          "scatter": [
           {
            "marker": {
             "colorbar": {
              "outlinewidth": 0,
              "ticks": ""
             }
            },
            "type": "scatter"
           }
          ],
          "scatter3d": [
           {
            "line": {
             "colorbar": {
              "outlinewidth": 0,
              "ticks": ""
             }
            },
            "marker": {
             "colorbar": {
              "outlinewidth": 0,
              "ticks": ""
             }
            },
            "type": "scatter3d"
           }
          ],
          "scattercarpet": [
           {
            "marker": {
             "colorbar": {
              "outlinewidth": 0,
              "ticks": ""
             }
            },
            "type": "scattercarpet"
           }
          ],
          "scattergeo": [
           {
            "marker": {
             "colorbar": {
              "outlinewidth": 0,
              "ticks": ""
             }
            },
            "type": "scattergeo"
           }
          ],
          "scattergl": [
           {
            "marker": {
             "colorbar": {
              "outlinewidth": 0,
              "ticks": ""
             }
            },
            "type": "scattergl"
           }
          ],
          "scattermapbox": [
           {
            "marker": {
             "colorbar": {
              "outlinewidth": 0,
              "ticks": ""
             }
            },
            "type": "scattermapbox"
           }
          ],
          "scatterpolar": [
           {
            "marker": {
             "colorbar": {
              "outlinewidth": 0,
              "ticks": ""
             }
            },
            "type": "scatterpolar"
           }
          ],
          "scatterpolargl": [
           {
            "marker": {
             "colorbar": {
              "outlinewidth": 0,
              "ticks": ""
             }
            },
            "type": "scatterpolargl"
           }
          ],
          "scatterternary": [
           {
            "marker": {
             "colorbar": {
              "outlinewidth": 0,
              "ticks": ""
             }
            },
            "type": "scatterternary"
           }
          ],
          "surface": [
           {
            "colorbar": {
             "outlinewidth": 0,
             "ticks": ""
            },
            "colorscale": [
             [
              0,
              "#0d0887"
             ],
             [
              0.1111111111111111,
              "#46039f"
             ],
             [
              0.2222222222222222,
              "#7201a8"
             ],
             [
              0.3333333333333333,
              "#9c179e"
             ],
             [
              0.4444444444444444,
              "#bd3786"
             ],
             [
              0.5555555555555556,
              "#d8576b"
             ],
             [
              0.6666666666666666,
              "#ed7953"
             ],
             [
              0.7777777777777778,
              "#fb9f3a"
             ],
             [
              0.8888888888888888,
              "#fdca26"
             ],
             [
              1,
              "#f0f921"
             ]
            ],
            "type": "surface"
           }
          ],
          "table": [
           {
            "cells": {
             "fill": {
              "color": "#EBF0F8"
             },
             "line": {
              "color": "white"
             }
            },
            "header": {
             "fill": {
              "color": "#C8D4E3"
             },
             "line": {
              "color": "white"
             }
            },
            "type": "table"
           }
          ]
         },
         "layout": {
          "annotationdefaults": {
           "arrowcolor": "#2a3f5f",
           "arrowhead": 0,
           "arrowwidth": 1
          },
          "autotypenumbers": "strict",
          "coloraxis": {
           "colorbar": {
            "outlinewidth": 0,
            "ticks": ""
           }
          },
          "colorscale": {
           "diverging": [
            [
             0,
             "#8e0152"
            ],
            [
             0.1,
             "#c51b7d"
            ],
            [
             0.2,
             "#de77ae"
            ],
            [
             0.3,
             "#f1b6da"
            ],
            [
             0.4,
             "#fde0ef"
            ],
            [
             0.5,
             "#f7f7f7"
            ],
            [
             0.6,
             "#e6f5d0"
            ],
            [
             0.7,
             "#b8e186"
            ],
            [
             0.8,
             "#7fbc41"
            ],
            [
             0.9,
             "#4d9221"
            ],
            [
             1,
             "#276419"
            ]
           ],
           "sequential": [
            [
             0,
             "#0d0887"
            ],
            [
             0.1111111111111111,
             "#46039f"
            ],
            [
             0.2222222222222222,
             "#7201a8"
            ],
            [
             0.3333333333333333,
             "#9c179e"
            ],
            [
             0.4444444444444444,
             "#bd3786"
            ],
            [
             0.5555555555555556,
             "#d8576b"
            ],
            [
             0.6666666666666666,
             "#ed7953"
            ],
            [
             0.7777777777777778,
             "#fb9f3a"
            ],
            [
             0.8888888888888888,
             "#fdca26"
            ],
            [
             1,
             "#f0f921"
            ]
           ],
           "sequentialminus": [
            [
             0,
             "#0d0887"
            ],
            [
             0.1111111111111111,
             "#46039f"
            ],
            [
             0.2222222222222222,
             "#7201a8"
            ],
            [
             0.3333333333333333,
             "#9c179e"
            ],
            [
             0.4444444444444444,
             "#bd3786"
            ],
            [
             0.5555555555555556,
             "#d8576b"
            ],
            [
             0.6666666666666666,
             "#ed7953"
            ],
            [
             0.7777777777777778,
             "#fb9f3a"
            ],
            [
             0.8888888888888888,
             "#fdca26"
            ],
            [
             1,
             "#f0f921"
            ]
           ]
          },
          "colorway": [
           "#636efa",
           "#EF553B",
           "#00cc96",
           "#ab63fa",
           "#FFA15A",
           "#19d3f3",
           "#FF6692",
           "#B6E880",
           "#FF97FF",
           "#FECB52"
          ],
          "font": {
           "color": "#2a3f5f"
          },
          "geo": {
           "bgcolor": "white",
           "lakecolor": "white",
           "landcolor": "#E5ECF6",
           "showlakes": true,
           "showland": true,
           "subunitcolor": "white"
          },
          "hoverlabel": {
           "align": "left"
          },
          "hovermode": "closest",
          "mapbox": {
           "style": "light"
          },
          "paper_bgcolor": "white",
          "plot_bgcolor": "#E5ECF6",
          "polar": {
           "angularaxis": {
            "gridcolor": "white",
            "linecolor": "white",
            "ticks": ""
           },
           "bgcolor": "#E5ECF6",
           "radialaxis": {
            "gridcolor": "white",
            "linecolor": "white",
            "ticks": ""
           }
          },
          "scene": {
           "xaxis": {
            "backgroundcolor": "#E5ECF6",
            "gridcolor": "white",
            "gridwidth": 2,
            "linecolor": "white",
            "showbackground": true,
            "ticks": "",
            "zerolinecolor": "white"
           },
           "yaxis": {
            "backgroundcolor": "#E5ECF6",
            "gridcolor": "white",
            "gridwidth": 2,
            "linecolor": "white",
            "showbackground": true,
            "ticks": "",
            "zerolinecolor": "white"
           },
           "zaxis": {
            "backgroundcolor": "#E5ECF6",
            "gridcolor": "white",
            "gridwidth": 2,
            "linecolor": "white",
            "showbackground": true,
            "ticks": "",
            "zerolinecolor": "white"
           }
          },
          "shapedefaults": {
           "line": {
            "color": "#2a3f5f"
           }
          },
          "ternary": {
           "aaxis": {
            "gridcolor": "white",
            "linecolor": "white",
            "ticks": ""
           },
           "baxis": {
            "gridcolor": "white",
            "linecolor": "white",
            "ticks": ""
           },
           "bgcolor": "#E5ECF6",
           "caxis": {
            "gridcolor": "white",
            "linecolor": "white",
            "ticks": ""
           }
          },
          "title": {
           "x": 0.05
          },
          "xaxis": {
           "automargin": true,
           "gridcolor": "white",
           "linecolor": "white",
           "ticks": "",
           "title": {
            "standoff": 15
           },
           "zerolinecolor": "white",
           "zerolinewidth": 2
          },
          "yaxis": {
           "automargin": true,
           "gridcolor": "white",
           "linecolor": "white",
           "ticks": "",
           "title": {
            "standoff": 15
           },
           "zerolinecolor": "white",
           "zerolinewidth": 2
          }
         }
        },
        "title": {
         "text": "Distribution of CompetitionDistance"
        },
        "xaxis": {
         "anchor": "y",
         "domain": [
          0,
          1
         ],
         "title": {
          "text": "CompetitionDistance"
         }
        },
        "xaxis2": {
         "anchor": "y2",
         "domain": [
          0,
          1
         ],
         "matches": "x",
         "showgrid": true,
         "showticklabels": false
        },
        "yaxis": {
         "anchor": "x",
         "domain": [
          0,
          0.8316
         ],
         "title": {
          "text": "count"
         }
        },
        "yaxis2": {
         "anchor": "x2",
         "domain": [
          0.8416,
          1
         ],
         "matches": "y2",
         "showgrid": false,
         "showline": false,
         "showticklabels": false,
         "ticks": ""
        }
       }
      }
     },
     "metadata": {},
     "output_type": "display_data"
    }
   ],
   "source": [
    "plotly_plot_hist(store_df, 'CompetitionDistance')"
   ]
  },
  {
   "cell_type": "markdown",
   "metadata": {},
   "source": [
    "### Promo2"
   ]
  },
  {
   "cell_type": "code",
   "execution_count": 174,
   "metadata": {},
   "outputs": [
    {
     "data": {
      "text/plain": "1    571\n0    544\nName: Promo2, dtype: int64"
     },
     "execution_count": 174,
     "metadata": {},
     "output_type": "execute_result"
    }
   ],
   "source": [
    "# unique value counts\n",
    "counts_df = store_df['Promo2'].value_counts()\n",
    "counts_df"
   ]
  },
  {
   "cell_type": "markdown",
   "metadata": {},
   "source": [
    "### CompetitionBeforeStoreOpened"
   ]
  },
  {
   "cell_type": "code",
   "execution_count": 161,
   "metadata": {},
   "outputs": [
    {
     "data": {
      "text/plain": "0    761\n1    354\nName: CompetitionBeforeStoreOpened, dtype: int64"
     },
     "execution_count": 161,
     "metadata": {},
     "output_type": "execute_result"
    }
   ],
   "source": [
    "# unique value counts\n",
    "counts_df = store_df['CompetitionBeforeStoreOpened'].value_counts()\n",
    "counts_df"
   ]
  },
  {
   "cell_type": "markdown",
   "metadata": {},
   "source": [
    "### DayOfWeek"
   ]
  },
  {
   "cell_type": "code",
   "execution_count": 166,
   "metadata": {},
   "outputs": [
    {
     "data": {
      "image/png": "[encoded data removed]",
      "text/plain": "<Figure size 864x504 with 1 Axes>"
     },
     "metadata": {
      "needs_background": "light"
     },
     "output_type": "display_data"
    }
   ],
   "source": [
    "plot_count(train_df, 'DayOfWeek')"
   ]
  },
  {
   "cell_type": "markdown",
   "metadata": {},
   "source": [
    "### Sales"
   ]
  },
  {
   "cell_type": "code",
   "execution_count": 171,
   "metadata": {},
   "outputs": [
    {
     "data": {
      "image/png": "[encoded data removed]",
      "text/plain": "<Figure size 864x432 with 1 Axes>"
     },
     "metadata": {
      "needs_background": "light"
     },
     "output_type": "display_data"
    }
   ],
   "source": [
    "plot_hist(train_df, 'Sales')"
   ]
  },
  {
   "cell_type": "markdown",
   "metadata": {},
   "source": [
    "### Customers"
   ]
  },
  {
   "cell_type": "code",
   "execution_count": 170,
   "metadata": {},
   "outputs": [
    {
     "data": {
      "image/png": "[encoded data removed]",
      "text/plain": "<Figure size 864x432 with 1 Axes>"
     },
     "metadata": {
      "needs_background": "light"
     },
     "output_type": "display_data"
    }
   ],
   "source": [
    "plot_hist(train_df, 'Customers')"
   ]
  },
  {
   "cell_type": "markdown",
   "metadata": {},
   "source": [
    "### Open"
   ]
  },
  {
   "cell_type": "code",
   "execution_count": 172,
   "metadata": {},
   "outputs": [
    {
     "data": {
      "image/png": "[encoded data removed]",
      "text/plain": "<Figure size 864x504 with 1 Axes>"
     },
     "metadata": {
      "needs_background": "light"
     },
     "output_type": "display_data"
    }
   ],
   "source": [
    "plot_count(train_df, 'Open')"
   ]
  },
  {
   "cell_type": "markdown",
   "metadata": {},
   "source": [
    "### Promo"
   ]
  },
  {
   "cell_type": "code",
   "execution_count": 173,
   "metadata": {},
   "outputs": [
    {
     "data": {
      "image/png": "[encoded data removed]",
      "text/plain": "<Figure size 864x504 with 1 Axes>"
     },
     "metadata": {
      "needs_background": "light"
     },
     "output_type": "display_data"
    }
   ],
   "source": [
    "plot_count(train_df, 'Promo')"
   ]
  },
  {
   "cell_type": "markdown",
   "metadata": {},
   "source": [
    "### StateHoliday"
   ]
  },
  {
   "cell_type": "code",
   "execution_count": 176,
   "metadata": {},
   "outputs": [
    {
     "data": {
      "text/plain": "0    986159\na     20260\nb      6690\nc      4100\nName: StateHoliday, dtype: Int64"
     },
     "execution_count": 176,
     "metadata": {},
     "output_type": "execute_result"
    }
   ],
   "source": [
    "# unique value counts\n",
    "counts_df = train_df['StateHoliday'].value_counts()\n",
    "counts_df"
   ]
  },
  {
   "cell_type": "markdown",
   "metadata": {},
   "source": [
    "### SchoolHoliday"
   ]
  },
  {
   "cell_type": "code",
   "execution_count": 178,
   "metadata": {},
   "outputs": [
    {
     "data": {
      "text/plain": "0    835488\n1    181721\nName: SchoolHoliday, dtype: int64"
     },
     "execution_count": 178,
     "metadata": {},
     "output_type": "execute_result"
    }
   ],
   "source": [
    "# unique value counts\n",
    "counts_df = train_df['SchoolHoliday'].value_counts()\n",
    "counts_df"
   ]
  },
  {
   "cell_type": "markdown",
   "metadata": {},
   "source": [
    "## Bivariate Analysis"
   ]
  },
  {
   "cell_type": "markdown",
   "metadata": {},
   "source": [
    "### StateHoliday and Sales"
   ]
  },
  {
   "cell_type": "code",
   "execution_count": 180,
   "metadata": {},
   "outputs": [
    {
     "data": {
      "image/png": "[encoded data removed]",
      "text/plain": "<Figure size 864x288 with 2 Axes>"
     },
     "metadata": {
      "needs_background": "light"
     },
     "output_type": "display_data"
    }
   ],
   "source": [
    "fig, (axis1,axis2) = plt.subplots(1,2,figsize=(12,4))\n",
    "\n",
    "# holidays and no_holidays\n",
    "sns.barplot(x='StateHoliday', y='Sales', data=train_df, ax=axis1).set_title('Comparison of sales during StateHolidays and ordinary days')\n",
    "\n",
    "# holidays only\n",
    "mask = (train_df[\"StateHoliday\"] != \"0\") & (train_df[\"Sales\"] > 0)\n",
    "sns.barplot(x='StateHoliday', y='Sales', data=train_df[mask], ax=axis2).set_title('Sales during Stateholidays')\n",
    "plt.show()"
   ]
  },
  {
   "cell_type": "markdown",
   "metadata": {},
   "source": [
    "### StateHoliday and Customers"
   ]
  },
  {
   "cell_type": "code",
   "execution_count": 181,
   "metadata": {},
   "outputs": [
    {
     "data": {
      "image/png": "[encoded data removed]",
      "text/plain": "<Figure size 864x288 with 2 Axes>"
     },
     "metadata": {
      "needs_background": "light"
     },
     "output_type": "display_data"
    }
   ],
   "source": [
    "fig, (axis1,axis2) = plt.subplots(1,2,figsize=(12,4))\n",
    "\n",
    "# holidays and no_holidays\n",
    "sns.barplot(x='StateHoliday', y='Customers', data=train_df, ax=axis1).set_title('Comparison of customers during StateHolidays and ordinary days')\n",
    "\n",
    "# holidays only\n",
    "mask = (train_df[\"StateHoliday\"] != \"0\") & (train_df[\"Customers\"] > 0)\n",
    "sns.barplot(x='StateHoliday', y='Customers', data=train_df[mask], ax=axis2).set_title('Customers during Stateholidays')\n",
    "plt.show()"
   ]
  },
  {
   "cell_type": "markdown",
   "metadata": {},
   "source": [
    "### StateHoliday vs Sales and Customers"
   ]
  },
  {
   "cell_type": "code",
   "execution_count": 184,
   "metadata": {},
   "outputs": [
    {
     "data": {
      "image/png": "[encoded data removed]",
      "text/plain": "<Figure size 1080x288 with 2 Axes>"
     },
     "metadata": {
      "needs_background": "light"
     },
     "output_type": "display_data"
    }
   ],
   "source": [
    "fig, (axis1,axis2) = plt.subplots(1,2,figsize=(15,4))\n",
    "sns.barplot(x='StoreType', y='Sales', data=df, ax=axis1, palette = [\"#95a5a6\", \"#e74c3c\", \"#34495e\", \"#2ecc71\"], order=['a','b','c', 'd']).set_title('Sales across different StoreType')\n",
    "sns.barplot(x='StoreType', y='Customers', data=df, ax=axis2, palette = [\"#95a5a6\", \"#e74c3c\", \"#34495e\", \"#2ecc71\"], order=['a','b','c', 'd']).set_title('No. of customers across diffrent StoreType')\n",
    "plt.show()"
   ]
  },
  {
   "cell_type": "markdown",
   "metadata": {},
   "source": [
    "### Assortment vs Sales and Customers"
   ]
  },
  {
   "cell_type": "code",
   "execution_count": 185,
   "metadata": {},
   "outputs": [
    {
     "data": {
      "image/png": "[encoded data removed]",
      "text/plain": "<Figure size 1080x288 with 2 Axes>"
     },
     "metadata": {
      "needs_background": "light"
     },
     "output_type": "display_data"
    }
   ],
   "source": [
    "fig, (axis1,axis2) = plt.subplots(1,2,figsize=(15,4))\n",
    "\n",
    "sns.barplot(x='Assortment', y='Sales', data=df, palette = 'husl', order=['a','b','c'], ax=axis1).set_title('Sales across different assortment types')\n",
    "sns.barplot(x='Assortment', y='Customers', data=df, palette = 'husl', order=['a','b','c'], ax=axis2).set_title('Customers across different assortment types')\n",
    "plt.show()"
   ]
  },
  {
   "cell_type": "markdown",
   "metadata": {},
   "source": [
    "### DayOfWeek vs Sales and Customers"
   ]
  },
  {
   "cell_type": "code",
   "execution_count": 186,
   "metadata": {},
   "outputs": [
    {
     "data": {
      "image/png": "[encoded data removed]",
      "text/plain": "<Figure size 1080x288 with 2 Axes>"
     },
     "metadata": {
      "needs_background": "light"
     },
     "output_type": "display_data"
    }
   ],
   "source": [
    "fig, (axis1,axis2) = plt.subplots(1,2,figsize=(15,4))\n",
    "sns.barplot(x='DayOfWeek', y='Sales', data=train_df, palette = 'RdBu_r', ax=axis1).set_title('Sales across different days of the week ')\n",
    "sns.barplot(x='DayOfWeek', y='Customers', data=train_df, palette = 'RdBu_r', ax=axis2).set_title('Customers across different days of the week ')\n",
    "plt.show()"
   ]
  },
  {
   "cell_type": "markdown",
   "metadata": {},
   "source": [
    "### Promo vs Sales and Customers"
   ]
  },
  {
   "cell_type": "code",
   "execution_count": 188,
   "metadata": {},
   "outputs": [
    {
     "data": {
      "image/png": "[encoded data removed]",
      "text/plain": "<Figure size 1080x288 with 2 Axes>"
     },
     "metadata": {
      "needs_background": "light"
     },
     "output_type": "display_data"
    }
   ],
   "source": [
    "flatui = [\"#9b59b6\", \"#3498db\", \"#95a5a6\", \"#e74c3c\", \"#34495e\", \"#2ecc71\"]\n",
    "fig, (axis1,axis2) = plt.subplots(1,2,figsize=(15,4))\n",
    "\n",
    "sns.barplot(x='Promo', y='Sales', data=train_df, palette = flatui, ax=axis1).set_title('Sales across different Promo')\n",
    "sns.barplot(x='Promo', y='Customers', data=train_df, ax=axis2,  palette = flatui).set_title('Customers across different Promo')\n",
    "plt.show()"
   ]
  },
  {
   "cell_type": "markdown",
   "metadata": {},
   "source": [
    "### Promo2 vs Sales and Customers"
   ]
  },
  {
   "cell_type": "code",
   "execution_count": 190,
   "metadata": {},
   "outputs": [
    {
     "data": {
      "image/png": "[encoded data removed]",
      "text/plain": "<Figure size 1080x288 with 2 Axes>"
     },
     "metadata": {
      "needs_background": "light"
     },
     "output_type": "display_data"
    }
   ],
   "source": [
    "flatui = [ \"#34495e\", \"#2ecc71\"]\n",
    "fig, (axis1,axis2) = plt.subplots(1,2,figsize=(15,4))\n",
    "\n",
    "sns.barplot(x='Promo2', y='Sales', data=df, ax=axis1, palette = flatui).set_title('Sales across different Promo2')\n",
    "sns.barplot(x='Promo2', y='Customers', data=df, ax=axis2, palette = flatui).set_title('Customers across different Promo2')\n",
    "plt.show()"
   ]
  },
  {
   "cell_type": "markdown",
   "metadata": {},
   "source": [
    "### PromoInterval vs Sales and Customers"
   ]
  },
  {
   "cell_type": "code",
   "execution_count": 194,
   "metadata": {},
   "outputs": [
    {
     "data": {
      "image/png": "[encoded data removed]",
      "text/plain": "<Figure size 1080x288 with 2 Axes>"
     },
     "metadata": {
      "needs_background": "light"
     },
     "output_type": "display_data"
    }
   ],
   "source": [
    "flatui = [\"#9b59b6\", \"#3498db\", \"#95a5a6\", \"#e74c3c\", \"#34495e\", \"#2ecc71\"]\n",
    "fig, (axis1,axis2) = plt.subplots(1,2,figsize=(15,4))\n",
    "\n",
    "# values with promo2 only\n",
    "mask = (df[\"Promo2\"] != 0)\n",
    "\n",
    "sns.barplot(x='PromoInterval', y='Sales', data=df[mask], ax=axis1, palette = flatui).set_title('Sales across different promo intervals')\n",
    "sns.barplot(x='PromoInterval', y='Customers', data=df[mask], ax=axis2, palette = flatui).set_title('Customers across different promo intervals')\n",
    "plt.show()"
   ]
  },
  {
   "cell_type": "markdown",
   "metadata": {},
   "source": [
    "### Open and DayOfWeek"
   ]
  },
  {
   "cell_type": "code",
   "execution_count": 206,
   "metadata": {},
   "outputs": [
    {
     "data": {
      "image/png": "[encoded data removed]",
      "text/plain": "<Figure size 1080x288 with 1 Axes>"
     },
     "metadata": {
      "needs_background": "light"
     },
     "output_type": "display_data"
    }
   ],
   "source": [
    "fig, (axis1) = plt.subplots(1,1,figsize=(15,4))\n",
    "sns.countplot(x='Open',hue='DayOfWeek', data=train_df,palette=\"husl\", ax=axis1).set_title('\\nStores Opened/Closed across days of week\\n')\n",
    "plt.show()"
   ]
  },
  {
   "cell_type": "markdown",
   "metadata": {},
   "source": [
    "### CompetitionDistance and Sales"
   ]
  },
  {
   "cell_type": "code",
   "execution_count": 195,
   "metadata": {},
   "outputs": [
    {
     "data": {
      "image/png": "[encoded data removed]",
      "text/plain": "<Figure size 576x504 with 1 Axes>"
     },
     "metadata": {
      "needs_background": "light"
     },
     "output_type": "display_data"
    }
   ],
   "source": [
    "a = df.groupby('Store').agg({\n",
    "    'CompetitionDistance': 'mean',\n",
    "    'Sales': 'mean',\n",
    "    'Customers': 'mean'\n",
    "})\n",
    "plt.subplots(figsize = (8, 7))\n",
    "sns.scatterplot(x='CompetitionDistance', y='Sales', data=a)\n",
    "plt.show()"
   ]
  },
  {
   "cell_type": "markdown",
   "metadata": {},
   "source": [
    "## Correlation Analysis"
   ]
  },
  {
   "cell_type": "code",
   "execution_count": 199,
   "metadata": {},
   "outputs": [
    {
     "data": {
      "image/png": "[encoded data removed]",
      "text/plain": "<Figure size 720x576 with 2 Axes>"
     },
     "metadata": {},
     "output_type": "display_data"
    }
   ],
   "source": [
    "f_most_correlated = df.corr().nlargest(8,'Sales')['Sales'].index\n",
    "f_correlation = df[f_most_correlated].corr()\n",
    "\n",
    "f_mask = np.zeros_like(f_correlation)\n",
    "f_mask[np.triu_indices_from(f_mask)] = True\n",
    "with sns.axes_style(\"white\"):\n",
    "    f_fig, f_ax = plt.subplots(figsize=(10, 8))\n",
    "    f_ax = sns.heatmap(f_correlation, mask=f_mask, vmin=0, vmax=1, square=True,\n",
    "                        annot=True, annot_kws={\"size\": 10}, cmap=\"BuPu\")\n",
    "plt.title('Top 7 features with highest correlation with sales')\n",
    "plt.show()"
   ]
  },
  {
   "cell_type": "markdown",
   "metadata": {},
   "source": [
    "## Filtering Data and Answering Business Questions"
   ]
  },
  {
   "cell_type": "markdown",
   "metadata": {},
   "source": [
    "### Distribution of promotion in the training and test datasets"
   ]
  },
  {
   "cell_type": "code",
   "execution_count": 200,
   "metadata": {},
   "outputs": [
    {
     "data": {
      "text/html": "<div>\n<style scoped>\n    .dataframe tbody tr th:only-of-type {\n        vertical-align: middle;\n    }\n\n    .dataframe tbody tr th {\n        vertical-align: top;\n    }\n\n    .dataframe thead th {\n        text-align: right;\n    }\n</style>\n<table border=\"1\" class=\"dataframe\">\n  <thead>\n    <tr style=\"text-align: right;\">\n      <th></th>\n      <th>Id</th>\n      <th>Store</th>\n      <th>DayOfWeek</th>\n      <th>Date</th>\n      <th>Open</th>\n      <th>Promo</th>\n      <th>StateHoliday</th>\n      <th>SchoolHoliday</th>\n    </tr>\n  </thead>\n  <tbody>\n    <tr>\n      <th>0</th>\n      <td>1</td>\n      <td>1</td>\n      <td>4</td>\n      <td>2015-09-17</td>\n      <td>1.0</td>\n      <td>1</td>\n      <td>0</td>\n      <td>0</td>\n    </tr>\n    <tr>\n      <th>1</th>\n      <td>2</td>\n      <td>3</td>\n      <td>4</td>\n      <td>2015-09-17</td>\n      <td>1.0</td>\n      <td>1</td>\n      <td>0</td>\n      <td>0</td>\n    </tr>\n    <tr>\n      <th>2</th>\n      <td>3</td>\n      <td>7</td>\n      <td>4</td>\n      <td>2015-09-17</td>\n      <td>1.0</td>\n      <td>1</td>\n      <td>0</td>\n      <td>0</td>\n    </tr>\n    <tr>\n      <th>3</th>\n      <td>4</td>\n      <td>8</td>\n      <td>4</td>\n      <td>2015-09-17</td>\n      <td>1.0</td>\n      <td>1</td>\n      <td>0</td>\n      <td>0</td>\n    </tr>\n    <tr>\n      <th>4</th>\n      <td>5</td>\n      <td>9</td>\n      <td>4</td>\n      <td>2015-09-17</td>\n      <td>1.0</td>\n      <td>1</td>\n      <td>0</td>\n      <td>0</td>\n    </tr>\n    <tr>\n      <th>5</th>\n      <td>6</td>\n      <td>10</td>\n      <td>4</td>\n      <td>2015-09-17</td>\n      <td>1.0</td>\n      <td>1</td>\n      <td>0</td>\n      <td>0</td>\n    </tr>\n    <tr>\n      <th>6</th>\n      <td>7</td>\n      <td>11</td>\n      <td>4</td>\n      <td>2015-09-17</td>\n      <td>1.0</td>\n      <td>1</td>\n      <td>0</td>\n      <td>0</td>\n    </tr>\n    <tr>\n      <th>7</th>\n      <td>8</td>\n      <td>12</td>\n      <td>4</td>\n      <td>2015-09-17</td>\n      <td>1.0</td>\n      <td>1</td>\n      <td>0</td>\n      <td>0</td>\n    </tr>\n    <tr>\n      <th>8</th>\n      <td>9</td>\n      <td>13</td>\n      <td>4</td>\n      <td>2015-09-17</td>\n      <td>1.0</td>\n      <td>1</td>\n      <td>0</td>\n      <td>0</td>\n    </tr>\n    <tr>\n      <th>9</th>\n      <td>10</td>\n      <td>14</td>\n      <td>4</td>\n      <td>2015-09-17</td>\n      <td>1.0</td>\n      <td>1</td>\n      <td>0</td>\n      <td>0</td>\n    </tr>\n  </tbody>\n</table>\n</div>",
      "text/plain": "   Id  Store  DayOfWeek        Date  Open  Promo StateHoliday  SchoolHoliday\n0   1      1          4  2015-09-17   1.0      1            0              0\n1   2      3          4  2015-09-17   1.0      1            0              0\n2   3      7          4  2015-09-17   1.0      1            0              0\n3   4      8          4  2015-09-17   1.0      1            0              0\n4   5      9          4  2015-09-17   1.0      1            0              0\n5   6     10          4  2015-09-17   1.0      1            0              0\n6   7     11          4  2015-09-17   1.0      1            0              0\n7   8     12          4  2015-09-17   1.0      1            0              0\n8   9     13          4  2015-09-17   1.0      1            0              0\n9  10     14          4  2015-09-17   1.0      1            0              0"
     },
     "execution_count": 200,
     "metadata": {},
     "output_type": "execute_result"
    }
   ],
   "source": [
    "# reading test data\n",
    "test_df = csv_helper.read_csv(\"../data/test.csv\")\n",
    "test_df.head(10)"
   ]
  },
  {
   "cell_type": "code",
   "execution_count": 201,
   "metadata": {},
   "outputs": [
    {
     "name": "stderr",
     "output_type": "stream",
     "text": [
      "<ipython-input-201-6ddd59d5ca57>:7: UserWarning:\n",
      "\n",
      "Matplotlib is currently using module://ipykernel.pylab.backend_inline, which is a non-GUI backend, so cannot show the figure.\n",
      "\n"
     ]
    },
    {
     "data": {
      "image/png": "[encoded data removed]",
      "text/plain": "<Figure size 864x288 with 2 Axes>"
     },
     "metadata": {
      "needs_background": "light"
     },
     "output_type": "display_data"
    }
   ],
   "source": [
    "fig, ax = plt.subplots(1, 2, sharex=True, figsize=(12, 4))\n",
    "ax[0].set_title(\"Train\")\n",
    "sns.countplot(x='Promo', data=train_df, ax=ax[0])\n",
    "ax[1].set_title(\"Test\")\n",
    "sns.countplot(x='Promo', data=test_df, ax=ax[1])\n",
    "fig.subplots_adjust(wspace=0.5)\n",
    "fig.show()"
   ]
  },
  {
   "cell_type": "markdown",
   "metadata": {},
   "source": [
    "The distribution of promotion is almost the same in both datasets."
   ]
  },
  {
   "cell_type": "markdown",
   "metadata": {},
   "source": [
    "### Monthly sales trend per store type"
   ]
  },
  {
   "cell_type": "code",
   "execution_count": 207,
   "metadata": {},
   "outputs": [],
   "source": [
    "store_type_a = df[df.StoreType == 'a']\n",
    "store_type_b = df[df.StoreType == 'b']\n",
    "store_type_c = df[df.StoreType == 'c']\n",
    "store_type_d = df[df.StoreType == 'd']"
   ]
  },
  {
   "cell_type": "code",
   "execution_count": 208,
   "metadata": {},
   "outputs": [
    {
     "data": {
      "image/png": "[encoded data removed]",
      "text/plain": "<Figure size 720x648 with 1 Axes>"
     },
     "metadata": {
      "needs_background": "light"
     },
     "output_type": "display_data"
    }
   ],
   "source": [
    "plt.subplots(figsize = (10, 9))\n",
    "sns.lineplot(x = store_type_a.Month, y = store_type_a.Sales, label=\"Store Type A\")\n",
    "sns.lineplot(x = store_type_b.Month, y = store_type_b.Sales, label=\"Store Type B\")\n",
    "sns.lineplot(x = store_type_c.Month, y = store_type_c.Sales, label=\"Store Type C\")\n",
    "sns.lineplot(x = store_type_d.Month, y = store_type_d.Sales, label=\"Store Type D\")\n",
    "plt.show()"
   ]
  },
  {
   "cell_type": "markdown",
   "metadata": {},
   "source": [
    "### Sales before, after and during christmas"
   ]
  },
  {
   "cell_type": "code",
   "execution_count": 210,
   "metadata": {},
   "outputs": [
    {
     "name": "stderr",
     "output_type": "stream",
     "text": [
      "/home/z/anaconda3/lib/python3.8/site-packages/seaborn/categorical.py:3704: UserWarning:\n",
      "\n",
      "The `factorplot` function has been renamed to `catplot`. The original name will be removed in a future release. Please update your code. Note that the default `kind` in `factorplot` (`'point'`) has changed `'strip'` in `catplot`.\n",
      "\n"
     ]
    },
    {
     "data": {
      "text/plain": "<seaborn.axisgrid.FacetGrid at 0x7f46094aadf0>"
     },
     "execution_count": 210,
     "metadata": {},
     "output_type": "execute_result"
    },
    {
     "data": {
      "image/png": "[encoded data removed]",
      "text/plain": "<Figure size 1482.38x360 with 4 Axes>"
     },
     "metadata": {
      "needs_background": "light"
     },
     "output_type": "display_data"
    }
   ],
   "source": [
    "sns.factorplot(data = df, x = 'Month', y = \"Sales\", \n",
    "               col = 'StoreType', # per store type in cols\n",
    "               palette = 'plasma',\n",
    "               hue = 'Promo',\n",
    "               title='Promotion impact on sales per store types')"
   ]
  },
  {
   "cell_type": "code",
   "execution_count": 211,
   "metadata": {},
   "outputs": [
    {
     "name": "stderr",
     "output_type": "stream",
     "text": [
      "/home/z/anaconda3/lib/python3.8/site-packages/seaborn/categorical.py:3704: UserWarning:\n",
      "\n",
      "The `factorplot` function has been renamed to `catplot`. The original name will be removed in a future release. Please update your code. Note that the default `kind` in `factorplot` (`'point'`) has changed `'strip'` in `catplot`.\n",
      "\n"
     ]
    },
    {
     "data": {
      "text/plain": "<seaborn.axisgrid.FacetGrid at 0x7f45c0ba5100>"
     },
     "execution_count": 211,
     "metadata": {},
     "output_type": "execute_result"
    },
    {
     "data": {
      "image/png": "[encoded data removed]",
      "text/plain": "<Figure size 1482.38x360 with 4 Axes>"
     },
     "metadata": {
      "needs_background": "light"
     },
     "output_type": "display_data"
    }
   ],
   "source": [
    "sns.factorplot(data = df, x = 'Month', y = \"Customers\", \n",
    "               col = 'StoreType', # per store type in cols\n",
    "               palette = 'plasma',\n",
    "               hue = 'Promo',\n",
    "               title='Promotion impact on sales per store types')"
   ]
  },
  {
   "cell_type": "code",
   "execution_count": null,
   "metadata": {},
   "outputs": [
    {
     "name": "stderr",
     "output_type": "stream",
     "text": [
      "/home/z/anaconda3/lib/python3.8/site-packages/seaborn/categorical.py:3704: UserWarning: The `factorplot` function has been renamed to `catplot`. The original name will be removed in a future release. Please update your code. Note that the default `kind` in `factorplot` (`'point'`) has changed `'strip'` in `catplot`.\n",
      "  warnings.warn(msg)\n"
     ]
    },
    {
     "data": {
      "text/plain": "<seaborn.axisgrid.FacetGrid at 0x7f8f3445e3d0>"
     },
     "execution_count": 91,
     "metadata": {},
     "output_type": "execute_result"
    },
    {
     "data": {
      "image/png": "[encoded data removed]",
      "text/plain": "<Figure size 1080x360 with 3 Axes>"
     },
     "metadata": {
      "needs_background": "light"
     },
     "output_type": "display_data"
    }
   ],
   "source": [
    "sns.factorplot(data = df, x = 'Month', y = 'Sales', col='Assortment', hue='Assortment')"
   ]
  },
  {
   "cell_type": "code",
   "execution_count": null,
   "metadata": {},
   "outputs": [
    {
     "data": {
      "text/plain": "<AxesSubplot:xlabel='Month', ylabel='Sales'>"
     },
     "execution_count": 108,
     "metadata": {},
     "output_type": "execute_result"
    },
    {
     "data": {
      "image/png": "[encoded data removed]",
      "text/plain": "<Figure size 648x576 with 1 Axes>"
     },
     "metadata": {
      "needs_background": "light"
     },
     "output_type": "display_data"
    }
   ],
   "source": [
    "plt.subplots(figsize = (9, 8))\n",
    "sns.lineplot(x = 'Month', y = 'Sales', data = df)"
   ]
  },
  {
   "cell_type": "code",
   "execution_count": null,
   "metadata": {},
   "outputs": [
    {
     "data": {
      "image/png": "[encoded data removed]",
      "text/plain": "<Figure size 936x432 with 1 Axes>"
     },
     "metadata": {
      "needs_background": "light"
     },
     "output_type": "display_data"
    }
   ],
   "source": [
    "before_index = (train_df[\"Date\"] >= pd.to_datetime(\"2013-11-25\")) & (train_df[\"Date\"] < pd.to_datetime(\"2013-12-25\"))\n",
    "before_xmass = train_df[before_index].groupby(\"Date\").agg({\"Sales\": \"mean\"})\n",
    "\n",
    "during_index = (train_df[\"Date\"] >= pd.to_datetime(\"2013-12-25\")) & (train_df[\"Date\"] < pd.to_datetime(\"2013-12-30\"))\n",
    "during_xmass = train_df[during_index].groupby(\"Date\").agg({\"Sales\": \"mean\"})\n",
    "\n",
    "after_index = (train_df[\"Date\"] >= pd.to_datetime(\"2014-01-01\")) & (train_df[\"Date\"] < pd.to_datetime(\"2014-02-02\"))\n",
    "after_xmass = train_df[after_index].groupby(\"Date\").agg({\"Sales\": \"mean\"})\n",
    "\n",
    "\n",
    "plt.figure(figsize=(13, 6))\n",
    "\n",
    "sns.lineplot(x = before_xmass.index, y = before_xmass[\"Sales\"], label='Before Christmas')\n",
    "sns.lineplot(x = during_xmass.index, y = during_xmass[\"Sales\"], label='During Christmas')\n",
    "sns.lineplot(x = after_xmass.index, y = after_xmass[\"Sales\"], label='After Christmas')\n",
    "\n",
    "plt.title(\"\\n Christmass Sales 2013/2014 \\n\", size=20)\n",
    "plt.xticks(fontsize=14)\n",
    "plt.yticks(fontsize=14)\n",
    "plt.xlabel(xlabel=\"Date\", fontsize=16)\n",
    "plt.ylabel(ylabel=\"Sales\", fontsize=16)\n",
    "plt.show()"
   ]
  }
 ],
 "metadata": {
  "kernelspec": {
   "display_name": "Python 3.8.5 64-bit ('base': conda)",
   "name": "python385jvsc74a57bd0c30745a67ab3077685183c6616f760120387d2e186c7e6a99675e86d34cdfa12"
  },
  "language_info": {
   "codemirror_mode": {
    "name": "ipython",
    "version": 3
   },
   "file_extension": ".py",
   "mimetype": "text/x-python",
   "name": "python",
   "nbconvert_exporter": "python",
   "pygments_lexer": "ipython3",
   "version": "3.8.5"
  },
  "orig_nbformat": 2
 },
 "nbformat": 4,
 "nbformat_minor": 2
}